{
  "nbformat": 4,
  "nbformat_minor": 0,
  "metadata": {
    "colab": {
      "name": "Text Analysis.ipynb",
      "provenance": [],
      "include_colab_link": true
    },
    "kernelspec": {
      "display_name": "Python 3",
      "name": "python3"
    },
    "language_info": {
      "name": "python"
    }
  },
  "cells": [
    {
      "cell_type": "markdown",
      "metadata": {
        "id": "view-in-github",
        "colab_type": "text"
      },
      "source": [
        "<a href=\"https://colab.research.google.com/github/ugr-gowthamraj/Sentimental-Analysis-of-product-reviews-using-Python/blob/main/Text_Analysis.ipynb\" target=\"_parent\"><img src=\"https://colab.research.google.com/assets/colab-badge.svg\" alt=\"Open In Colab\"/></a>"
      ]
    },
    {
      "cell_type": "markdown",
      "metadata": {
        "id": "z6kuP8vCfxee"
      },
      "source": [
        "#Installing libraries"
      ]
    },
    {
      "cell_type": "code",
      "metadata": {
        "colab": {
          "base_uri": "https://localhost:8080/"
        },
        "id": "kR1yimMBfuay",
        "outputId": "76109a9d-de27-4189-aba7-a5052b4b2caa"
      },
      "source": [
        "!pip install nltk"
      ],
      "execution_count": null,
      "outputs": [
        {
          "output_type": "stream",
          "name": "stdout",
          "text": [
            "Requirement already satisfied: nltk in /usr/local/lib/python3.7/dist-packages (3.2.5)\n",
            "Requirement already satisfied: six in /usr/local/lib/python3.7/dist-packages (from nltk) (1.15.0)\n"
          ]
        }
      ]
    },
    {
      "cell_type": "code",
      "metadata": {
        "colab": {
          "base_uri": "https://localhost:8080/"
        },
        "id": "fATYpH8pe2qX",
        "outputId": "d0c1eb18-ded0-4cb4-a81c-d793bea57217"
      },
      "source": [
        "!pip install afinn"
      ],
      "execution_count": null,
      "outputs": [
        {
          "output_type": "stream",
          "name": "stdout",
          "text": [
            "Requirement already satisfied: afinn in /usr/local/lib/python3.7/dist-packages (0.1)\n"
          ]
        }
      ]
    },
    {
      "cell_type": "markdown",
      "metadata": {
        "id": "WfcbVOa5de4O"
      },
      "source": [
        "#Importing libraries"
      ]
    },
    {
      "cell_type": "code",
      "metadata": {
        "id": "EHvMn_aodXOd",
        "colab": {
          "base_uri": "https://localhost:8080/"
        },
        "outputId": "f68d19a0-2011-4531-ed33-1448040a821f"
      },
      "source": [
        "from google.colab import files                                                    #for file operations in colab\n",
        "import io                                                                         #for i/o operations in colab\n",
        "import numpy as np                                                                #for arrays                                                \n",
        "import pandas as pd                                                               #for dataframes\n",
        "import nltk                                                                       #for text analysis --> Natural Language processing toolkit\n",
        "nltk.download('punkt')                                                            #needed for conveting text into tokens\n",
        "from nltk.tokenize import RegexpTokenizer                                         #for removing punctuations\n",
        "from nltk.tokenize import sent_tokenize, word_tokenize                            #for tokenizing                         \n",
        "nltk.download('stopwords')                                                        #needed for stops words\n",
        "from nltk.corpus import stopwords                                                 #for filtering stops words\n",
        "from nltk.stem import PorterStemmer                                               #for stemming\n",
        "from nltk.stem.snowball import SnowballStemmer                                    #for stemming\n",
        "nltk.download('wordnet')                                                          #needed for Lemmatizing\n",
        "from nltk.stem.wordnet import WordNetLemmatizer                                   #for Lemmatization\n",
        "from afinn import Afinn                                                           #for Sentimental analysis\n",
        "import re\n"
      ],
      "execution_count": null,
      "outputs": [
        {
          "output_type": "stream",
          "name": "stdout",
          "text": [
            "[nltk_data] Downloading package punkt to /root/nltk_data...\n",
            "[nltk_data]   Package punkt is already up-to-date!\n",
            "[nltk_data] Downloading package stopwords to /root/nltk_data...\n",
            "[nltk_data]   Package stopwords is already up-to-date!\n",
            "[nltk_data] Downloading package wordnet to /root/nltk_data...\n",
            "[nltk_data]   Package wordnet is already up-to-date!\n"
          ]
        }
      ]
    },
    {
      "cell_type": "markdown",
      "metadata": {
        "id": "TUDq-fTNdsLV"
      },
      "source": [
        "#Uploading file"
      ]
    },
    {
      "cell_type": "code",
      "metadata": {
        "colab": {
          "resources": {
            "http://localhost:8080/nbextensions/google.colab/files.js": {
              "data": "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",
              "ok": true,
              "headers": [
                [
                  "content-type",
                  "application/javascript"
                ]
              ],
              "status": 200,
              "status_text": "OK"
            }
          },
          "base_uri": "https://localhost:8080/",
          "height": 75
        },
        "id": "NyioEycHdvYN",
        "outputId": "67966694-e0bf-4bbf-d5f7-0aaaff4538ff"
      },
      "source": [
        "file_upload = files.upload()"
      ],
      "execution_count": null,
      "outputs": [
        {
          "output_type": "display_data",
          "data": {
            "text/html": [
              "\n",
              "     <input type=\"file\" id=\"files-6f53a6e3-a35a-46bd-b864-dca29ae68837\" name=\"files[]\" multiple disabled\n",
              "        style=\"border:none\" />\n",
              "     <output id=\"result-6f53a6e3-a35a-46bd-b864-dca29ae68837\">\n",
              "      Upload widget is only available when the cell has been executed in the\n",
              "      current browser session. Please rerun this cell to enable.\n",
              "      </output>\n",
              "      <script src=\"/nbextensions/google.colab/files.js\"></script> "
            ],
            "text/plain": [
              "<IPython.core.display.HTML object>"
            ]
          },
          "metadata": {}
        },
        {
          "output_type": "stream",
          "name": "stdout",
          "text": [
            "Saving Unlock 1.0.csv to Unlock 1.0 (1).csv\n"
          ]
        }
      ]
    },
    {
      "cell_type": "code",
      "metadata": {
        "colab": {
          "base_uri": "https://localhost:8080/",
          "height": 206
        },
        "id": "vJCirDoMdzb9",
        "outputId": "ae6797a6-8149-41d2-eca3-80ac69de1169"
      },
      "source": [
        "dataset = pd.read_csv(io.BytesIO(file_upload['Unlock 1.0.csv'])) \n",
        "dataset.head()"
      ],
      "execution_count": null,
      "outputs": [
        {
          "output_type": "execute_result",
          "data": {
            "text/html": [
              "<div>\n",
              "<style scoped>\n",
              "    .dataframe tbody tr th:only-of-type {\n",
              "        vertical-align: middle;\n",
              "    }\n",
              "\n",
              "    .dataframe tbody tr th {\n",
              "        vertical-align: top;\n",
              "    }\n",
              "\n",
              "    .dataframe thead th {\n",
              "        text-align: right;\n",
              "    }\n",
              "</style>\n",
              "<table border=\"1\" class=\"dataframe\">\n",
              "  <thead>\n",
              "    <tr style=\"text-align: right;\">\n",
              "      <th></th>\n",
              "      <th>Sentiment</th>\n",
              "      <th>Comments</th>\n",
              "    </tr>\n",
              "  </thead>\n",
              "  <tbody>\n",
              "    <tr>\n",
              "      <th>0</th>\n",
              "      <td>0</td>\n",
              "      <td>I will not pay any money in future please keep...</td>\n",
              "    </tr>\n",
              "    <tr>\n",
              "      <th>1</th>\n",
              "      <td>0</td>\n",
              "      <td>Customer service num not response, My repaymen...</td>\n",
              "    </tr>\n",
              "    <tr>\n",
              "      <th>2</th>\n",
              "      <td>0</td>\n",
              "      <td>Please don't download this app this App , they...</td>\n",
              "    </tr>\n",
              "    <tr>\n",
              "      <th>3</th>\n",
              "      <td>0</td>\n",
              "      <td>What the hell is this once I get 1000 loan fro...</td>\n",
              "    </tr>\n",
              "    <tr>\n",
              "      <th>4</th>\n",
              "      <td>0</td>\n",
              "      <td>After making pre closure for all my loan, stil...</td>\n",
              "    </tr>\n",
              "  </tbody>\n",
              "</table>\n",
              "</div>"
            ],
            "text/plain": [
              "   Sentiment                                           Comments\n",
              "0          0  I will not pay any money in future please keep...\n",
              "1          0  Customer service num not response, My repaymen...\n",
              "2          0  Please don't download this app this App , they...\n",
              "3          0  What the hell is this once I get 1000 loan fro...\n",
              "4          0  After making pre closure for all my loan, stil..."
            ]
          },
          "metadata": {},
          "execution_count": 40
        }
      ]
    },
    {
      "cell_type": "code",
      "metadata": {
        "colab": {
          "base_uri": "https://localhost:8080/"
        },
        "id": "rxdOQQLu54Y2",
        "outputId": "0ddf544c-9236-4d41-ca51-c95ecf19689c"
      },
      "source": [
        "print(\"\\nCounting Given Sentiments\\n\",dataset['Sentiment'].value_counts())"
      ],
      "execution_count": null,
      "outputs": [
        {
          "output_type": "stream",
          "name": "stdout",
          "text": [
            "\n",
            "Counting Given Sentiments\n",
            " 0    423\n",
            "1    332\n",
            "Name: Sentiment, dtype: int64\n"
          ]
        }
      ]
    },
    {
      "cell_type": "markdown",
      "metadata": {
        "id": "3pTVm6JagLIf"
      },
      "source": [
        "#Data processing"
      ]
    },
    {
      "cell_type": "markdown",
      "metadata": {
        "id": "HSY3cwX9gM2e"
      },
      "source": [
        "##Creating new dataframe(df) for working on text analysis"
      ]
    },
    {
      "cell_type": "code",
      "metadata": {
        "colab": {
          "base_uri": "https://localhost:8080/",
          "height": 206
        },
        "id": "lyn4xUzdgTy1",
        "outputId": "4725aaa3-4176-47c8-aca5-2ca24a800360"
      },
      "source": [
        "df=pd.DataFrame(dataset, columns = ['Comments'])\n",
        "df.head()"
      ],
      "execution_count": null,
      "outputs": [
        {
          "output_type": "execute_result",
          "data": {
            "text/html": [
              "<div>\n",
              "<style scoped>\n",
              "    .dataframe tbody tr th:only-of-type {\n",
              "        vertical-align: middle;\n",
              "    }\n",
              "\n",
              "    .dataframe tbody tr th {\n",
              "        vertical-align: top;\n",
              "    }\n",
              "\n",
              "    .dataframe thead th {\n",
              "        text-align: right;\n",
              "    }\n",
              "</style>\n",
              "<table border=\"1\" class=\"dataframe\">\n",
              "  <thead>\n",
              "    <tr style=\"text-align: right;\">\n",
              "      <th></th>\n",
              "      <th>Comments</th>\n",
              "    </tr>\n",
              "  </thead>\n",
              "  <tbody>\n",
              "    <tr>\n",
              "      <th>0</th>\n",
              "      <td>I will not pay any money in future please keep...</td>\n",
              "    </tr>\n",
              "    <tr>\n",
              "      <th>1</th>\n",
              "      <td>Customer service num not response, My repaymen...</td>\n",
              "    </tr>\n",
              "    <tr>\n",
              "      <th>2</th>\n",
              "      <td>Please don't download this app this App , they...</td>\n",
              "    </tr>\n",
              "    <tr>\n",
              "      <th>3</th>\n",
              "      <td>What the hell is this once I get 1000 loan fro...</td>\n",
              "    </tr>\n",
              "    <tr>\n",
              "      <th>4</th>\n",
              "      <td>After making pre closure for all my loan, stil...</td>\n",
              "    </tr>\n",
              "  </tbody>\n",
              "</table>\n",
              "</div>"
            ],
            "text/plain": [
              "                                            Comments\n",
              "0  I will not pay any money in future please keep...\n",
              "1  Customer service num not response, My repaymen...\n",
              "2  Please don't download this app this App , they...\n",
              "3  What the hell is this once I get 1000 loan fro...\n",
              "4  After making pre closure for all my loan, stil..."
            ]
          },
          "metadata": {},
          "execution_count": 60
        }
      ]
    },
    {
      "cell_type": "markdown",
      "metadata": {
        "id": "Xkyyc7z8DEWY"
      },
      "source": [
        "###Converting the Comments to lower case"
      ]
    },
    {
      "cell_type": "code",
      "metadata": {
        "colab": {
          "base_uri": "https://localhost:8080/",
          "height": 206
        },
        "id": "zzZKyLHQDLOA",
        "outputId": "c83e7e83-5c28-4c16-c377-00399cf975fb"
      },
      "source": [
        "df['Comments']=df['Comments'].str.lower()\n",
        "df.head()"
      ],
      "execution_count": null,
      "outputs": [
        {
          "output_type": "execute_result",
          "data": {
            "text/html": [
              "<div>\n",
              "<style scoped>\n",
              "    .dataframe tbody tr th:only-of-type {\n",
              "        vertical-align: middle;\n",
              "    }\n",
              "\n",
              "    .dataframe tbody tr th {\n",
              "        vertical-align: top;\n",
              "    }\n",
              "\n",
              "    .dataframe thead th {\n",
              "        text-align: right;\n",
              "    }\n",
              "</style>\n",
              "<table border=\"1\" class=\"dataframe\">\n",
              "  <thead>\n",
              "    <tr style=\"text-align: right;\">\n",
              "      <th></th>\n",
              "      <th>Comments</th>\n",
              "    </tr>\n",
              "  </thead>\n",
              "  <tbody>\n",
              "    <tr>\n",
              "      <th>0</th>\n",
              "      <td>i will not pay any money in future please keep...</td>\n",
              "    </tr>\n",
              "    <tr>\n",
              "      <th>1</th>\n",
              "      <td>customer service num not response, my repaymen...</td>\n",
              "    </tr>\n",
              "    <tr>\n",
              "      <th>2</th>\n",
              "      <td>please don't download this app this app , they...</td>\n",
              "    </tr>\n",
              "    <tr>\n",
              "      <th>3</th>\n",
              "      <td>what the hell is this once i get 1000 loan fro...</td>\n",
              "    </tr>\n",
              "    <tr>\n",
              "      <th>4</th>\n",
              "      <td>after making pre closure for all my loan, stil...</td>\n",
              "    </tr>\n",
              "  </tbody>\n",
              "</table>\n",
              "</div>"
            ],
            "text/plain": [
              "                                            Comments\n",
              "0  i will not pay any money in future please keep...\n",
              "1  customer service num not response, my repaymen...\n",
              "2  please don't download this app this app , they...\n",
              "3  what the hell is this once i get 1000 loan fro...\n",
              "4  after making pre closure for all my loan, stil..."
            ]
          },
          "metadata": {},
          "execution_count": 61
        }
      ]
    },
    {
      "cell_type": "markdown",
      "metadata": {
        "id": "vQHsbpnOgaUk"
      },
      "source": [
        "##Tokenization"
      ]
    },
    {
      "cell_type": "markdown",
      "metadata": {
        "id": "MBMFYRk0-lFy"
      },
      "source": [
        "###Using RegexpTokenizer"
      ]
    },
    {
      "cell_type": "code",
      "metadata": {
        "colab": {
          "base_uri": "https://localhost:8080/",
          "height": 206
        },
        "id": "WFQO2YdX8Fdx",
        "outputId": "a4433460-1b65-4dc2-b0f4-60f4f9d810d3"
      },
      "source": [
        "tokenizer = RegexpTokenizer(r'\\w+')\n",
        "df['Tokens']=df.apply(lambda row: tokenizer.tokenize(row['Comments']), axis=1)\n",
        "df.head()"
      ],
      "execution_count": null,
      "outputs": [
        {
          "output_type": "execute_result",
          "data": {
            "text/html": [
              "<div>\n",
              "<style scoped>\n",
              "    .dataframe tbody tr th:only-of-type {\n",
              "        vertical-align: middle;\n",
              "    }\n",
              "\n",
              "    .dataframe tbody tr th {\n",
              "        vertical-align: top;\n",
              "    }\n",
              "\n",
              "    .dataframe thead th {\n",
              "        text-align: right;\n",
              "    }\n",
              "</style>\n",
              "<table border=\"1\" class=\"dataframe\">\n",
              "  <thead>\n",
              "    <tr style=\"text-align: right;\">\n",
              "      <th></th>\n",
              "      <th>Comments</th>\n",
              "      <th>Tokens</th>\n",
              "    </tr>\n",
              "  </thead>\n",
              "  <tbody>\n",
              "    <tr>\n",
              "      <th>0</th>\n",
              "      <td>i will not pay any money in future please keep...</td>\n",
              "      <td>[i, will, not, pay, any, money, in, future, pl...</td>\n",
              "    </tr>\n",
              "    <tr>\n",
              "      <th>1</th>\n",
              "      <td>customer service num not response, my repaymen...</td>\n",
              "      <td>[customer, service, num, not, response, my, re...</td>\n",
              "    </tr>\n",
              "    <tr>\n",
              "      <th>2</th>\n",
              "      <td>please don't download this app this app , they...</td>\n",
              "      <td>[please, don, t, download, this, app, this, ap...</td>\n",
              "    </tr>\n",
              "    <tr>\n",
              "      <th>3</th>\n",
              "      <td>what the hell is this once i get 1000 loan fro...</td>\n",
              "      <td>[what, the, hell, is, this, once, i, get, 1000...</td>\n",
              "    </tr>\n",
              "    <tr>\n",
              "      <th>4</th>\n",
              "      <td>after making pre closure for all my loan, stil...</td>\n",
              "      <td>[after, making, pre, closure, for, all, my, lo...</td>\n",
              "    </tr>\n",
              "  </tbody>\n",
              "</table>\n",
              "</div>"
            ],
            "text/plain": [
              "                                            Comments                                             Tokens\n",
              "0  i will not pay any money in future please keep...  [i, will, not, pay, any, money, in, future, pl...\n",
              "1  customer service num not response, my repaymen...  [customer, service, num, not, response, my, re...\n",
              "2  please don't download this app this app , they...  [please, don, t, download, this, app, this, ap...\n",
              "3  what the hell is this once i get 1000 loan fro...  [what, the, hell, is, this, once, i, get, 1000...\n",
              "4  after making pre closure for all my loan, stil...  [after, making, pre, closure, for, all, my, lo..."
            ]
          },
          "metadata": {},
          "execution_count": 62
        }
      ]
    },
    {
      "cell_type": "markdown",
      "metadata": {
        "id": "ZMXZEMHD_Qby"
      },
      "source": [
        "###Using WordTokenizer"
      ]
    },
    {
      "cell_type": "code",
      "metadata": {
        "id": "_kIqokZZgdNO"
      },
      "source": [
        "#df['Tokens']=df.apply(lambda row: nltk.word_tokenize(row['Comments']), axis=1)\n",
        "#df.head()"
      ],
      "execution_count": null,
      "outputs": []
    },
    {
      "cell_type": "markdown",
      "metadata": {
        "id": "wl-F7SQrk5fm"
      },
      "source": [
        "##Remove Stopwords"
      ]
    },
    {
      "cell_type": "markdown",
      "metadata": {
        "id": "qkDlYoj__W49"
      },
      "source": [
        "###Using library for stopwords"
      ]
    },
    {
      "cell_type": "code",
      "metadata": {
        "id": "mg7-G0TRk8ut"
      },
      "source": [
        "#stop_wordsl=set(stopwords.words(\"english\"))\n",
        "#print(stop_wordsl)\n",
        "#df['Filtered Tokens']=df['Tokens'].apply(lambda x: [item for item in x if item not in stop_words])\n",
        "#df.head()"
      ],
      "execution_count": null,
      "outputs": []
    },
    {
      "cell_type": "markdown",
      "metadata": {
        "id": "WV6A0dON_eu_"
      },
      "source": [
        "###Using custom stop words"
      ]
    },
    {
      "cell_type": "code",
      "metadata": {
        "colab": {
          "resources": {
            "http://localhost:8080/nbextensions/google.colab/files.js": {
              "data": "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",
              "ok": true,
              "headers": [
                [
                  "content-type",
                  "application/javascript"
                ]
              ],
              "status": 200,
              "status_text": "OK"
            }
          },
          "base_uri": "https://localhost:8080/",
          "height": 75
        },
        "id": "ZEbDO46Q_jGC",
        "outputId": "bc461313-cdf4-4589-ede3-ed7a69698eb3"
      },
      "source": [
        "file_upload = files.upload()"
      ],
      "execution_count": null,
      "outputs": [
        {
          "output_type": "display_data",
          "data": {
            "text/html": [
              "\n",
              "     <input type=\"file\" id=\"files-fa22b2d2-22c0-4e3e-bd11-3abf31c3a6a1\" name=\"files[]\" multiple disabled\n",
              "        style=\"border:none\" />\n",
              "     <output id=\"result-fa22b2d2-22c0-4e3e-bd11-3abf31c3a6a1\">\n",
              "      Upload widget is only available when the cell has been executed in the\n",
              "      current browser session. Please rerun this cell to enable.\n",
              "      </output>\n",
              "      <script src=\"/nbextensions/google.colab/files.js\"></script> "
            ],
            "text/plain": [
              "<IPython.core.display.HTML object>"
            ]
          },
          "metadata": {}
        },
        {
          "output_type": "stream",
          "name": "stdout",
          "text": [
            "Saving stopwords-1.txt to stopwords-1 (2).txt\n"
          ]
        }
      ]
    },
    {
      "cell_type": "code",
      "metadata": {
        "colab": {
          "base_uri": "https://localhost:8080/"
        },
        "id": "b2mwSG5C_zu9",
        "outputId": "6d1b4c9f-a071-4b85-a2c9-a8103e25a707"
      },
      "source": [
        "stop_df= pd.read_csv(io.StringIO(file_upload['stopwords-1.txt'].decode('utf-8')))\n",
        "#stop_df.head()\n",
        "stop_words=stop_df.iloc[::].values\n",
        "print(stop_words)"
      ],
      "execution_count": null,
      "outputs": [
        {
          "output_type": "stream",
          "name": "stdout",
          "text": [
            "[['loan']\n",
            " ['instant']\n",
            " ['amazing']\n",
            " ...\n",
            " ['should']\n",
            " ['such']\n",
            " ['does']]\n"
          ]
        }
      ]
    },
    {
      "cell_type": "code",
      "metadata": {
        "colab": {
          "base_uri": "https://localhost:8080/",
          "height": 206
        },
        "id": "XFCRTzW1CEVW",
        "outputId": "5bd5b00b-5e2d-47a4-e2bf-b0884b115052"
      },
      "source": [
        "df['Filtered Tokens']=df['Tokens'].apply(lambda x: [item for item in x if item not in stop_words])\n",
        "df.head()"
      ],
      "execution_count": null,
      "outputs": [
        {
          "output_type": "execute_result",
          "data": {
            "text/html": [
              "<div>\n",
              "<style scoped>\n",
              "    .dataframe tbody tr th:only-of-type {\n",
              "        vertical-align: middle;\n",
              "    }\n",
              "\n",
              "    .dataframe tbody tr th {\n",
              "        vertical-align: top;\n",
              "    }\n",
              "\n",
              "    .dataframe thead th {\n",
              "        text-align: right;\n",
              "    }\n",
              "</style>\n",
              "<table border=\"1\" class=\"dataframe\">\n",
              "  <thead>\n",
              "    <tr style=\"text-align: right;\">\n",
              "      <th></th>\n",
              "      <th>Comments</th>\n",
              "      <th>Tokens</th>\n",
              "      <th>Filtered Tokens</th>\n",
              "    </tr>\n",
              "  </thead>\n",
              "  <tbody>\n",
              "    <tr>\n",
              "      <th>0</th>\n",
              "      <td>i will not pay any money in future please keep...</td>\n",
              "      <td>[i, will, not, pay, any, money, in, future, pl...</td>\n",
              "      <td>[future, mind, guys, reference, future, mind, ...</td>\n",
              "    </tr>\n",
              "    <tr>\n",
              "      <th>1</th>\n",
              "      <td>customer service num not response, my repaymen...</td>\n",
              "      <td>[customer, service, num, not, response, my, re...</td>\n",
              "      <td>[customer, service, num, response, repayment, ...</td>\n",
              "    </tr>\n",
              "    <tr>\n",
              "      <th>2</th>\n",
              "      <td>please don't download this app this app , they...</td>\n",
              "      <td>[please, don, t, download, this, app, this, ap...</td>\n",
              "      <td>[download, threatened, payment, contact, send,...</td>\n",
              "    </tr>\n",
              "    <tr>\n",
              "      <th>3</th>\n",
              "      <td>what the hell is this once i get 1000 loan fro...</td>\n",
              "      <td>[what, the, hell, is, this, once, i, get, 1000...</td>\n",
              "      <td>[apply, message, match, criteria, ffffffkkkkkk]</td>\n",
              "    </tr>\n",
              "    <tr>\n",
              "      <th>4</th>\n",
              "      <td>after making pre closure for all my loan, stil...</td>\n",
              "      <td>[after, making, pre, closure, for, all, my, lo...</td>\n",
              "      <td>[pre, closure, emi, frustrating, friends]</td>\n",
              "    </tr>\n",
              "  </tbody>\n",
              "</table>\n",
              "</div>"
            ],
            "text/plain": [
              "                                            Comments  ...                                    Filtered Tokens\n",
              "0  i will not pay any money in future please keep...  ...  [future, mind, guys, reference, future, mind, ...\n",
              "1  customer service num not response, my repaymen...  ...  [customer, service, num, response, repayment, ...\n",
              "2  please don't download this app this app , they...  ...  [download, threatened, payment, contact, send,...\n",
              "3  what the hell is this once i get 1000 loan fro...  ...    [apply, message, match, criteria, ffffffkkkkkk]\n",
              "4  after making pre closure for all my loan, stil...  ...          [pre, closure, emi, frustrating, friends]\n",
              "\n",
              "[5 rows x 3 columns]"
            ]
          },
          "metadata": {},
          "execution_count": 66
        }
      ]
    },
    {
      "cell_type": "markdown",
      "metadata": {
        "id": "vFJSdk7-otrN"
      },
      "source": [
        "##Stemming"
      ]
    },
    {
      "cell_type": "code",
      "metadata": {
        "colab": {
          "base_uri": "https://localhost:8080/",
          "height": 241
        },
        "id": "lYJETOmzovsf",
        "outputId": "8fe8f175-c476-4542-fb9f-b59118846b10"
      },
      "source": [
        "ps = PorterStemmer()\n",
        "ss=SnowballStemmer(\"english\")\n",
        "df['Stemmed Filtered Tokens']=df['Filtered Tokens'].apply(lambda x: [ss.stem(y) for y in x])\n",
        "df.head()"
      ],
      "execution_count": null,
      "outputs": [
        {
          "output_type": "execute_result",
          "data": {
            "text/html": [
              "<div>\n",
              "<style scoped>\n",
              "    .dataframe tbody tr th:only-of-type {\n",
              "        vertical-align: middle;\n",
              "    }\n",
              "\n",
              "    .dataframe tbody tr th {\n",
              "        vertical-align: top;\n",
              "    }\n",
              "\n",
              "    .dataframe thead th {\n",
              "        text-align: right;\n",
              "    }\n",
              "</style>\n",
              "<table border=\"1\" class=\"dataframe\">\n",
              "  <thead>\n",
              "    <tr style=\"text-align: right;\">\n",
              "      <th></th>\n",
              "      <th>Comments</th>\n",
              "      <th>Tokens</th>\n",
              "      <th>Filtered Tokens</th>\n",
              "      <th>Stemmed Filtered Tokens</th>\n",
              "    </tr>\n",
              "  </thead>\n",
              "  <tbody>\n",
              "    <tr>\n",
              "      <th>0</th>\n",
              "      <td>i will not pay any money in future please keep...</td>\n",
              "      <td>[i, will, not, pay, any, money, in, future, pl...</td>\n",
              "      <td>[future, mind, guys, reference, future, mind, ...</td>\n",
              "      <td>[futur, mind, guy, refer, futur, mind, 24, hou...</td>\n",
              "    </tr>\n",
              "    <tr>\n",
              "      <th>1</th>\n",
              "      <td>customer service num not response, my repaymen...</td>\n",
              "      <td>[customer, service, num, not, response, my, re...</td>\n",
              "      <td>[customer, service, num, response, repayment, ...</td>\n",
              "      <td>[custom, servic, num, respons, repay, month, a...</td>\n",
              "    </tr>\n",
              "    <tr>\n",
              "      <th>2</th>\n",
              "      <td>please don't download this app this app , they...</td>\n",
              "      <td>[please, don, t, download, this, app, this, ap...</td>\n",
              "      <td>[download, threatened, payment, contact, send,...</td>\n",
              "      <td>[download, threaten, payment, contact, send, r...</td>\n",
              "    </tr>\n",
              "    <tr>\n",
              "      <th>3</th>\n",
              "      <td>what the hell is this once i get 1000 loan fro...</td>\n",
              "      <td>[what, the, hell, is, this, once, i, get, 1000...</td>\n",
              "      <td>[apply, message, match, criteria, ffffffkkkkkk]</td>\n",
              "      <td>[appli, messag, match, criteria, ffffffkkkkkk]</td>\n",
              "    </tr>\n",
              "    <tr>\n",
              "      <th>4</th>\n",
              "      <td>after making pre closure for all my loan, stil...</td>\n",
              "      <td>[after, making, pre, closure, for, all, my, lo...</td>\n",
              "      <td>[pre, closure, emi, frustrating, friends]</td>\n",
              "      <td>[pre, closur, emi, frustrat, friend]</td>\n",
              "    </tr>\n",
              "  </tbody>\n",
              "</table>\n",
              "</div>"
            ],
            "text/plain": [
              "                                            Comments  ...                            Stemmed Filtered Tokens\n",
              "0  i will not pay any money in future please keep...  ...  [futur, mind, guy, refer, futur, mind, 24, hou...\n",
              "1  customer service num not response, my repaymen...  ...  [custom, servic, num, respons, repay, month, a...\n",
              "2  please don't download this app this app , they...  ...  [download, threaten, payment, contact, send, r...\n",
              "3  what the hell is this once i get 1000 loan fro...  ...     [appli, messag, match, criteria, ffffffkkkkkk]\n",
              "4  after making pre closure for all my loan, stil...  ...               [pre, closur, emi, frustrat, friend]\n",
              "\n",
              "[5 rows x 4 columns]"
            ]
          },
          "metadata": {},
          "execution_count": 67
        }
      ]
    },
    {
      "cell_type": "markdown",
      "metadata": {
        "id": "c-qwe6u6r6Np"
      },
      "source": [
        "##Lemmatization"
      ]
    },
    {
      "cell_type": "code",
      "metadata": {
        "colab": {
          "base_uri": "https://localhost:8080/",
          "height": 293
        },
        "id": "UA_3UwYNr9Jh",
        "outputId": "1137dcbb-bdb1-4e1e-8d78-cde36c52039b"
      },
      "source": [
        "lem = WordNetLemmatizer()\n",
        "df['Lemmatized Filtered Tokens']=df['Filtered Tokens'].apply(lambda x: [lem.lemmatize(y,\"v\") for y in x])\n",
        "df.head()\n"
      ],
      "execution_count": null,
      "outputs": [
        {
          "output_type": "execute_result",
          "data": {
            "text/html": [
              "<div>\n",
              "<style scoped>\n",
              "    .dataframe tbody tr th:only-of-type {\n",
              "        vertical-align: middle;\n",
              "    }\n",
              "\n",
              "    .dataframe tbody tr th {\n",
              "        vertical-align: top;\n",
              "    }\n",
              "\n",
              "    .dataframe thead th {\n",
              "        text-align: right;\n",
              "    }\n",
              "</style>\n",
              "<table border=\"1\" class=\"dataframe\">\n",
              "  <thead>\n",
              "    <tr style=\"text-align: right;\">\n",
              "      <th></th>\n",
              "      <th>Comments</th>\n",
              "      <th>Tokens</th>\n",
              "      <th>Filtered Tokens</th>\n",
              "      <th>Stemmed Filtered Tokens</th>\n",
              "      <th>Lemmatized Filtered Tokens</th>\n",
              "    </tr>\n",
              "  </thead>\n",
              "  <tbody>\n",
              "    <tr>\n",
              "      <th>0</th>\n",
              "      <td>i will not pay any money in future please keep...</td>\n",
              "      <td>[i, will, not, pay, any, money, in, future, pl...</td>\n",
              "      <td>[future, mind, guys, reference, future, mind, ...</td>\n",
              "      <td>[futur, mind, guy, refer, futur, mind, 24, hou...</td>\n",
              "      <td>[future, mind, guy, reference, future, mind, 2...</td>\n",
              "    </tr>\n",
              "    <tr>\n",
              "      <th>1</th>\n",
              "      <td>customer service num not response, my repaymen...</td>\n",
              "      <td>[customer, service, num, not, response, my, re...</td>\n",
              "      <td>[customer, service, num, response, repayment, ...</td>\n",
              "      <td>[custom, servic, num, respons, repay, month, a...</td>\n",
              "      <td>[customer, service, num, response, repayment, ...</td>\n",
              "    </tr>\n",
              "    <tr>\n",
              "      <th>2</th>\n",
              "      <td>please don't download this app this app , they...</td>\n",
              "      <td>[please, don, t, download, this, app, this, ap...</td>\n",
              "      <td>[download, threatened, payment, contact, send,...</td>\n",
              "      <td>[download, threaten, payment, contact, send, r...</td>\n",
              "      <td>[download, threaten, payment, contact, send, r...</td>\n",
              "    </tr>\n",
              "    <tr>\n",
              "      <th>3</th>\n",
              "      <td>what the hell is this once i get 1000 loan fro...</td>\n",
              "      <td>[what, the, hell, is, this, once, i, get, 1000...</td>\n",
              "      <td>[apply, message, match, criteria, ffffffkkkkkk]</td>\n",
              "      <td>[appli, messag, match, criteria, ffffffkkkkkk]</td>\n",
              "      <td>[apply, message, match, criteria, ffffffkkkkkk]</td>\n",
              "    </tr>\n",
              "    <tr>\n",
              "      <th>4</th>\n",
              "      <td>after making pre closure for all my loan, stil...</td>\n",
              "      <td>[after, making, pre, closure, for, all, my, lo...</td>\n",
              "      <td>[pre, closure, emi, frustrating, friends]</td>\n",
              "      <td>[pre, closur, emi, frustrat, friend]</td>\n",
              "      <td>[pre, closure, emi, frustrate, friends]</td>\n",
              "    </tr>\n",
              "  </tbody>\n",
              "</table>\n",
              "</div>"
            ],
            "text/plain": [
              "                                            Comments  ...                         Lemmatized Filtered Tokens\n",
              "0  i will not pay any money in future please keep...  ...  [future, mind, guy, reference, future, mind, 2...\n",
              "1  customer service num not response, my repaymen...  ...  [customer, service, num, response, repayment, ...\n",
              "2  please don't download this app this app , they...  ...  [download, threaten, payment, contact, send, r...\n",
              "3  what the hell is this once i get 1000 loan fro...  ...    [apply, message, match, criteria, ffffffkkkkkk]\n",
              "4  after making pre closure for all my loan, stil...  ...            [pre, closure, emi, frustrate, friends]\n",
              "\n",
              "[5 rows x 5 columns]"
            ]
          },
          "metadata": {},
          "execution_count": 68
        }
      ]
    },
    {
      "cell_type": "markdown",
      "metadata": {
        "id": "APwwEQf4gXQk"
      },
      "source": [
        "#Sentimental Analysis"
      ]
    },
    {
      "cell_type": "markdown",
      "metadata": {
        "id": "OZhaY2cK4obq"
      },
      "source": [
        "##Using Afinn"
      ]
    },
    {
      "cell_type": "markdown",
      "metadata": {
        "id": "IEWr1Y8w-B2N"
      },
      "source": [
        "###Trying with Lemmas"
      ]
    },
    {
      "cell_type": "code",
      "metadata": {
        "colab": {
          "base_uri": "https://localhost:8080/",
          "height": 310
        },
        "id": "feiqtJXlgaaS",
        "outputId": "e5f10479-8fe4-41b3-bc10-7a2b46060a6f"
      },
      "source": [
        "af = Afinn()\n",
        "\n",
        "df['Afinn Score of Lem']=df['Lemmatized Filtered Tokens'].apply(lambda x: [af.score(y) for y in x])\n",
        "df.head()"
      ],
      "execution_count": null,
      "outputs": [
        {
          "output_type": "execute_result",
          "data": {
            "text/html": [
              "<div>\n",
              "<style scoped>\n",
              "    .dataframe tbody tr th:only-of-type {\n",
              "        vertical-align: middle;\n",
              "    }\n",
              "\n",
              "    .dataframe tbody tr th {\n",
              "        vertical-align: top;\n",
              "    }\n",
              "\n",
              "    .dataframe thead th {\n",
              "        text-align: right;\n",
              "    }\n",
              "</style>\n",
              "<table border=\"1\" class=\"dataframe\">\n",
              "  <thead>\n",
              "    <tr style=\"text-align: right;\">\n",
              "      <th></th>\n",
              "      <th>Comments</th>\n",
              "      <th>Tokens</th>\n",
              "      <th>Filtered Tokens</th>\n",
              "      <th>Stemmed Filtered Tokens</th>\n",
              "      <th>Lemmatized Filtered Tokens</th>\n",
              "      <th>Afinn Score of Lem</th>\n",
              "    </tr>\n",
              "  </thead>\n",
              "  <tbody>\n",
              "    <tr>\n",
              "      <th>0</th>\n",
              "      <td>i will not pay any money in future please keep...</td>\n",
              "      <td>[i, will, not, pay, any, money, in, future, pl...</td>\n",
              "      <td>[future, mind, guys, reference, future, mind, ...</td>\n",
              "      <td>[futur, mind, guy, refer, futur, mind, 24, hou...</td>\n",
              "      <td>[future, mind, guy, reference, future, mind, 2...</td>\n",
              "      <td>[0.0, 0.0, 0.0, 0.0, 0.0, 0.0, 0.0, 0.0, 2.0, ...</td>\n",
              "    </tr>\n",
              "    <tr>\n",
              "      <th>1</th>\n",
              "      <td>customer service num not response, my repaymen...</td>\n",
              "      <td>[customer, service, num, not, response, my, re...</td>\n",
              "      <td>[customer, service, num, response, repayment, ...</td>\n",
              "      <td>[custom, servic, num, respons, repay, month, a...</td>\n",
              "      <td>[customer, service, num, response, repayment, ...</td>\n",
              "      <td>[0.0, 0.0, 0.0, 0.0, 0.0, 0.0, 0.0, 0.0, 0.0, ...</td>\n",
              "    </tr>\n",
              "    <tr>\n",
              "      <th>2</th>\n",
              "      <td>please don't download this app this app , they...</td>\n",
              "      <td>[please, don, t, download, this, app, this, ap...</td>\n",
              "      <td>[download, threatened, payment, contact, send,...</td>\n",
              "      <td>[download, threaten, payment, contact, send, r...</td>\n",
              "      <td>[download, threaten, payment, contact, send, r...</td>\n",
              "      <td>[0.0, -2.0, 0.0, 0.0, 0.0, 0.0]</td>\n",
              "    </tr>\n",
              "    <tr>\n",
              "      <th>3</th>\n",
              "      <td>what the hell is this once i get 1000 loan fro...</td>\n",
              "      <td>[what, the, hell, is, this, once, i, get, 1000...</td>\n",
              "      <td>[apply, message, match, criteria, ffffffkkkkkk]</td>\n",
              "      <td>[appli, messag, match, criteria, ffffffkkkkkk]</td>\n",
              "      <td>[apply, message, match, criteria, ffffffkkkkkk]</td>\n",
              "      <td>[0.0, 0.0, 0.0, 0.0, 0.0]</td>\n",
              "    </tr>\n",
              "    <tr>\n",
              "      <th>4</th>\n",
              "      <td>after making pre closure for all my loan, stil...</td>\n",
              "      <td>[after, making, pre, closure, for, all, my, lo...</td>\n",
              "      <td>[pre, closure, emi, frustrating, friends]</td>\n",
              "      <td>[pre, closur, emi, frustrat, friend]</td>\n",
              "      <td>[pre, closure, emi, frustrate, friends]</td>\n",
              "      <td>[0.0, 0.0, 0.0, -2.0, 0.0]</td>\n",
              "    </tr>\n",
              "  </tbody>\n",
              "</table>\n",
              "</div>"
            ],
            "text/plain": [
              "                                            Comments  ...                                 Afinn Score of Lem\n",
              "0  i will not pay any money in future please keep...  ...  [0.0, 0.0, 0.0, 0.0, 0.0, 0.0, 0.0, 0.0, 2.0, ...\n",
              "1  customer service num not response, my repaymen...  ...  [0.0, 0.0, 0.0, 0.0, 0.0, 0.0, 0.0, 0.0, 0.0, ...\n",
              "2  please don't download this app this app , they...  ...                    [0.0, -2.0, 0.0, 0.0, 0.0, 0.0]\n",
              "3  what the hell is this once i get 1000 loan fro...  ...                          [0.0, 0.0, 0.0, 0.0, 0.0]\n",
              "4  after making pre closure for all my loan, stil...  ...                         [0.0, 0.0, 0.0, -2.0, 0.0]\n",
              "\n",
              "[5 rows x 6 columns]"
            ]
          },
          "metadata": {},
          "execution_count": 69
        }
      ]
    },
    {
      "cell_type": "code",
      "metadata": {
        "colab": {
          "base_uri": "https://localhost:8080/",
          "height": 363
        },
        "id": "BwSVawl9j-Rp",
        "outputId": "8ebc159a-d8f6-43dc-c89f-a3712991a210"
      },
      "source": [
        "df['Afinn Overall Score of Lem']=df['Afinn Score of Lem'].apply(lambda x: [sum(y for y in x)])\n",
        "df.head()"
      ],
      "execution_count": null,
      "outputs": [
        {
          "output_type": "execute_result",
          "data": {
            "text/html": [
              "<div>\n",
              "<style scoped>\n",
              "    .dataframe tbody tr th:only-of-type {\n",
              "        vertical-align: middle;\n",
              "    }\n",
              "\n",
              "    .dataframe tbody tr th {\n",
              "        vertical-align: top;\n",
              "    }\n",
              "\n",
              "    .dataframe thead th {\n",
              "        text-align: right;\n",
              "    }\n",
              "</style>\n",
              "<table border=\"1\" class=\"dataframe\">\n",
              "  <thead>\n",
              "    <tr style=\"text-align: right;\">\n",
              "      <th></th>\n",
              "      <th>Comments</th>\n",
              "      <th>Tokens</th>\n",
              "      <th>Filtered Tokens</th>\n",
              "      <th>Stemmed Filtered Tokens</th>\n",
              "      <th>Lemmatized Filtered Tokens</th>\n",
              "      <th>Afinn Score of Lem</th>\n",
              "      <th>Afinn Overall Score of Lem</th>\n",
              "    </tr>\n",
              "  </thead>\n",
              "  <tbody>\n",
              "    <tr>\n",
              "      <th>0</th>\n",
              "      <td>i will not pay any money in future please keep...</td>\n",
              "      <td>[i, will, not, pay, any, money, in, future, pl...</td>\n",
              "      <td>[future, mind, guys, reference, future, mind, ...</td>\n",
              "      <td>[futur, mind, guy, refer, futur, mind, 24, hou...</td>\n",
              "      <td>[future, mind, guy, reference, future, mind, 2...</td>\n",
              "      <td>[0.0, 0.0, 0.0, 0.0, 0.0, 0.0, 0.0, 0.0, 2.0, ...</td>\n",
              "      <td>[0.0]</td>\n",
              "    </tr>\n",
              "    <tr>\n",
              "      <th>1</th>\n",
              "      <td>customer service num not response, my repaymen...</td>\n",
              "      <td>[customer, service, num, not, response, my, re...</td>\n",
              "      <td>[customer, service, num, response, repayment, ...</td>\n",
              "      <td>[custom, servic, num, respons, repay, month, a...</td>\n",
              "      <td>[customer, service, num, response, repayment, ...</td>\n",
              "      <td>[0.0, 0.0, 0.0, 0.0, 0.0, 0.0, 0.0, 0.0, 0.0, ...</td>\n",
              "      <td>[-1.0]</td>\n",
              "    </tr>\n",
              "    <tr>\n",
              "      <th>2</th>\n",
              "      <td>please don't download this app this app , they...</td>\n",
              "      <td>[please, don, t, download, this, app, this, ap...</td>\n",
              "      <td>[download, threatened, payment, contact, send,...</td>\n",
              "      <td>[download, threaten, payment, contact, send, r...</td>\n",
              "      <td>[download, threaten, payment, contact, send, r...</td>\n",
              "      <td>[0.0, -2.0, 0.0, 0.0, 0.0, 0.0]</td>\n",
              "      <td>[-2.0]</td>\n",
              "    </tr>\n",
              "    <tr>\n",
              "      <th>3</th>\n",
              "      <td>what the hell is this once i get 1000 loan fro...</td>\n",
              "      <td>[what, the, hell, is, this, once, i, get, 1000...</td>\n",
              "      <td>[apply, message, match, criteria, ffffffkkkkkk]</td>\n",
              "      <td>[appli, messag, match, criteria, ffffffkkkkkk]</td>\n",
              "      <td>[apply, message, match, criteria, ffffffkkkkkk]</td>\n",
              "      <td>[0.0, 0.0, 0.0, 0.0, 0.0]</td>\n",
              "      <td>[0.0]</td>\n",
              "    </tr>\n",
              "    <tr>\n",
              "      <th>4</th>\n",
              "      <td>after making pre closure for all my loan, stil...</td>\n",
              "      <td>[after, making, pre, closure, for, all, my, lo...</td>\n",
              "      <td>[pre, closure, emi, frustrating, friends]</td>\n",
              "      <td>[pre, closur, emi, frustrat, friend]</td>\n",
              "      <td>[pre, closure, emi, frustrate, friends]</td>\n",
              "      <td>[0.0, 0.0, 0.0, -2.0, 0.0]</td>\n",
              "      <td>[-2.0]</td>\n",
              "    </tr>\n",
              "  </tbody>\n",
              "</table>\n",
              "</div>"
            ],
            "text/plain": [
              "                                            Comments  ... Afinn Overall Score of Lem\n",
              "0  i will not pay any money in future please keep...  ...                      [0.0]\n",
              "1  customer service num not response, my repaymen...  ...                     [-1.0]\n",
              "2  please don't download this app this app , they...  ...                     [-2.0]\n",
              "3  what the hell is this once i get 1000 loan fro...  ...                      [0.0]\n",
              "4  after making pre closure for all my loan, stil...  ...                     [-2.0]\n",
              "\n",
              "[5 rows x 7 columns]"
            ]
          },
          "metadata": {},
          "execution_count": 70
        }
      ]
    },
    {
      "cell_type": "code",
      "metadata": {
        "colab": {
          "base_uri": "https://localhost:8080/",
          "height": 363
        },
        "id": "KpEsJ4Hcknom",
        "outputId": "27f196dd-eebd-44a1-cbe5-522b6d80c3ae"
      },
      "source": [
        "df['Afinn Sentiment']=['positive' if score > [0.0] else 'negative' if score < [0.0] else 'neutral' for score in df['Afinn Overall Score of Lem']]\n",
        "df.head()"
      ],
      "execution_count": null,
      "outputs": [
        {
          "output_type": "execute_result",
          "data": {
            "text/html": [
              "<div>\n",
              "<style scoped>\n",
              "    .dataframe tbody tr th:only-of-type {\n",
              "        vertical-align: middle;\n",
              "    }\n",
              "\n",
              "    .dataframe tbody tr th {\n",
              "        vertical-align: top;\n",
              "    }\n",
              "\n",
              "    .dataframe thead th {\n",
              "        text-align: right;\n",
              "    }\n",
              "</style>\n",
              "<table border=\"1\" class=\"dataframe\">\n",
              "  <thead>\n",
              "    <tr style=\"text-align: right;\">\n",
              "      <th></th>\n",
              "      <th>Comments</th>\n",
              "      <th>Tokens</th>\n",
              "      <th>Filtered Tokens</th>\n",
              "      <th>Stemmed Filtered Tokens</th>\n",
              "      <th>Lemmatized Filtered Tokens</th>\n",
              "      <th>Afinn Score of Lem</th>\n",
              "      <th>Afinn Overall Score of Lem</th>\n",
              "      <th>Afinn Sentiment</th>\n",
              "    </tr>\n",
              "  </thead>\n",
              "  <tbody>\n",
              "    <tr>\n",
              "      <th>0</th>\n",
              "      <td>i will not pay any money in future please keep...</td>\n",
              "      <td>[i, will, not, pay, any, money, in, future, pl...</td>\n",
              "      <td>[future, mind, guys, reference, future, mind, ...</td>\n",
              "      <td>[futur, mind, guy, refer, futur, mind, 24, hou...</td>\n",
              "      <td>[future, mind, guy, reference, future, mind, 2...</td>\n",
              "      <td>[0.0, 0.0, 0.0, 0.0, 0.0, 0.0, 0.0, 0.0, 2.0, ...</td>\n",
              "      <td>[0.0]</td>\n",
              "      <td>neutral</td>\n",
              "    </tr>\n",
              "    <tr>\n",
              "      <th>1</th>\n",
              "      <td>customer service num not response, my repaymen...</td>\n",
              "      <td>[customer, service, num, not, response, my, re...</td>\n",
              "      <td>[customer, service, num, response, repayment, ...</td>\n",
              "      <td>[custom, servic, num, respons, repay, month, a...</td>\n",
              "      <td>[customer, service, num, response, repayment, ...</td>\n",
              "      <td>[0.0, 0.0, 0.0, 0.0, 0.0, 0.0, 0.0, 0.0, 0.0, ...</td>\n",
              "      <td>[-1.0]</td>\n",
              "      <td>negative</td>\n",
              "    </tr>\n",
              "    <tr>\n",
              "      <th>2</th>\n",
              "      <td>please don't download this app this app , they...</td>\n",
              "      <td>[please, don, t, download, this, app, this, ap...</td>\n",
              "      <td>[download, threatened, payment, contact, send,...</td>\n",
              "      <td>[download, threaten, payment, contact, send, r...</td>\n",
              "      <td>[download, threaten, payment, contact, send, r...</td>\n",
              "      <td>[0.0, -2.0, 0.0, 0.0, 0.0, 0.0]</td>\n",
              "      <td>[-2.0]</td>\n",
              "      <td>negative</td>\n",
              "    </tr>\n",
              "    <tr>\n",
              "      <th>3</th>\n",
              "      <td>what the hell is this once i get 1000 loan fro...</td>\n",
              "      <td>[what, the, hell, is, this, once, i, get, 1000...</td>\n",
              "      <td>[apply, message, match, criteria, ffffffkkkkkk]</td>\n",
              "      <td>[appli, messag, match, criteria, ffffffkkkkkk]</td>\n",
              "      <td>[apply, message, match, criteria, ffffffkkkkkk]</td>\n",
              "      <td>[0.0, 0.0, 0.0, 0.0, 0.0]</td>\n",
              "      <td>[0.0]</td>\n",
              "      <td>neutral</td>\n",
              "    </tr>\n",
              "    <tr>\n",
              "      <th>4</th>\n",
              "      <td>after making pre closure for all my loan, stil...</td>\n",
              "      <td>[after, making, pre, closure, for, all, my, lo...</td>\n",
              "      <td>[pre, closure, emi, frustrating, friends]</td>\n",
              "      <td>[pre, closur, emi, frustrat, friend]</td>\n",
              "      <td>[pre, closure, emi, frustrate, friends]</td>\n",
              "      <td>[0.0, 0.0, 0.0, -2.0, 0.0]</td>\n",
              "      <td>[-2.0]</td>\n",
              "      <td>negative</td>\n",
              "    </tr>\n",
              "  </tbody>\n",
              "</table>\n",
              "</div>"
            ],
            "text/plain": [
              "                                            Comments  ... Afinn Sentiment\n",
              "0  i will not pay any money in future please keep...  ...         neutral\n",
              "1  customer service num not response, my repaymen...  ...        negative\n",
              "2  please don't download this app this app , they...  ...        negative\n",
              "3  what the hell is this once i get 1000 loan fro...  ...         neutral\n",
              "4  after making pre closure for all my loan, stil...  ...        negative\n",
              "\n",
              "[5 rows x 8 columns]"
            ]
          },
          "metadata": {},
          "execution_count": 71
        }
      ]
    },
    {
      "cell_type": "code",
      "metadata": {
        "colab": {
          "base_uri": "https://localhost:8080/"
        },
        "id": "TtRMGoHO5aL1",
        "outputId": "3606481c-dccc-4cc5-c580-1a0adf414d78"
      },
      "source": [
        "print(\"\\nCounting Afinn Sentiments\\n\",df['Afinn Sentiment'].value_counts())"
      ],
      "execution_count": null,
      "outputs": [
        {
          "output_type": "stream",
          "name": "stdout",
          "text": [
            "\n",
            "Counting Afinn Sentiments\n",
            " neutral     281\n",
            "positive    277\n",
            "negative    197\n",
            "Name: Afinn Sentiment, dtype: int64\n"
          ]
        }
      ]
    },
    {
      "cell_type": "code",
      "metadata": {
        "id": "N4OAVgu06QDN"
      },
      "source": [
        "#dataset['Afinn Sentiment']=df['Afinn Sentiment']\n",
        "#dataset.head()"
      ],
      "execution_count": null,
      "outputs": []
    },
    {
      "cell_type": "markdown",
      "metadata": {
        "id": "kZxDs9cJ-Ls0"
      },
      "source": [
        "###Trying with comments directly"
      ]
    },
    {
      "cell_type": "code",
      "metadata": {
        "id": "bh7y_3Uq9FPR"
      },
      "source": [
        "sentiment_scores = [af.score(row) for row in df['Comments']]\n",
        "sentiment_category = ['positive' if score > 0 else 'negative' if score < 0 else 'neutral' for score in sentiment_scores]"
      ],
      "execution_count": null,
      "outputs": []
    },
    {
      "cell_type": "code",
      "metadata": {
        "colab": {
          "base_uri": "https://localhost:8080/"
        },
        "id": "z0oEOTqH9Pe3",
        "outputId": "37d280d0-ba5b-43aa-f733-beaca7928368"
      },
      "source": [
        "print(sentiment_scores,'\\n',sentiment_category)"
      ],
      "execution_count": null,
      "outputs": [
        {
          "output_type": "stream",
          "name": "stdout",
          "text": [
            "[0.0, -3.0, -3.0, -4.0, -2.0, 0.0, -5.0, -3.0, -1.0, 2.0, 1.0, 0.0, -3.0, -5.0, -7.0, -12.0, -2.0, -2.0, -4.0, -1.0, -6.0, -3.0, 2.0, -5.0, 1.0, -11.0, 1.0, 6.0, -11.0, -3.0, 5.0, -4.0, -3.0, 0.0, -3.0, 0.0, -9.0, -3.0, -5.0, 2.0, 1.0, -5.0, -5.0, 0.0, 1.0, -1.0, -3.0, -5.0, 2.0, -10.0, -4.0, -11.0, -4.0, 4.0, -3.0, 3.0, -7.0, -2.0, -2.0, -5.0, -1.0, -3.0, -2.0, 1.0, -3.0, 1.0, 1.0, -3.0, 2.0, 4.0, 4.0, -12.0, 0.0, -7.0, 6.0, -1.0, -3.0, -7.0, 0.0, -7.0, 0.0, 0.0, 0.0, -3.0, 0.0, 0.0, -4.0, -4.0, 1.0, 2.0, -3.0, -10.0, 1.0, -10.0, -16.0, -3.0, -4.0, -6.0, -2.0, 0.0, -3.0, 0.0, 0.0, -3.0, 0.0, 2.0, -11.0, 0.0, -10.0, -4.0, 2.0, -2.0, -3.0, -4.0, -5.0, -1.0, -5.0, 2.0, -2.0, 0.0, -2.0, -10.0, 3.0, 6.0, -4.0, 4.0, 1.0, -7.0, -5.0, 2.0, 3.0, -8.0, -2.0, 2.0, -2.0, 0.0, -2.0, 12.0, -11.0, -7.0, -5.0, 0.0, -4.0, -2.0, -6.0, -3.0, 0.0, -1.0, -10.0, -2.0, -1.0, 0.0, -8.0, 0.0, -2.0, -2.0, -4.0, -7.0, -2.0, -3.0, -2.0, -4.0, -6.0, -2.0, 1.0, -4.0, -4.0, -1.0, 0.0, -2.0, 0.0, -3.0, 1.0, -2.0, -2.0, 0.0, -1.0, -2.0, -1.0, 2.0, 1.0, -14.0, -5.0, -4.0, 4.0, 0.0, -4.0, 0.0, -8.0, -3.0, 3.0, 3.0, -9.0, 1.0, -2.0, -7.0, -2.0, 1.0, -1.0, -3.0, 0.0, 2.0, -11.0, -9.0, 0.0, -9.0, -3.0, 2.0, -13.0, -13.0, 3.0, -1.0, -2.0, -3.0, 2.0, -3.0, 1.0, 0.0, -2.0, 0.0, -1.0, -9.0, -3.0, -6.0, -6.0, 0.0, 0.0, -5.0, 1.0, -3.0, 0.0, 0.0, -3.0, 0.0, 0.0, -2.0, -5.0, -4.0, 5.0, -4.0, -3.0, -1.0, -4.0, 3.0, 3.0, -4.0, -3.0, 0.0, 0.0, 0.0, 0.0, -3.0, -9.0, 7.0, 0.0, -1.0, -6.0, -4.0, -5.0, -1.0, 2.0, -1.0, -1.0, -1.0, -11.0, 3.0, 1.0, -9.0, 1.0, 3.0, 2.0, -2.0, -3.0, -1.0, 1.0, -1.0, -1.0, -2.0, -15.0, -4.0, 2.0, -8.0, -6.0, 0.0, -1.0, -3.0, 1.0, 0.0, -3.0, -2.0, -3.0, 2.0, 1.0, 0.0, -1.0, 0.0, 3.0, -14.0, -5.0, -4.0, 6.0, 3.0, -3.0, -2.0, -1.0, -4.0, -5.0, 0.0, 2.0, -10.0, -2.0, -5.0, 0.0, -10.0, 1.0, 0.0, -4.0, 3.0, -4.0, 1.0, -1.0, -8.0, -8.0, -7.0, 0.0, -3.0, -3.0, 4.0, -3.0, -1.0, -2.0, -4.0, -7.0, -10.0, -10.0, 3.0, -6.0, -3.0, -6.0, -4.0, 0.0, -4.0, 2.0, -4.0, 0.0, -1.0, -3.0, 6.0, -4.0, -3.0, 8.0, -6.0, -7.0, 4.0, 2.0, 2.0, -4.0, 5.0, 0.0, 0.0, 0.0, 0.0, -2.0, -1.0, 5.0, 0.0, 0.0, -3.0, -1.0, -6.0, -2.0, -2.0, 2.0, 2.0, 1.0, -6.0, -4.0, 0.0, -2.0, -2.0, 0.0, 11.0, -4.0, 0.0, 0.0, 1.0, 5.0, 2.0, 3.0, -3.0, 1.0, 0.0, -2.0, 7.0, 5.0, 1.0, 3.0, 3.0, 1.0, 3.0, -3.0, 4.0, 3.0, 1.0, 4.0, 2.0, 1.0, 4.0, 2.0, -3.0, 2.0, -1.0, -2.0, 0.0, 5.0, 12.0, -2.0, 0.0, 0.0, 6.0, 3.0, -3.0, 0.0, 4.0, 2.0, -1.0, -3.0, -1.0, 3.0, 0.0, 0.0, -1.0, 2.0, 7.0, 3.0, 2.0, 1.0, -3.0, 5.0, 2.0, 0.0, 2.0, 8.0, 3.0, 0.0, 3.0, 1.0, 3.0, 6.0, 1.0, 0.0, 3.0, 2.0, 2.0, 6.0, 8.0, 3.0, 2.0, -3.0, 2.0, 0.0, 4.0, 1.0, 0.0, 2.0, 6.0, 3.0, 0.0, 8.0, 9.0, 5.0, 22.0, -5.0, 12.0, 5.0, -2.0, 3.0, 1.0, 0.0, 2.0, 8.0, 5.0, 3.0, 0.0, 9.0, 4.0, 2.0, 2.0, 4.0, 0.0, 3.0, 6.0, 1.0, 8.0, 3.0, 7.0, 3.0, 5.0, -3.0, 10.0, 6.0, 9.0, 9.0, 5.0, 5.0, 7.0, 5.0, 16.0, 2.0, 6.0, -1.0, 4.0, 3.0, 5.0, 5.0, 5.0, 11.0, 16.0, -3.0, 6.0, -1.0, 19.0, -1.0, 4.0, 8.0, 6.0, 9.0, 6.0, 8.0, 7.0, 8.0, 14.0, 10.0, 5.0, 6.0, 10.0, 10.0, 2.0, 3.0, 14.0, 5.0, 2.0, 1.0, 5.0, 6.0, 7.0, 12.0, 5.0, 20.0, 7.0, 15.0, 6.0, -1.0, 6.0, 10.0, 5.0, 9.0, 11.0, 8.0, 2.0, 12.0, 14.0, 20.0, 6.0, -2.0, 4.0, 2.0, 1.0, 0.0, 6.0, 6.0, 5.0, 3.0, 6.0, 1.0, 14.0, 8.0, 5.0, 5.0, 2.0, 2.0, 11.0, 11.0, 3.0, -5.0, 2.0, 5.0, 9.0, 19.0, 6.0, 6.0, 18.0, 6.0, 3.0, 3.0, 4.0, 4.0, 11.0, 7.0, 5.0, 1.0, 8.0, 6.0, 3.0, 3.0, 0.0, -1.0, 4.0, 13.0, 4.0, 4.0, -1.0, 4.0, 8.0, 17.0, 21.0, 4.0, 0.0, 7.0, 4.0, 10.0, 10.0, 10.0, 4.0, 12.0, 2.0, 0.0, 7.0, 6.0, 3.0, 3.0, 0.0, 12.0, 6.0, -3.0, 3.0, 6.0, 8.0, 8.0, 3.0, 9.0, 6.0, 7.0, 7.0, 7.0, 7.0, 14.0, 6.0, 3.0, 10.0, 0.0, 5.0, 4.0, 2.0, 3.0, 9.0, 1.0, 5.0, -1.0, 7.0, 7.0, 1.0, 2.0, 6.0, 10.0, 12.0, 5.0, 2.0, 5.0, 8.0, 8.0, 3.0, 7.0, 9.0, 10.0, 14.0, 4.0, 8.0, 14.0, 4.0, 2.0, 10.0, 0.0, 2.0, 2.0, 3.0, 6.0, 6.0, 7.0, 12.0, 11.0, 6.0, 7.0, 7.0, 6.0, 3.0, -2.0, 3.0, 19.0, 14.0, 23.0, 7.0, 16.0, 24.0, 11.0, 3.0, 18.0, 10.0, 16.0, 10.0, 10.0, 7.0, 8.0, 5.0, 7.0, 9.0, 2.0, 10.0, 4.0, 5.0, 4.0, 4.0, 8.0, 11.0, 14.0, 6.0, 11.0, 6.0, 10.0, 5.0, 11.0, 11.0, 7.0, 4.0, 3.0, 6.0, 2.0, 7.0, 4.0, 6.0, 25.0, 6.0, 18.0, 20.0, 8.0, 8.0, 2.0, 1.0, 3.0, 4.0, -1.0, 4.0, 6.0, 2.0, 4.0] \n",
            " ['neutral', 'negative', 'negative', 'negative', 'negative', 'neutral', 'negative', 'negative', 'negative', 'positive', 'positive', 'neutral', 'negative', 'negative', 'negative', 'negative', 'negative', 'negative', 'negative', 'negative', 'negative', 'negative', 'positive', 'negative', 'positive', 'negative', 'positive', 'positive', 'negative', 'negative', 'positive', 'negative', 'negative', 'neutral', 'negative', 'neutral', 'negative', 'negative', 'negative', 'positive', 'positive', 'negative', 'negative', 'neutral', 'positive', 'negative', 'negative', 'negative', 'positive', 'negative', 'negative', 'negative', 'negative', 'positive', 'negative', 'positive', 'negative', 'negative', 'negative', 'negative', 'negative', 'negative', 'negative', 'positive', 'negative', 'positive', 'positive', 'negative', 'positive', 'positive', 'positive', 'negative', 'neutral', 'negative', 'positive', 'negative', 'negative', 'negative', 'neutral', 'negative', 'neutral', 'neutral', 'neutral', 'negative', 'neutral', 'neutral', 'negative', 'negative', 'positive', 'positive', 'negative', 'negative', 'positive', 'negative', 'negative', 'negative', 'negative', 'negative', 'negative', 'neutral', 'negative', 'neutral', 'neutral', 'negative', 'neutral', 'positive', 'negative', 'neutral', 'negative', 'negative', 'positive', 'negative', 'negative', 'negative', 'negative', 'negative', 'negative', 'positive', 'negative', 'neutral', 'negative', 'negative', 'positive', 'positive', 'negative', 'positive', 'positive', 'negative', 'negative', 'positive', 'positive', 'negative', 'negative', 'positive', 'negative', 'neutral', 'negative', 'positive', 'negative', 'negative', 'negative', 'neutral', 'negative', 'negative', 'negative', 'negative', 'neutral', 'negative', 'negative', 'negative', 'negative', 'neutral', 'negative', 'neutral', 'negative', 'negative', 'negative', 'negative', 'negative', 'negative', 'negative', 'negative', 'negative', 'negative', 'positive', 'negative', 'negative', 'negative', 'neutral', 'negative', 'neutral', 'negative', 'positive', 'negative', 'negative', 'neutral', 'negative', 'negative', 'negative', 'positive', 'positive', 'negative', 'negative', 'negative', 'positive', 'neutral', 'negative', 'neutral', 'negative', 'negative', 'positive', 'positive', 'negative', 'positive', 'negative', 'negative', 'negative', 'positive', 'negative', 'negative', 'neutral', 'positive', 'negative', 'negative', 'neutral', 'negative', 'negative', 'positive', 'negative', 'negative', 'positive', 'negative', 'negative', 'negative', 'positive', 'negative', 'positive', 'neutral', 'negative', 'neutral', 'negative', 'negative', 'negative', 'negative', 'negative', 'neutral', 'neutral', 'negative', 'positive', 'negative', 'neutral', 'neutral', 'negative', 'neutral', 'neutral', 'negative', 'negative', 'negative', 'positive', 'negative', 'negative', 'negative', 'negative', 'positive', 'positive', 'negative', 'negative', 'neutral', 'neutral', 'neutral', 'neutral', 'negative', 'negative', 'positive', 'neutral', 'negative', 'negative', 'negative', 'negative', 'negative', 'positive', 'negative', 'negative', 'negative', 'negative', 'positive', 'positive', 'negative', 'positive', 'positive', 'positive', 'negative', 'negative', 'negative', 'positive', 'negative', 'negative', 'negative', 'negative', 'negative', 'positive', 'negative', 'negative', 'neutral', 'negative', 'negative', 'positive', 'neutral', 'negative', 'negative', 'negative', 'positive', 'positive', 'neutral', 'negative', 'neutral', 'positive', 'negative', 'negative', 'negative', 'positive', 'positive', 'negative', 'negative', 'negative', 'negative', 'negative', 'neutral', 'positive', 'negative', 'negative', 'negative', 'neutral', 'negative', 'positive', 'neutral', 'negative', 'positive', 'negative', 'positive', 'negative', 'negative', 'negative', 'negative', 'neutral', 'negative', 'negative', 'positive', 'negative', 'negative', 'negative', 'negative', 'negative', 'negative', 'negative', 'positive', 'negative', 'negative', 'negative', 'negative', 'neutral', 'negative', 'positive', 'negative', 'neutral', 'negative', 'negative', 'positive', 'negative', 'negative', 'positive', 'negative', 'negative', 'positive', 'positive', 'positive', 'negative', 'positive', 'neutral', 'neutral', 'neutral', 'neutral', 'negative', 'negative', 'positive', 'neutral', 'neutral', 'negative', 'negative', 'negative', 'negative', 'negative', 'positive', 'positive', 'positive', 'negative', 'negative', 'neutral', 'negative', 'negative', 'neutral', 'positive', 'negative', 'neutral', 'neutral', 'positive', 'positive', 'positive', 'positive', 'negative', 'positive', 'neutral', 'negative', 'positive', 'positive', 'positive', 'positive', 'positive', 'positive', 'positive', 'negative', 'positive', 'positive', 'positive', 'positive', 'positive', 'positive', 'positive', 'positive', 'negative', 'positive', 'negative', 'negative', 'neutral', 'positive', 'positive', 'negative', 'neutral', 'neutral', 'positive', 'positive', 'negative', 'neutral', 'positive', 'positive', 'negative', 'negative', 'negative', 'positive', 'neutral', 'neutral', 'negative', 'positive', 'positive', 'positive', 'positive', 'positive', 'negative', 'positive', 'positive', 'neutral', 'positive', 'positive', 'positive', 'neutral', 'positive', 'positive', 'positive', 'positive', 'positive', 'neutral', 'positive', 'positive', 'positive', 'positive', 'positive', 'positive', 'positive', 'negative', 'positive', 'neutral', 'positive', 'positive', 'neutral', 'positive', 'positive', 'positive', 'neutral', 'positive', 'positive', 'positive', 'positive', 'negative', 'positive', 'positive', 'negative', 'positive', 'positive', 'neutral', 'positive', 'positive', 'positive', 'positive', 'neutral', 'positive', 'positive', 'positive', 'positive', 'positive', 'neutral', 'positive', 'positive', 'positive', 'positive', 'positive', 'positive', 'positive', 'positive', 'negative', 'positive', 'positive', 'positive', 'positive', 'positive', 'positive', 'positive', 'positive', 'positive', 'positive', 'positive', 'negative', 'positive', 'positive', 'positive', 'positive', 'positive', 'positive', 'positive', 'negative', 'positive', 'negative', 'positive', 'negative', 'positive', 'positive', 'positive', 'positive', 'positive', 'positive', 'positive', 'positive', 'positive', 'positive', 'positive', 'positive', 'positive', 'positive', 'positive', 'positive', 'positive', 'positive', 'positive', 'positive', 'positive', 'positive', 'positive', 'positive', 'positive', 'positive', 'positive', 'positive', 'positive', 'negative', 'positive', 'positive', 'positive', 'positive', 'positive', 'positive', 'positive', 'positive', 'positive', 'positive', 'positive', 'negative', 'positive', 'positive', 'positive', 'neutral', 'positive', 'positive', 'positive', 'positive', 'positive', 'positive', 'positive', 'positive', 'positive', 'positive', 'positive', 'positive', 'positive', 'positive', 'positive', 'negative', 'positive', 'positive', 'positive', 'positive', 'positive', 'positive', 'positive', 'positive', 'positive', 'positive', 'positive', 'positive', 'positive', 'positive', 'positive', 'positive', 'positive', 'positive', 'positive', 'positive', 'neutral', 'negative', 'positive', 'positive', 'positive', 'positive', 'negative', 'positive', 'positive', 'positive', 'positive', 'positive', 'neutral', 'positive', 'positive', 'positive', 'positive', 'positive', 'positive', 'positive', 'positive', 'neutral', 'positive', 'positive', 'positive', 'positive', 'neutral', 'positive', 'positive', 'negative', 'positive', 'positive', 'positive', 'positive', 'positive', 'positive', 'positive', 'positive', 'positive', 'positive', 'positive', 'positive', 'positive', 'positive', 'positive', 'neutral', 'positive', 'positive', 'positive', 'positive', 'positive', 'positive', 'positive', 'negative', 'positive', 'positive', 'positive', 'positive', 'positive', 'positive', 'positive', 'positive', 'positive', 'positive', 'positive', 'positive', 'positive', 'positive', 'positive', 'positive', 'positive', 'positive', 'positive', 'positive', 'positive', 'positive', 'positive', 'neutral', 'positive', 'positive', 'positive', 'positive', 'positive', 'positive', 'positive', 'positive', 'positive', 'positive', 'positive', 'positive', 'positive', 'negative', 'positive', 'positive', 'positive', 'positive', 'positive', 'positive', 'positive', 'positive', 'positive', 'positive', 'positive', 'positive', 'positive', 'positive', 'positive', 'positive', 'positive', 'positive', 'positive', 'positive', 'positive', 'positive', 'positive', 'positive', 'positive', 'positive', 'positive', 'positive', 'positive', 'positive', 'positive', 'positive', 'positive', 'positive', 'positive', 'positive', 'positive', 'positive', 'positive', 'positive', 'positive', 'positive', 'positive', 'positive', 'positive', 'positive', 'positive', 'positive', 'positive', 'positive', 'positive', 'positive', 'positive', 'negative', 'positive', 'positive', 'positive', 'positive']\n"
          ]
        }
      ]
    },
    {
      "cell_type": "markdown",
      "metadata": {
        "id": "-fh6gJZG4voX"
      },
      "source": [
        "##Using Bing"
      ]
    },
    {
      "cell_type": "markdown",
      "metadata": {
        "id": "VxbDNgage3X1"
      },
      "source": [
        "###Uploading positive words to list"
      ]
    },
    {
      "cell_type": "code",
      "metadata": {
        "colab": {
          "resources": {
            "http://localhost:8080/nbextensions/google.colab/files.js": {
              "data": "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",
              "ok": true,
              "headers": [
                [
                  "content-type",
                  "application/javascript"
                ]
              ],
              "status": 200,
              "status_text": "OK"
            }
          },
          "base_uri": "https://localhost:8080/",
          "height": 75
        },
        "id": "2mbwxgOG4x1K",
        "outputId": "20d6629d-3226-4fdd-bb45-9d8f1c667771"
      },
      "source": [
        "file_upload = files.upload()"
      ],
      "execution_count": null,
      "outputs": [
        {
          "output_type": "display_data",
          "data": {
            "text/html": [
              "\n",
              "     <input type=\"file\" id=\"files-83a6006f-57df-40fa-81f1-fdf9409d7c01\" name=\"files[]\" multiple disabled\n",
              "        style=\"border:none\" />\n",
              "     <output id=\"result-83a6006f-57df-40fa-81f1-fdf9409d7c01\">\n",
              "      Upload widget is only available when the cell has been executed in the\n",
              "      current browser session. Please rerun this cell to enable.\n",
              "      </output>\n",
              "      <script src=\"/nbextensions/google.colab/files.js\"></script> "
            ],
            "text/plain": [
              "<IPython.core.display.HTML object>"
            ]
          },
          "metadata": {}
        },
        {
          "output_type": "stream",
          "name": "stdout",
          "text": [
            "Saving positive.txt to positive (2).txt\n"
          ]
        }
      ]
    },
    {
      "cell_type": "code",
      "metadata": {
        "colab": {
          "base_uri": "https://localhost:8080/"
        },
        "id": "hxTvWmMjfBQD",
        "outputId": "e613f047-fd15-4a06-a8a3-b3bc5270e890"
      },
      "source": [
        "positive_df= pd.read_csv(io.StringIO(file_upload['positive.txt'].decode('utf-8')))\n",
        "positive_words=positive_df.iloc[::].values\n",
        "print(positive_words)"
      ],
      "execution_count": null,
      "outputs": [
        {
          "output_type": "stream",
          "name": "stdout",
          "text": [
            "[['abounds']\n",
            " ['abundance']\n",
            " ['abundant']\n",
            " ...\n",
            " ['zenith']\n",
            " ['zest']\n",
            " ['zippy']]\n"
          ]
        }
      ]
    },
    {
      "cell_type": "markdown",
      "metadata": {
        "id": "1j-_AHmMjyJE"
      },
      "source": [
        "###positive word count"
      ]
    },
    {
      "cell_type": "code",
      "metadata": {
        "colab": {
          "base_uri": "https://localhost:8080/",
          "height": 415
        },
        "id": "iLc1xpxxkEYQ",
        "outputId": "da042379-d565-4c76-d422-78b10a0aeb8c"
      },
      "source": [
        "df['Bing Positive Tokens']=df['Lemmatized Filtered Tokens'].apply(lambda x: [item for item in x if item in positive_words])\n",
        "df.head()"
      ],
      "execution_count": null,
      "outputs": [
        {
          "output_type": "execute_result",
          "data": {
            "text/html": [
              "<div>\n",
              "<style scoped>\n",
              "    .dataframe tbody tr th:only-of-type {\n",
              "        vertical-align: middle;\n",
              "    }\n",
              "\n",
              "    .dataframe tbody tr th {\n",
              "        vertical-align: top;\n",
              "    }\n",
              "\n",
              "    .dataframe thead th {\n",
              "        text-align: right;\n",
              "    }\n",
              "</style>\n",
              "<table border=\"1\" class=\"dataframe\">\n",
              "  <thead>\n",
              "    <tr style=\"text-align: right;\">\n",
              "      <th></th>\n",
              "      <th>Comments</th>\n",
              "      <th>Tokens</th>\n",
              "      <th>Filtered Tokens</th>\n",
              "      <th>Stemmed Filtered Tokens</th>\n",
              "      <th>Lemmatized Filtered Tokens</th>\n",
              "      <th>Afinn Score of Lem</th>\n",
              "      <th>Afinn Overall Score of Lem</th>\n",
              "      <th>Afinn Sentiment</th>\n",
              "      <th>Bing Positive Tokens</th>\n",
              "    </tr>\n",
              "  </thead>\n",
              "  <tbody>\n",
              "    <tr>\n",
              "      <th>0</th>\n",
              "      <td>i will not pay any money in future please keep...</td>\n",
              "      <td>[i, will, not, pay, any, money, in, future, pl...</td>\n",
              "      <td>[future, mind, guys, reference, future, mind, ...</td>\n",
              "      <td>[futur, mind, guy, refer, futur, mind, 24, hou...</td>\n",
              "      <td>[future, mind, guy, reference, future, mind, 2...</td>\n",
              "      <td>[0.0, 0.0, 0.0, 0.0, 0.0, 0.0, 0.0, 0.0, 2.0, ...</td>\n",
              "      <td>[0.0]</td>\n",
              "      <td>neutral</td>\n",
              "      <td>[]</td>\n",
              "    </tr>\n",
              "    <tr>\n",
              "      <th>1</th>\n",
              "      <td>customer service num not response, my repaymen...</td>\n",
              "      <td>[customer, service, num, not, response, my, re...</td>\n",
              "      <td>[customer, service, num, response, repayment, ...</td>\n",
              "      <td>[custom, servic, num, respons, repay, month, a...</td>\n",
              "      <td>[customer, service, num, response, repayment, ...</td>\n",
              "      <td>[0.0, 0.0, 0.0, 0.0, 0.0, 0.0, 0.0, 0.0, 0.0, ...</td>\n",
              "      <td>[-1.0]</td>\n",
              "      <td>negative</td>\n",
              "      <td>[support]</td>\n",
              "    </tr>\n",
              "    <tr>\n",
              "      <th>2</th>\n",
              "      <td>please don't download this app this app , they...</td>\n",
              "      <td>[please, don, t, download, this, app, this, ap...</td>\n",
              "      <td>[download, threatened, payment, contact, send,...</td>\n",
              "      <td>[download, threaten, payment, contact, send, r...</td>\n",
              "      <td>[download, threaten, payment, contact, send, r...</td>\n",
              "      <td>[0.0, -2.0, 0.0, 0.0, 0.0, 0.0]</td>\n",
              "      <td>[-2.0]</td>\n",
              "      <td>negative</td>\n",
              "      <td>[]</td>\n",
              "    </tr>\n",
              "    <tr>\n",
              "      <th>3</th>\n",
              "      <td>what the hell is this once i get 1000 loan fro...</td>\n",
              "      <td>[what, the, hell, is, this, once, i, get, 1000...</td>\n",
              "      <td>[apply, message, match, criteria, ffffffkkkkkk]</td>\n",
              "      <td>[appli, messag, match, criteria, ffffffkkkkkk]</td>\n",
              "      <td>[apply, message, match, criteria, ffffffkkkkkk]</td>\n",
              "      <td>[0.0, 0.0, 0.0, 0.0, 0.0]</td>\n",
              "      <td>[0.0]</td>\n",
              "      <td>neutral</td>\n",
              "      <td>[]</td>\n",
              "    </tr>\n",
              "    <tr>\n",
              "      <th>4</th>\n",
              "      <td>after making pre closure for all my loan, stil...</td>\n",
              "      <td>[after, making, pre, closure, for, all, my, lo...</td>\n",
              "      <td>[pre, closure, emi, frustrating, friends]</td>\n",
              "      <td>[pre, closur, emi, frustrat, friend]</td>\n",
              "      <td>[pre, closure, emi, frustrate, friends]</td>\n",
              "      <td>[0.0, 0.0, 0.0, -2.0, 0.0]</td>\n",
              "      <td>[-2.0]</td>\n",
              "      <td>negative</td>\n",
              "      <td>[]</td>\n",
              "    </tr>\n",
              "  </tbody>\n",
              "</table>\n",
              "</div>"
            ],
            "text/plain": [
              "                                            Comments  ... Bing Positive Tokens\n",
              "0  i will not pay any money in future please keep...  ...                   []\n",
              "1  customer service num not response, my repaymen...  ...            [support]\n",
              "2  please don't download this app this app , they...  ...                   []\n",
              "3  what the hell is this once i get 1000 loan fro...  ...                   []\n",
              "4  after making pre closure for all my loan, stil...  ...                   []\n",
              "\n",
              "[5 rows x 9 columns]"
            ]
          },
          "metadata": {},
          "execution_count": 75
        }
      ]
    },
    {
      "cell_type": "code",
      "metadata": {
        "colab": {
          "base_uri": "https://localhost:8080/",
          "height": 484
        },
        "id": "mrtCQl1fk33J",
        "outputId": "565ec10d-238d-4d15-8225-345ab566eee0"
      },
      "source": [
        "df['Bing Positive count']=df.apply(lambda row: len(row['Bing Positive Tokens']), axis=1)\n",
        "df.head()"
      ],
      "execution_count": null,
      "outputs": [
        {
          "output_type": "execute_result",
          "data": {
            "text/html": [
              "<div>\n",
              "<style scoped>\n",
              "    .dataframe tbody tr th:only-of-type {\n",
              "        vertical-align: middle;\n",
              "    }\n",
              "\n",
              "    .dataframe tbody tr th {\n",
              "        vertical-align: top;\n",
              "    }\n",
              "\n",
              "    .dataframe thead th {\n",
              "        text-align: right;\n",
              "    }\n",
              "</style>\n",
              "<table border=\"1\" class=\"dataframe\">\n",
              "  <thead>\n",
              "    <tr style=\"text-align: right;\">\n",
              "      <th></th>\n",
              "      <th>Comments</th>\n",
              "      <th>Tokens</th>\n",
              "      <th>Filtered Tokens</th>\n",
              "      <th>Stemmed Filtered Tokens</th>\n",
              "      <th>Lemmatized Filtered Tokens</th>\n",
              "      <th>Afinn Score of Lem</th>\n",
              "      <th>Afinn Overall Score of Lem</th>\n",
              "      <th>Afinn Sentiment</th>\n",
              "      <th>Bing Positive Tokens</th>\n",
              "      <th>Bing Positive count</th>\n",
              "    </tr>\n",
              "  </thead>\n",
              "  <tbody>\n",
              "    <tr>\n",
              "      <th>0</th>\n",
              "      <td>i will not pay any money in future please keep...</td>\n",
              "      <td>[i, will, not, pay, any, money, in, future, pl...</td>\n",
              "      <td>[future, mind, guys, reference, future, mind, ...</td>\n",
              "      <td>[futur, mind, guy, refer, futur, mind, 24, hou...</td>\n",
              "      <td>[future, mind, guy, reference, future, mind, 2...</td>\n",
              "      <td>[0.0, 0.0, 0.0, 0.0, 0.0, 0.0, 0.0, 0.0, 2.0, ...</td>\n",
              "      <td>[0.0]</td>\n",
              "      <td>neutral</td>\n",
              "      <td>[]</td>\n",
              "      <td>0</td>\n",
              "    </tr>\n",
              "    <tr>\n",
              "      <th>1</th>\n",
              "      <td>customer service num not response, my repaymen...</td>\n",
              "      <td>[customer, service, num, not, response, my, re...</td>\n",
              "      <td>[customer, service, num, response, repayment, ...</td>\n",
              "      <td>[custom, servic, num, respons, repay, month, a...</td>\n",
              "      <td>[customer, service, num, response, repayment, ...</td>\n",
              "      <td>[0.0, 0.0, 0.0, 0.0, 0.0, 0.0, 0.0, 0.0, 0.0, ...</td>\n",
              "      <td>[-1.0]</td>\n",
              "      <td>negative</td>\n",
              "      <td>[support]</td>\n",
              "      <td>1</td>\n",
              "    </tr>\n",
              "    <tr>\n",
              "      <th>2</th>\n",
              "      <td>please don't download this app this app , they...</td>\n",
              "      <td>[please, don, t, download, this, app, this, ap...</td>\n",
              "      <td>[download, threatened, payment, contact, send,...</td>\n",
              "      <td>[download, threaten, payment, contact, send, r...</td>\n",
              "      <td>[download, threaten, payment, contact, send, r...</td>\n",
              "      <td>[0.0, -2.0, 0.0, 0.0, 0.0, 0.0]</td>\n",
              "      <td>[-2.0]</td>\n",
              "      <td>negative</td>\n",
              "      <td>[]</td>\n",
              "      <td>0</td>\n",
              "    </tr>\n",
              "    <tr>\n",
              "      <th>3</th>\n",
              "      <td>what the hell is this once i get 1000 loan fro...</td>\n",
              "      <td>[what, the, hell, is, this, once, i, get, 1000...</td>\n",
              "      <td>[apply, message, match, criteria, ffffffkkkkkk]</td>\n",
              "      <td>[appli, messag, match, criteria, ffffffkkkkkk]</td>\n",
              "      <td>[apply, message, match, criteria, ffffffkkkkkk]</td>\n",
              "      <td>[0.0, 0.0, 0.0, 0.0, 0.0]</td>\n",
              "      <td>[0.0]</td>\n",
              "      <td>neutral</td>\n",
              "      <td>[]</td>\n",
              "      <td>0</td>\n",
              "    </tr>\n",
              "    <tr>\n",
              "      <th>4</th>\n",
              "      <td>after making pre closure for all my loan, stil...</td>\n",
              "      <td>[after, making, pre, closure, for, all, my, lo...</td>\n",
              "      <td>[pre, closure, emi, frustrating, friends]</td>\n",
              "      <td>[pre, closur, emi, frustrat, friend]</td>\n",
              "      <td>[pre, closure, emi, frustrate, friends]</td>\n",
              "      <td>[0.0, 0.0, 0.0, -2.0, 0.0]</td>\n",
              "      <td>[-2.0]</td>\n",
              "      <td>negative</td>\n",
              "      <td>[]</td>\n",
              "      <td>0</td>\n",
              "    </tr>\n",
              "  </tbody>\n",
              "</table>\n",
              "</div>"
            ],
            "text/plain": [
              "                                            Comments  ... Bing Positive count\n",
              "0  i will not pay any money in future please keep...  ...                   0\n",
              "1  customer service num not response, my repaymen...  ...                   1\n",
              "2  please don't download this app this app , they...  ...                   0\n",
              "3  what the hell is this once i get 1000 loan fro...  ...                   0\n",
              "4  after making pre closure for all my loan, stil...  ...                   0\n",
              "\n",
              "[5 rows x 10 columns]"
            ]
          },
          "metadata": {},
          "execution_count": 76
        }
      ]
    },
    {
      "cell_type": "markdown",
      "metadata": {
        "id": "YhdcH1BMjIDU"
      },
      "source": [
        "###Uploading negative words to list"
      ]
    },
    {
      "cell_type": "code",
      "metadata": {
        "colab": {
          "resources": {
            "http://localhost:8080/nbextensions/google.colab/files.js": {
              "data": "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",
              "ok": true,
              "headers": [
                [
                  "content-type",
                  "application/javascript"
                ]
              ],
              "status": 200,
              "status_text": "OK"
            }
          },
          "base_uri": "https://localhost:8080/",
          "height": 75
        },
        "id": "PGqK5Z8njQWe",
        "outputId": "11cb54f3-f7ab-41c8-91db-a6e7bc70345b"
      },
      "source": [
        "file_upload = files.upload()"
      ],
      "execution_count": null,
      "outputs": [
        {
          "output_type": "display_data",
          "data": {
            "text/html": [
              "\n",
              "     <input type=\"file\" id=\"files-57b688e2-5579-4c2b-83a3-e8070759cd44\" name=\"files[]\" multiple disabled\n",
              "        style=\"border:none\" />\n",
              "     <output id=\"result-57b688e2-5579-4c2b-83a3-e8070759cd44\">\n",
              "      Upload widget is only available when the cell has been executed in the\n",
              "      current browser session. Please rerun this cell to enable.\n",
              "      </output>\n",
              "      <script src=\"/nbextensions/google.colab/files.js\"></script> "
            ],
            "text/plain": [
              "<IPython.core.display.HTML object>"
            ]
          },
          "metadata": {}
        },
        {
          "output_type": "stream",
          "name": "stdout",
          "text": [
            "Saving negative.txt to negative (1).txt\n"
          ]
        }
      ]
    },
    {
      "cell_type": "code",
      "metadata": {
        "colab": {
          "base_uri": "https://localhost:8080/"
        },
        "id": "NHD9TN-mjUB1",
        "outputId": "72df2ca3-fd26-4edd-862d-11e6507a0e26"
      },
      "source": [
        "negative_df= pd.read_csv(io.StringIO(file_upload['negative.txt'].decode('utf-8')))\n",
        "negative_words=negative_df.iloc[::].values\n",
        "print(negative_words)"
      ],
      "execution_count": null,
      "outputs": [
        {
          "output_type": "stream",
          "name": "stdout",
          "text": [
            "[['2-faces']\n",
            " ['abnormal']\n",
            " ['abolish']\n",
            " ...\n",
            " ['zealous']\n",
            " ['zealously']\n",
            " ['zombie']]\n"
          ]
        }
      ]
    },
    {
      "cell_type": "markdown",
      "metadata": {
        "id": "6UC2Fydll1cn"
      },
      "source": [
        "###Negative word count"
      ]
    },
    {
      "cell_type": "code",
      "metadata": {
        "colab": {
          "base_uri": "https://localhost:8080/",
          "height": 484
        },
        "id": "gCSc5JR6lx3E",
        "outputId": "00b1eb51-9a17-465b-fb83-2b433e85b195"
      },
      "source": [
        "df['Bing Negative Tokens']=df['Lemmatized Filtered Tokens'].apply(lambda x: [item for item in x if item in negative_words])\n",
        "df.head()"
      ],
      "execution_count": null,
      "outputs": [
        {
          "output_type": "execute_result",
          "data": {
            "text/html": [
              "<div>\n",
              "<style scoped>\n",
              "    .dataframe tbody tr th:only-of-type {\n",
              "        vertical-align: middle;\n",
              "    }\n",
              "\n",
              "    .dataframe tbody tr th {\n",
              "        vertical-align: top;\n",
              "    }\n",
              "\n",
              "    .dataframe thead th {\n",
              "        text-align: right;\n",
              "    }\n",
              "</style>\n",
              "<table border=\"1\" class=\"dataframe\">\n",
              "  <thead>\n",
              "    <tr style=\"text-align: right;\">\n",
              "      <th></th>\n",
              "      <th>Comments</th>\n",
              "      <th>Tokens</th>\n",
              "      <th>Filtered Tokens</th>\n",
              "      <th>Stemmed Filtered Tokens</th>\n",
              "      <th>Lemmatized Filtered Tokens</th>\n",
              "      <th>Afinn Score of Lem</th>\n",
              "      <th>Afinn Overall Score of Lem</th>\n",
              "      <th>Afinn Sentiment</th>\n",
              "      <th>Bing Positive Tokens</th>\n",
              "      <th>Bing Positive count</th>\n",
              "      <th>Bing Negative Tokens</th>\n",
              "    </tr>\n",
              "  </thead>\n",
              "  <tbody>\n",
              "    <tr>\n",
              "      <th>0</th>\n",
              "      <td>i will not pay any money in future please keep...</td>\n",
              "      <td>[i, will, not, pay, any, money, in, future, pl...</td>\n",
              "      <td>[future, mind, guys, reference, future, mind, ...</td>\n",
              "      <td>[futur, mind, guy, refer, futur, mind, 24, hou...</td>\n",
              "      <td>[future, mind, guy, reference, future, mind, 2...</td>\n",
              "      <td>[0.0, 0.0, 0.0, 0.0, 0.0, 0.0, 0.0, 0.0, 2.0, ...</td>\n",
              "      <td>[0.0]</td>\n",
              "      <td>neutral</td>\n",
              "      <td>[]</td>\n",
              "      <td>0</td>\n",
              "      <td>[mistake]</td>\n",
              "    </tr>\n",
              "    <tr>\n",
              "      <th>1</th>\n",
              "      <td>customer service num not response, my repaymen...</td>\n",
              "      <td>[customer, service, num, not, response, my, re...</td>\n",
              "      <td>[customer, service, num, response, repayment, ...</td>\n",
              "      <td>[custom, servic, num, respons, repay, month, a...</td>\n",
              "      <td>[customer, service, num, response, repayment, ...</td>\n",
              "      <td>[0.0, 0.0, 0.0, 0.0, 0.0, 0.0, 0.0, 0.0, 0.0, ...</td>\n",
              "      <td>[-1.0]</td>\n",
              "      <td>negative</td>\n",
              "      <td>[support]</td>\n",
              "      <td>1</td>\n",
              "      <td>[issue, penalty]</td>\n",
              "    </tr>\n",
              "    <tr>\n",
              "      <th>2</th>\n",
              "      <td>please don't download this app this app , they...</td>\n",
              "      <td>[please, don, t, download, this, app, this, ap...</td>\n",
              "      <td>[download, threatened, payment, contact, send,...</td>\n",
              "      <td>[download, threaten, payment, contact, send, r...</td>\n",
              "      <td>[download, threaten, payment, contact, send, r...</td>\n",
              "      <td>[0.0, -2.0, 0.0, 0.0, 0.0, 0.0]</td>\n",
              "      <td>[-2.0]</td>\n",
              "      <td>negative</td>\n",
              "      <td>[]</td>\n",
              "      <td>0</td>\n",
              "      <td>[threaten]</td>\n",
              "    </tr>\n",
              "    <tr>\n",
              "      <th>3</th>\n",
              "      <td>what the hell is this once i get 1000 loan fro...</td>\n",
              "      <td>[what, the, hell, is, this, once, i, get, 1000...</td>\n",
              "      <td>[apply, message, match, criteria, ffffffkkkkkk]</td>\n",
              "      <td>[appli, messag, match, criteria, ffffffkkkkkk]</td>\n",
              "      <td>[apply, message, match, criteria, ffffffkkkkkk]</td>\n",
              "      <td>[0.0, 0.0, 0.0, 0.0, 0.0]</td>\n",
              "      <td>[0.0]</td>\n",
              "      <td>neutral</td>\n",
              "      <td>[]</td>\n",
              "      <td>0</td>\n",
              "      <td>[]</td>\n",
              "    </tr>\n",
              "    <tr>\n",
              "      <th>4</th>\n",
              "      <td>after making pre closure for all my loan, stil...</td>\n",
              "      <td>[after, making, pre, closure, for, all, my, lo...</td>\n",
              "      <td>[pre, closure, emi, frustrating, friends]</td>\n",
              "      <td>[pre, closur, emi, frustrat, friend]</td>\n",
              "      <td>[pre, closure, emi, frustrate, friends]</td>\n",
              "      <td>[0.0, 0.0, 0.0, -2.0, 0.0]</td>\n",
              "      <td>[-2.0]</td>\n",
              "      <td>negative</td>\n",
              "      <td>[]</td>\n",
              "      <td>0</td>\n",
              "      <td>[frustrate]</td>\n",
              "    </tr>\n",
              "  </tbody>\n",
              "</table>\n",
              "</div>"
            ],
            "text/plain": [
              "                                            Comments  ... Bing Negative Tokens\n",
              "0  i will not pay any money in future please keep...  ...            [mistake]\n",
              "1  customer service num not response, my repaymen...  ...     [issue, penalty]\n",
              "2  please don't download this app this app , they...  ...           [threaten]\n",
              "3  what the hell is this once i get 1000 loan fro...  ...                   []\n",
              "4  after making pre closure for all my loan, stil...  ...          [frustrate]\n",
              "\n",
              "[5 rows x 11 columns]"
            ]
          },
          "metadata": {},
          "execution_count": 79
        }
      ]
    },
    {
      "cell_type": "code",
      "metadata": {
        "colab": {
          "base_uri": "https://localhost:8080/",
          "height": 554
        },
        "id": "gr4YidwPmIMR",
        "outputId": "a3a06c43-d25f-47cc-9c38-e8b061f86506"
      },
      "source": [
        "df['Bing Negative count']=df.apply(lambda row: len(row['Bing Negative Tokens']), axis=1)\n",
        "df.head()"
      ],
      "execution_count": null,
      "outputs": [
        {
          "output_type": "execute_result",
          "data": {
            "text/html": [
              "<div>\n",
              "<style scoped>\n",
              "    .dataframe tbody tr th:only-of-type {\n",
              "        vertical-align: middle;\n",
              "    }\n",
              "\n",
              "    .dataframe tbody tr th {\n",
              "        vertical-align: top;\n",
              "    }\n",
              "\n",
              "    .dataframe thead th {\n",
              "        text-align: right;\n",
              "    }\n",
              "</style>\n",
              "<table border=\"1\" class=\"dataframe\">\n",
              "  <thead>\n",
              "    <tr style=\"text-align: right;\">\n",
              "      <th></th>\n",
              "      <th>Comments</th>\n",
              "      <th>Tokens</th>\n",
              "      <th>Filtered Tokens</th>\n",
              "      <th>Stemmed Filtered Tokens</th>\n",
              "      <th>Lemmatized Filtered Tokens</th>\n",
              "      <th>Afinn Score of Lem</th>\n",
              "      <th>Afinn Overall Score of Lem</th>\n",
              "      <th>Afinn Sentiment</th>\n",
              "      <th>Bing Positive Tokens</th>\n",
              "      <th>Bing Positive count</th>\n",
              "      <th>Bing Negative Tokens</th>\n",
              "      <th>Bing Negative count</th>\n",
              "    </tr>\n",
              "  </thead>\n",
              "  <tbody>\n",
              "    <tr>\n",
              "      <th>0</th>\n",
              "      <td>i will not pay any money in future please keep...</td>\n",
              "      <td>[i, will, not, pay, any, money, in, future, pl...</td>\n",
              "      <td>[future, mind, guys, reference, future, mind, ...</td>\n",
              "      <td>[futur, mind, guy, refer, futur, mind, 24, hou...</td>\n",
              "      <td>[future, mind, guy, reference, future, mind, 2...</td>\n",
              "      <td>[0.0, 0.0, 0.0, 0.0, 0.0, 0.0, 0.0, 0.0, 2.0, ...</td>\n",
              "      <td>[0.0]</td>\n",
              "      <td>neutral</td>\n",
              "      <td>[]</td>\n",
              "      <td>0</td>\n",
              "      <td>[mistake]</td>\n",
              "      <td>1</td>\n",
              "    </tr>\n",
              "    <tr>\n",
              "      <th>1</th>\n",
              "      <td>customer service num not response, my repaymen...</td>\n",
              "      <td>[customer, service, num, not, response, my, re...</td>\n",
              "      <td>[customer, service, num, response, repayment, ...</td>\n",
              "      <td>[custom, servic, num, respons, repay, month, a...</td>\n",
              "      <td>[customer, service, num, response, repayment, ...</td>\n",
              "      <td>[0.0, 0.0, 0.0, 0.0, 0.0, 0.0, 0.0, 0.0, 0.0, ...</td>\n",
              "      <td>[-1.0]</td>\n",
              "      <td>negative</td>\n",
              "      <td>[support]</td>\n",
              "      <td>1</td>\n",
              "      <td>[issue, penalty]</td>\n",
              "      <td>2</td>\n",
              "    </tr>\n",
              "    <tr>\n",
              "      <th>2</th>\n",
              "      <td>please don't download this app this app , they...</td>\n",
              "      <td>[please, don, t, download, this, app, this, ap...</td>\n",
              "      <td>[download, threatened, payment, contact, send,...</td>\n",
              "      <td>[download, threaten, payment, contact, send, r...</td>\n",
              "      <td>[download, threaten, payment, contact, send, r...</td>\n",
              "      <td>[0.0, -2.0, 0.0, 0.0, 0.0, 0.0]</td>\n",
              "      <td>[-2.0]</td>\n",
              "      <td>negative</td>\n",
              "      <td>[]</td>\n",
              "      <td>0</td>\n",
              "      <td>[threaten]</td>\n",
              "      <td>1</td>\n",
              "    </tr>\n",
              "    <tr>\n",
              "      <th>3</th>\n",
              "      <td>what the hell is this once i get 1000 loan fro...</td>\n",
              "      <td>[what, the, hell, is, this, once, i, get, 1000...</td>\n",
              "      <td>[apply, message, match, criteria, ffffffkkkkkk]</td>\n",
              "      <td>[appli, messag, match, criteria, ffffffkkkkkk]</td>\n",
              "      <td>[apply, message, match, criteria, ffffffkkkkkk]</td>\n",
              "      <td>[0.0, 0.0, 0.0, 0.0, 0.0]</td>\n",
              "      <td>[0.0]</td>\n",
              "      <td>neutral</td>\n",
              "      <td>[]</td>\n",
              "      <td>0</td>\n",
              "      <td>[]</td>\n",
              "      <td>0</td>\n",
              "    </tr>\n",
              "    <tr>\n",
              "      <th>4</th>\n",
              "      <td>after making pre closure for all my loan, stil...</td>\n",
              "      <td>[after, making, pre, closure, for, all, my, lo...</td>\n",
              "      <td>[pre, closure, emi, frustrating, friends]</td>\n",
              "      <td>[pre, closur, emi, frustrat, friend]</td>\n",
              "      <td>[pre, closure, emi, frustrate, friends]</td>\n",
              "      <td>[0.0, 0.0, 0.0, -2.0, 0.0]</td>\n",
              "      <td>[-2.0]</td>\n",
              "      <td>negative</td>\n",
              "      <td>[]</td>\n",
              "      <td>0</td>\n",
              "      <td>[frustrate]</td>\n",
              "      <td>1</td>\n",
              "    </tr>\n",
              "  </tbody>\n",
              "</table>\n",
              "</div>"
            ],
            "text/plain": [
              "                                            Comments  ... Bing Negative count\n",
              "0  i will not pay any money in future please keep...  ...                   1\n",
              "1  customer service num not response, my repaymen...  ...                   2\n",
              "2  please don't download this app this app , they...  ...                   1\n",
              "3  what the hell is this once i get 1000 loan fro...  ...                   0\n",
              "4  after making pre closure for all my loan, stil...  ...                   1\n",
              "\n",
              "[5 rows x 12 columns]"
            ]
          },
          "metadata": {},
          "execution_count": 80
        }
      ]
    },
    {
      "cell_type": "markdown",
      "metadata": {
        "id": "mBLQy9AvmSJg"
      },
      "source": [
        "###Sentiment"
      ]
    },
    {
      "cell_type": "code",
      "metadata": {
        "colab": {
          "base_uri": "https://localhost:8080/",
          "height": 571
        },
        "id": "dm24xnLSmVfs",
        "outputId": "73d3731c-4146-4a59-bd97-c77821dacb33"
      },
      "source": [
        "df['Bing Score']=df['Bing Positive count']-df['Bing Negative count']\n",
        "df.head()"
      ],
      "execution_count": null,
      "outputs": [
        {
          "output_type": "execute_result",
          "data": {
            "text/html": [
              "<div>\n",
              "<style scoped>\n",
              "    .dataframe tbody tr th:only-of-type {\n",
              "        vertical-align: middle;\n",
              "    }\n",
              "\n",
              "    .dataframe tbody tr th {\n",
              "        vertical-align: top;\n",
              "    }\n",
              "\n",
              "    .dataframe thead th {\n",
              "        text-align: right;\n",
              "    }\n",
              "</style>\n",
              "<table border=\"1\" class=\"dataframe\">\n",
              "  <thead>\n",
              "    <tr style=\"text-align: right;\">\n",
              "      <th></th>\n",
              "      <th>Comments</th>\n",
              "      <th>Tokens</th>\n",
              "      <th>Filtered Tokens</th>\n",
              "      <th>Stemmed Filtered Tokens</th>\n",
              "      <th>Lemmatized Filtered Tokens</th>\n",
              "      <th>Afinn Score of Lem</th>\n",
              "      <th>Afinn Overall Score of Lem</th>\n",
              "      <th>Afinn Sentiment</th>\n",
              "      <th>Bing Positive Tokens</th>\n",
              "      <th>Bing Positive count</th>\n",
              "      <th>Bing Negative Tokens</th>\n",
              "      <th>Bing Negative count</th>\n",
              "      <th>Bing Score</th>\n",
              "    </tr>\n",
              "  </thead>\n",
              "  <tbody>\n",
              "    <tr>\n",
              "      <th>0</th>\n",
              "      <td>i will not pay any money in future please keep...</td>\n",
              "      <td>[i, will, not, pay, any, money, in, future, pl...</td>\n",
              "      <td>[future, mind, guys, reference, future, mind, ...</td>\n",
              "      <td>[futur, mind, guy, refer, futur, mind, 24, hou...</td>\n",
              "      <td>[future, mind, guy, reference, future, mind, 2...</td>\n",
              "      <td>[0.0, 0.0, 0.0, 0.0, 0.0, 0.0, 0.0, 0.0, 2.0, ...</td>\n",
              "      <td>[0.0]</td>\n",
              "      <td>neutral</td>\n",
              "      <td>[]</td>\n",
              "      <td>0</td>\n",
              "      <td>[mistake]</td>\n",
              "      <td>1</td>\n",
              "      <td>-1</td>\n",
              "    </tr>\n",
              "    <tr>\n",
              "      <th>1</th>\n",
              "      <td>customer service num not response, my repaymen...</td>\n",
              "      <td>[customer, service, num, not, response, my, re...</td>\n",
              "      <td>[customer, service, num, response, repayment, ...</td>\n",
              "      <td>[custom, servic, num, respons, repay, month, a...</td>\n",
              "      <td>[customer, service, num, response, repayment, ...</td>\n",
              "      <td>[0.0, 0.0, 0.0, 0.0, 0.0, 0.0, 0.0, 0.0, 0.0, ...</td>\n",
              "      <td>[-1.0]</td>\n",
              "      <td>negative</td>\n",
              "      <td>[support]</td>\n",
              "      <td>1</td>\n",
              "      <td>[issue, penalty]</td>\n",
              "      <td>2</td>\n",
              "      <td>-1</td>\n",
              "    </tr>\n",
              "    <tr>\n",
              "      <th>2</th>\n",
              "      <td>please don't download this app this app , they...</td>\n",
              "      <td>[please, don, t, download, this, app, this, ap...</td>\n",
              "      <td>[download, threatened, payment, contact, send,...</td>\n",
              "      <td>[download, threaten, payment, contact, send, r...</td>\n",
              "      <td>[download, threaten, payment, contact, send, r...</td>\n",
              "      <td>[0.0, -2.0, 0.0, 0.0, 0.0, 0.0]</td>\n",
              "      <td>[-2.0]</td>\n",
              "      <td>negative</td>\n",
              "      <td>[]</td>\n",
              "      <td>0</td>\n",
              "      <td>[threaten]</td>\n",
              "      <td>1</td>\n",
              "      <td>-1</td>\n",
              "    </tr>\n",
              "    <tr>\n",
              "      <th>3</th>\n",
              "      <td>what the hell is this once i get 1000 loan fro...</td>\n",
              "      <td>[what, the, hell, is, this, once, i, get, 1000...</td>\n",
              "      <td>[apply, message, match, criteria, ffffffkkkkkk]</td>\n",
              "      <td>[appli, messag, match, criteria, ffffffkkkkkk]</td>\n",
              "      <td>[apply, message, match, criteria, ffffffkkkkkk]</td>\n",
              "      <td>[0.0, 0.0, 0.0, 0.0, 0.0]</td>\n",
              "      <td>[0.0]</td>\n",
              "      <td>neutral</td>\n",
              "      <td>[]</td>\n",
              "      <td>0</td>\n",
              "      <td>[]</td>\n",
              "      <td>0</td>\n",
              "      <td>0</td>\n",
              "    </tr>\n",
              "    <tr>\n",
              "      <th>4</th>\n",
              "      <td>after making pre closure for all my loan, stil...</td>\n",
              "      <td>[after, making, pre, closure, for, all, my, lo...</td>\n",
              "      <td>[pre, closure, emi, frustrating, friends]</td>\n",
              "      <td>[pre, closur, emi, frustrat, friend]</td>\n",
              "      <td>[pre, closure, emi, frustrate, friends]</td>\n",
              "      <td>[0.0, 0.0, 0.0, -2.0, 0.0]</td>\n",
              "      <td>[-2.0]</td>\n",
              "      <td>negative</td>\n",
              "      <td>[]</td>\n",
              "      <td>0</td>\n",
              "      <td>[frustrate]</td>\n",
              "      <td>1</td>\n",
              "      <td>-1</td>\n",
              "    </tr>\n",
              "  </tbody>\n",
              "</table>\n",
              "</div>"
            ],
            "text/plain": [
              "                                            Comments  ... Bing Score\n",
              "0  i will not pay any money in future please keep...  ...         -1\n",
              "1  customer service num not response, my repaymen...  ...         -1\n",
              "2  please don't download this app this app , they...  ...         -1\n",
              "3  what the hell is this once i get 1000 loan fro...  ...          0\n",
              "4  after making pre closure for all my loan, stil...  ...         -1\n",
              "\n",
              "[5 rows x 13 columns]"
            ]
          },
          "metadata": {},
          "execution_count": 81
        }
      ]
    },
    {
      "cell_type": "code",
      "metadata": {
        "colab": {
          "base_uri": "https://localhost:8080/",
          "height": 623
        },
        "id": "0lrk2EnKmqPe",
        "outputId": "6b58101c-8c9e-4c37-dca7-c800f699d886"
      },
      "source": [
        "df['Bing Sentiment']=['positive' if score > 0 else 'negative' if score < 0 else 'neutral' for score in df['Bing Score']]\n",
        "df.head()"
      ],
      "execution_count": null,
      "outputs": [
        {
          "output_type": "execute_result",
          "data": {
            "text/html": [
              "<div>\n",
              "<style scoped>\n",
              "    .dataframe tbody tr th:only-of-type {\n",
              "        vertical-align: middle;\n",
              "    }\n",
              "\n",
              "    .dataframe tbody tr th {\n",
              "        vertical-align: top;\n",
              "    }\n",
              "\n",
              "    .dataframe thead th {\n",
              "        text-align: right;\n",
              "    }\n",
              "</style>\n",
              "<table border=\"1\" class=\"dataframe\">\n",
              "  <thead>\n",
              "    <tr style=\"text-align: right;\">\n",
              "      <th></th>\n",
              "      <th>Comments</th>\n",
              "      <th>Tokens</th>\n",
              "      <th>Filtered Tokens</th>\n",
              "      <th>Stemmed Filtered Tokens</th>\n",
              "      <th>Lemmatized Filtered Tokens</th>\n",
              "      <th>Afinn Score of Lem</th>\n",
              "      <th>Afinn Overall Score of Lem</th>\n",
              "      <th>Afinn Sentiment</th>\n",
              "      <th>Bing Positive Tokens</th>\n",
              "      <th>Bing Positive count</th>\n",
              "      <th>Bing Negative Tokens</th>\n",
              "      <th>Bing Negative count</th>\n",
              "      <th>Bing Score</th>\n",
              "      <th>Bing Sentiment</th>\n",
              "    </tr>\n",
              "  </thead>\n",
              "  <tbody>\n",
              "    <tr>\n",
              "      <th>0</th>\n",
              "      <td>i will not pay any money in future please keep...</td>\n",
              "      <td>[i, will, not, pay, any, money, in, future, pl...</td>\n",
              "      <td>[future, mind, guys, reference, future, mind, ...</td>\n",
              "      <td>[futur, mind, guy, refer, futur, mind, 24, hou...</td>\n",
              "      <td>[future, mind, guy, reference, future, mind, 2...</td>\n",
              "      <td>[0.0, 0.0, 0.0, 0.0, 0.0, 0.0, 0.0, 0.0, 2.0, ...</td>\n",
              "      <td>[0.0]</td>\n",
              "      <td>neutral</td>\n",
              "      <td>[]</td>\n",
              "      <td>0</td>\n",
              "      <td>[mistake]</td>\n",
              "      <td>1</td>\n",
              "      <td>-1</td>\n",
              "      <td>negative</td>\n",
              "    </tr>\n",
              "    <tr>\n",
              "      <th>1</th>\n",
              "      <td>customer service num not response, my repaymen...</td>\n",
              "      <td>[customer, service, num, not, response, my, re...</td>\n",
              "      <td>[customer, service, num, response, repayment, ...</td>\n",
              "      <td>[custom, servic, num, respons, repay, month, a...</td>\n",
              "      <td>[customer, service, num, response, repayment, ...</td>\n",
              "      <td>[0.0, 0.0, 0.0, 0.0, 0.0, 0.0, 0.0, 0.0, 0.0, ...</td>\n",
              "      <td>[-1.0]</td>\n",
              "      <td>negative</td>\n",
              "      <td>[support]</td>\n",
              "      <td>1</td>\n",
              "      <td>[issue, penalty]</td>\n",
              "      <td>2</td>\n",
              "      <td>-1</td>\n",
              "      <td>negative</td>\n",
              "    </tr>\n",
              "    <tr>\n",
              "      <th>2</th>\n",
              "      <td>please don't download this app this app , they...</td>\n",
              "      <td>[please, don, t, download, this, app, this, ap...</td>\n",
              "      <td>[download, threatened, payment, contact, send,...</td>\n",
              "      <td>[download, threaten, payment, contact, send, r...</td>\n",
              "      <td>[download, threaten, payment, contact, send, r...</td>\n",
              "      <td>[0.0, -2.0, 0.0, 0.0, 0.0, 0.0]</td>\n",
              "      <td>[-2.0]</td>\n",
              "      <td>negative</td>\n",
              "      <td>[]</td>\n",
              "      <td>0</td>\n",
              "      <td>[threaten]</td>\n",
              "      <td>1</td>\n",
              "      <td>-1</td>\n",
              "      <td>negative</td>\n",
              "    </tr>\n",
              "    <tr>\n",
              "      <th>3</th>\n",
              "      <td>what the hell is this once i get 1000 loan fro...</td>\n",
              "      <td>[what, the, hell, is, this, once, i, get, 1000...</td>\n",
              "      <td>[apply, message, match, criteria, ffffffkkkkkk]</td>\n",
              "      <td>[appli, messag, match, criteria, ffffffkkkkkk]</td>\n",
              "      <td>[apply, message, match, criteria, ffffffkkkkkk]</td>\n",
              "      <td>[0.0, 0.0, 0.0, 0.0, 0.0]</td>\n",
              "      <td>[0.0]</td>\n",
              "      <td>neutral</td>\n",
              "      <td>[]</td>\n",
              "      <td>0</td>\n",
              "      <td>[]</td>\n",
              "      <td>0</td>\n",
              "      <td>0</td>\n",
              "      <td>neutral</td>\n",
              "    </tr>\n",
              "    <tr>\n",
              "      <th>4</th>\n",
              "      <td>after making pre closure for all my loan, stil...</td>\n",
              "      <td>[after, making, pre, closure, for, all, my, lo...</td>\n",
              "      <td>[pre, closure, emi, frustrating, friends]</td>\n",
              "      <td>[pre, closur, emi, frustrat, friend]</td>\n",
              "      <td>[pre, closure, emi, frustrate, friends]</td>\n",
              "      <td>[0.0, 0.0, 0.0, -2.0, 0.0]</td>\n",
              "      <td>[-2.0]</td>\n",
              "      <td>negative</td>\n",
              "      <td>[]</td>\n",
              "      <td>0</td>\n",
              "      <td>[frustrate]</td>\n",
              "      <td>1</td>\n",
              "      <td>-1</td>\n",
              "      <td>negative</td>\n",
              "    </tr>\n",
              "  </tbody>\n",
              "</table>\n",
              "</div>"
            ],
            "text/plain": [
              "                                            Comments  ... Bing Sentiment\n",
              "0  i will not pay any money in future please keep...  ...       negative\n",
              "1  customer service num not response, my repaymen...  ...       negative\n",
              "2  please don't download this app this app , they...  ...       negative\n",
              "3  what the hell is this once i get 1000 loan fro...  ...        neutral\n",
              "4  after making pre closure for all my loan, stil...  ...       negative\n",
              "\n",
              "[5 rows x 14 columns]"
            ]
          },
          "metadata": {},
          "execution_count": 82
        }
      ]
    },
    {
      "cell_type": "markdown",
      "metadata": {
        "id": "g4y3IDmFnINT"
      },
      "source": [
        "###Checking unknown tokens"
      ]
    },
    {
      "cell_type": "code",
      "metadata": {
        "colab": {
          "base_uri": "https://localhost:8080/"
        },
        "id": "S27kKQEEnHUF",
        "outputId": "489e5695-3d63-419e-bd89-f90b9c37ac9c"
      },
      "source": [
        "from itertools import chain\n",
        "word_cloud=list(chain(positive_words,negative_words))\n",
        "print(word_cloud)"
      ],
      "execution_count": null,
      "outputs": [
        {
          "output_type": "stream",
          "name": "stdout",
          "text": [
            "[array(['abounds'], dtype=object), array(['abundance'], dtype=object), array(['abundant'], dtype=object), array(['accessable'], dtype=object), array(['accessible'], dtype=object), array(['acclaim'], dtype=object), array(['acclaimed'], dtype=object), array(['acclamation'], dtype=object), array(['accolade'], dtype=object), array(['accolades'], dtype=object), array(['accommodative'], dtype=object), array(['accomodative'], dtype=object), array(['accomplish'], dtype=object), array(['accomplished'], dtype=object), array(['accomplishment'], dtype=object), array(['accomplishments'], dtype=object), array(['accurate'], dtype=object), array(['accurately'], dtype=object), array(['achievable'], dtype=object), array(['achievement'], dtype=object), array(['achievements'], dtype=object), array(['achievible'], dtype=object), array(['acumen'], dtype=object), array(['adaptable'], dtype=object), array(['adaptive'], dtype=object), array(['adequate'], dtype=object), array(['adjustable'], dtype=object), array(['admirable'], dtype=object), array(['admirably'], dtype=object), array(['admiration'], dtype=object), array(['admire'], dtype=object), array(['admirer'], dtype=object), array(['admiring'], dtype=object), array(['admiringly'], dtype=object), array(['adorable'], dtype=object), array(['adore'], dtype=object), array(['adored'], dtype=object), array(['adorer'], dtype=object), array(['adoring'], dtype=object), array(['adoringly'], dtype=object), array(['adroit'], dtype=object), array(['adroitly'], dtype=object), array(['adulate'], dtype=object), array(['adulation'], dtype=object), array(['adulatory'], dtype=object), array(['advanced'], dtype=object), array(['advantage'], dtype=object), array(['advantageous'], dtype=object), array(['advantageously'], dtype=object), array(['advantages'], dtype=object), array(['adventuresome'], dtype=object), array(['adventurous'], dtype=object), array(['advocate'], dtype=object), array(['advocated'], dtype=object), array(['advocates'], dtype=object), array(['affability'], dtype=object), array(['affable'], dtype=object), array(['affably'], dtype=object), array(['affectation'], dtype=object), array(['affection'], dtype=object), array(['affectionate'], dtype=object), array(['affinity'], dtype=object), array(['affirm'], dtype=object), array(['affirmation'], dtype=object), array(['affirmative'], dtype=object), array(['affluence'], dtype=object), array(['affluent'], dtype=object), array(['afford'], dtype=object), array(['affordable'], dtype=object), array(['affordably'], dtype=object), array(['afordable'], dtype=object), array(['agile'], dtype=object), array(['agilely'], dtype=object), array(['agility'], dtype=object), array(['agreeable'], dtype=object), array(['agreeableness'], dtype=object), array(['agreeably'], dtype=object), array(['all-around'], dtype=object), array(['alluring'], dtype=object), array(['alluringly'], dtype=object), array(['altruistic'], dtype=object), array(['altruistically'], dtype=object), array(['amaze'], dtype=object), array(['amazed'], dtype=object), array(['amazement'], dtype=object), array(['amazes'], dtype=object), array(['amazing'], dtype=object), array(['amazingly'], dtype=object), array(['ambitious'], dtype=object), array(['ambitiously'], dtype=object), array(['ameliorate'], dtype=object), array(['amenable'], dtype=object), array(['amenity'], dtype=object), array(['amiability'], dtype=object), array(['amiabily'], dtype=object), array(['amiable'], dtype=object), array(['amicability'], dtype=object), array(['amicable'], dtype=object), array(['amicably'], dtype=object), array(['amity'], dtype=object), array(['ample'], dtype=object), array(['amply'], dtype=object), array(['amuse'], dtype=object), array(['amusing'], dtype=object), array(['amusingly'], dtype=object), array(['angel'], dtype=object), array(['angelic'], dtype=object), array(['apotheosis'], dtype=object), array(['appeal'], dtype=object), array(['appealing'], dtype=object), array(['applaud'], dtype=object), array(['appreciable'], dtype=object), array(['appreciate'], dtype=object), array(['appreciated'], dtype=object), array(['appreciates'], dtype=object), array(['appreciative'], dtype=object), array(['appreciatively'], dtype=object), array(['appropriate'], dtype=object), array(['approval'], dtype=object), array(['approve'], dtype=object), array(['ardent'], dtype=object), array(['ardently'], dtype=object), array(['ardor'], dtype=object), array(['articulate'], dtype=object), array(['aspiration'], dtype=object), array(['aspirations'], dtype=object), array(['aspire'], dtype=object), array(['assurance'], dtype=object), array(['assurances'], dtype=object), array(['assure'], dtype=object), array(['assuredly'], dtype=object), array(['assuring'], dtype=object), array(['astonish'], dtype=object), array(['astonished'], dtype=object), array(['astonishing'], dtype=object), array(['astonishingly'], dtype=object), array(['astonishment'], dtype=object), array(['astound'], dtype=object), array(['astounded'], dtype=object), array(['astounding'], dtype=object), array(['astoundingly'], dtype=object), array(['astutely'], dtype=object), array(['attentive'], dtype=object), array(['attraction'], dtype=object), array(['attractive'], dtype=object), array(['attractively'], dtype=object), array(['attune'], dtype=object), array(['audible'], dtype=object), array(['audibly'], dtype=object), array(['auspicious'], dtype=object), array(['authentic'], dtype=object), array(['authoritative'], dtype=object), array(['autonomous'], dtype=object), array(['available'], dtype=object), array(['aver'], dtype=object), array(['avid'], dtype=object), array(['avidly'], dtype=object), array(['award'], dtype=object), array(['awarded'], dtype=object), array(['awards'], dtype=object), array(['awe'], dtype=object), array(['awed'], dtype=object), array(['awesome'], dtype=object), array(['awesomely'], dtype=object), array(['awesomeness'], dtype=object), array(['awestruck'], dtype=object), array(['awsome'], dtype=object), array(['backbone'], dtype=object), array(['balanced'], dtype=object), array(['bargain'], dtype=object), array(['beauteous'], dtype=object), array(['beautiful'], dtype=object), array(['beautifullly'], dtype=object), array(['beautifully'], dtype=object), array(['beautify'], dtype=object), array(['beauty'], dtype=object), array(['beckon'], dtype=object), array(['beckoned'], dtype=object), array(['beckoning'], dtype=object), array(['beckons'], dtype=object), array(['believable'], dtype=object), array(['believeable'], dtype=object), array(['beloved'], dtype=object), array(['benefactor'], dtype=object), array(['beneficent'], dtype=object), array(['beneficial'], dtype=object), array(['beneficially'], dtype=object), array(['beneficiary'], dtype=object), array(['benefit'], dtype=object), array(['benefits'], dtype=object), array(['benevolence'], dtype=object), array(['benevolent'], dtype=object), array(['benifits'], dtype=object), array(['best'], dtype=object), array(['best-known'], dtype=object), array(['best-performing'], dtype=object), array(['best-selling'], dtype=object), array(['better'], dtype=object), array(['better-known'], dtype=object), array(['better-than-expected'], dtype=object), array(['beutifully'], dtype=object), array(['blameless'], dtype=object), array(['bless'], dtype=object), array(['blessing'], dtype=object), array(['bliss'], dtype=object), array(['blissful'], dtype=object), array(['blissfully'], dtype=object), array(['blithe'], dtype=object), array(['blockbuster'], dtype=object), array(['bloom'], dtype=object), array(['blossom'], dtype=object), array(['bolster'], dtype=object), array(['bonny'], dtype=object), array(['bonus'], dtype=object), array(['bonuses'], dtype=object), array(['boom'], dtype=object), array(['booming'], dtype=object), array(['boost'], dtype=object), array(['boundless'], dtype=object), array(['bountiful'], dtype=object), array(['brainiest'], dtype=object), array(['brainy'], dtype=object), array(['brand-new'], dtype=object), array(['brave'], dtype=object), array(['bravery'], dtype=object), array(['bravo'], dtype=object), array(['breakthrough'], dtype=object), array(['breakthroughs'], dtype=object), array(['breathlessness'], dtype=object), array(['breathtaking'], dtype=object), array(['breathtakingly'], dtype=object), array(['breeze'], dtype=object), array(['bright'], dtype=object), array(['brighten'], dtype=object), array(['brighter'], dtype=object), array(['brightest'], dtype=object), array(['brilliance'], dtype=object), array(['brilliances'], dtype=object), array(['brilliant'], dtype=object), array(['brilliantly'], dtype=object), array(['brisk'], dtype=object), array(['brotherly'], dtype=object), array(['bullish'], dtype=object), array(['buoyant'], dtype=object), array(['cajole'], dtype=object), array(['calm'], dtype=object), array(['calming'], dtype=object), array(['calmness'], dtype=object), array(['capability'], dtype=object), array(['capable'], dtype=object), array(['capably'], dtype=object), array(['captivate'], dtype=object), array(['captivating'], dtype=object), array(['carefree'], dtype=object), array(['cashback'], dtype=object), array(['cashbacks'], dtype=object), array(['catchy'], dtype=object), array(['celebrate'], dtype=object), array(['celebrated'], dtype=object), array(['celebration'], dtype=object), array(['celebratory'], dtype=object), array(['champ'], dtype=object), array(['champion'], dtype=object), array(['charisma'], dtype=object), array(['charismatic'], dtype=object), array(['charitable'], dtype=object), array(['charm'], dtype=object), array(['charming'], dtype=object), array(['charmingly'], dtype=object), array(['chaste'], dtype=object), array(['cheaper'], dtype=object), array(['cheapest'], dtype=object), array(['cheer'], dtype=object), array(['cheerful'], dtype=object), array(['cheery'], dtype=object), array(['cherish'], dtype=object), array(['cherished'], dtype=object), array(['cherub'], dtype=object), array(['chic'], dtype=object), array(['chivalrous'], dtype=object), array(['chivalry'], dtype=object), array(['civility'], dtype=object), array(['civilize'], dtype=object), array(['clarity'], dtype=object), array(['classic'], dtype=object), array(['classy'], dtype=object), array(['clean'], dtype=object), array(['cleaner'], dtype=object), array(['cleanest'], dtype=object), array(['cleanliness'], dtype=object), array(['cleanly'], dtype=object), array(['clear'], dtype=object), array(['clear-cut'], dtype=object), array(['cleared'], dtype=object), array(['clearer'], dtype=object), array(['clearly'], dtype=object), array(['clears'], dtype=object), array(['clever'], dtype=object), array(['cleverly'], dtype=object), array(['cohere'], dtype=object), array(['coherence'], dtype=object), array(['coherent'], dtype=object), array(['cohesive'], dtype=object), array(['colorful'], dtype=object), array(['comely'], dtype=object), array(['comfort'], dtype=object), array(['comfortable'], dtype=object), array(['comfortably'], dtype=object), array(['comforting'], dtype=object), array(['comfy'], dtype=object), array(['commend'], dtype=object), array(['commendable'], dtype=object), array(['commendably'], dtype=object), array(['commitment'], dtype=object), array(['commodious'], dtype=object), array(['compact'], dtype=object), array(['compactly'], dtype=object), array(['compassion'], dtype=object), array(['compassionate'], dtype=object), array(['compatible'], dtype=object), array(['competitive'], dtype=object), array(['complement'], dtype=object), array(['complementary'], dtype=object), array(['complemented'], dtype=object), array(['complements'], dtype=object), array(['compliant'], dtype=object), array(['compliment'], dtype=object), array(['complimentary'], dtype=object), array(['comprehensive'], dtype=object), array(['conciliate'], dtype=object), array(['conciliatory'], dtype=object), array(['concise'], dtype=object), array(['confidence'], dtype=object), array(['confident'], dtype=object), array(['congenial'], dtype=object), array(['congratulate'], dtype=object), array(['congratulation'], dtype=object), array(['congratulations'], dtype=object), array(['congratulatory'], dtype=object), array(['conscientious'], dtype=object), array(['considerate'], dtype=object), array(['consistent'], dtype=object), array(['consistently'], dtype=object), array(['constructive'], dtype=object), array(['consummate'], dtype=object), array(['contentment'], dtype=object), array(['continuity'], dtype=object), array(['contrasty'], dtype=object), array(['contribution'], dtype=object), array(['convenience'], dtype=object), array(['convenient'], dtype=object), array(['conveniently'], dtype=object), array(['convience'], dtype=object), array(['convienient'], dtype=object), array(['convient'], dtype=object), array(['convincing'], dtype=object), array(['convincingly'], dtype=object), array(['cool'], dtype=object), array(['coolest'], dtype=object), array(['cooperative'], dtype=object), array(['cooperatively'], dtype=object), array(['cornerstone'], dtype=object), array(['correct'], dtype=object), array(['correctly'], dtype=object), array(['cost-effective'], dtype=object), array(['cost-saving'], dtype=object), array(['counter-attack'], dtype=object), array(['counter-attacks'], dtype=object), array(['courage'], dtype=object), array(['courageous'], dtype=object), array(['courageously'], dtype=object), array(['courageousness'], dtype=object), array(['courteous'], dtype=object), array(['courtly'], dtype=object), array(['covenant'], dtype=object), array(['cozy'], dtype=object), array(['creative'], dtype=object), array(['credence'], dtype=object), array(['credible'], dtype=object), array(['crisp'], dtype=object), array(['crisper'], dtype=object), array(['cure'], dtype=object), array(['cure-all'], dtype=object), array(['cushy'], dtype=object), array(['cute'], dtype=object), array(['cuteness'], dtype=object), array(['danke'], dtype=object), array(['danken'], dtype=object), array(['daring'], dtype=object), array(['daringly'], dtype=object), array(['darling'], dtype=object), array(['dashing'], dtype=object), array(['dauntless'], dtype=object), array(['dawn'], dtype=object), array(['dazzle'], dtype=object), array(['dazzled'], dtype=object), array(['dazzling'], dtype=object), array(['dead-cheap'], dtype=object), array(['dead-on'], dtype=object), array(['decency'], dtype=object), array(['decent'], dtype=object), array(['decisive'], dtype=object), array(['decisiveness'], dtype=object), array(['dedicated'], dtype=object), array(['defeat'], dtype=object), array(['defeated'], dtype=object), array(['defeating'], dtype=object), array(['defeats'], dtype=object), array(['defender'], dtype=object), array(['deference'], dtype=object), array(['deft'], dtype=object), array(['deginified'], dtype=object), array(['delectable'], dtype=object), array(['delicacy'], dtype=object), array(['delicate'], dtype=object), array(['delicious'], dtype=object), array(['delight'], dtype=object), array(['delighted'], dtype=object), array(['delightful'], dtype=object), array(['delightfully'], dtype=object), array(['delightfulness'], dtype=object), array(['dependable'], dtype=object), array(['dependably'], dtype=object), array(['deservedly'], dtype=object), array(['deserving'], dtype=object), array(['desirable'], dtype=object), array(['desiring'], dtype=object), array(['desirous'], dtype=object), array(['destiny'], dtype=object), array(['detachable'], dtype=object), array(['devout'], dtype=object), array(['dexterous'], dtype=object), array(['dexterously'], dtype=object), array(['dextrous'], dtype=object), array(['dignified'], dtype=object), array(['dignify'], dtype=object), array(['dignity'], dtype=object), array(['diligence'], dtype=object), array(['diligent'], dtype=object), array(['diligently'], dtype=object), array(['diplomatic'], dtype=object), array(['dirt-cheap'], dtype=object), array(['distinction'], dtype=object), array(['distinctive'], dtype=object), array(['distinguished'], dtype=object), array(['diversified'], dtype=object), array(['divine'], dtype=object), array(['divinely'], dtype=object), array(['dominate'], dtype=object), array(['dominated'], dtype=object), array(['dominates'], dtype=object), array(['dote'], dtype=object), array(['dotingly'], dtype=object), array(['doubtless'], dtype=object), array(['dreamland'], dtype=object), array(['dumbfounded'], dtype=object), array(['dumbfounding'], dtype=object), array(['dummy-proof'], dtype=object), array(['durable'], dtype=object), array(['dynamic'], dtype=object), array(['eager'], dtype=object), array(['eagerly'], dtype=object), array(['eagerness'], dtype=object), array(['earnest'], dtype=object), array(['earnestly'], dtype=object), array(['earnestness'], dtype=object), array(['ease'], dtype=object), array(['eased'], dtype=object), array(['eases'], dtype=object), array(['easier'], dtype=object), array(['easiest'], dtype=object), array(['easiness'], dtype=object), array(['easing'], dtype=object), array(['easy'], dtype=object), array(['easy-to-use'], dtype=object), array(['easygoing'], dtype=object), array(['ebullience'], dtype=object), array(['ebullient'], dtype=object), array(['ebulliently'], dtype=object), array(['ecenomical'], dtype=object), array(['economical'], dtype=object), array(['ecstasies'], dtype=object), array(['ecstasy'], dtype=object), array(['ecstatic'], dtype=object), array(['ecstatically'], dtype=object), array(['edify'], dtype=object), array(['educated'], dtype=object), array(['effective'], dtype=object), array(['effectively'], dtype=object), array(['effectiveness'], dtype=object), array(['effectual'], dtype=object), array(['efficacious'], dtype=object), array(['efficient'], dtype=object), array(['efficiently'], dtype=object), array(['effortless'], dtype=object), array(['effortlessly'], dtype=object), array(['effusion'], dtype=object), array(['effusive'], dtype=object), array(['effusively'], dtype=object), array(['effusiveness'], dtype=object), array(['elan'], dtype=object), array(['elate'], dtype=object), array(['elated'], dtype=object), array(['elatedly'], dtype=object), array(['elation'], dtype=object), array(['electrify'], dtype=object), array(['elegance'], dtype=object), array(['elegant'], dtype=object), array(['elegantly'], dtype=object), array(['elevate'], dtype=object), array(['elite'], dtype=object), array(['eloquence'], dtype=object), array(['eloquent'], dtype=object), array(['eloquently'], dtype=object), array(['embolden'], dtype=object), array(['eminence'], dtype=object), array(['eminent'], dtype=object), array(['empathize'], dtype=object), array(['empathy'], dtype=object), array(['empower'], dtype=object), array(['empowerment'], dtype=object), array(['enchant'], dtype=object), array(['enchanted'], dtype=object), array(['enchanting'], dtype=object), array(['enchantingly'], dtype=object), array(['encourage'], dtype=object), array(['encouragement'], dtype=object), array(['encouraging'], dtype=object), array(['encouragingly'], dtype=object), array(['endear'], dtype=object), array(['endearing'], dtype=object), array(['endorse'], dtype=object), array(['endorsed'], dtype=object), array(['endorsement'], dtype=object), array(['endorses'], dtype=object), array(['endorsing'], dtype=object), array(['energetic'], dtype=object), array(['energize'], dtype=object), array(['energy-efficient'], dtype=object), array(['energy-saving'], dtype=object), array(['engaging'], dtype=object), array(['engrossing'], dtype=object), array(['enhance'], dtype=object), array(['enhanced'], dtype=object), array(['enhancement'], dtype=object), array(['enhances'], dtype=object), array(['enjoy'], dtype=object), array(['enjoyable'], dtype=object), array(['enjoyably'], dtype=object), array(['enjoyed'], dtype=object), array(['enjoying'], dtype=object), array(['enjoyment'], dtype=object), array(['enjoys'], dtype=object), array(['enlighten'], dtype=object), array(['enlightenment'], dtype=object), array(['enliven'], dtype=object), array(['ennoble'], dtype=object), array(['enough'], dtype=object), array(['enrapt'], dtype=object), array(['enrapture'], dtype=object), array(['enraptured'], dtype=object), array(['enrich'], dtype=object), array(['enrichment'], dtype=object), array(['enterprising'], dtype=object), array(['entertain'], dtype=object), array(['entertaining'], dtype=object), array(['entertains'], dtype=object), array(['enthral'], dtype=object), array(['enthrall'], dtype=object), array(['enthralled'], dtype=object), array(['enthuse'], dtype=object), array(['enthusiasm'], dtype=object), array(['enthusiast'], dtype=object), array(['enthusiastic'], dtype=object), array(['enthusiastically'], dtype=object), array(['entice'], dtype=object), array(['enticed'], dtype=object), array(['enticing'], dtype=object), array(['enticingly'], dtype=object), array(['entranced'], dtype=object), array(['entrancing'], dtype=object), array(['entrust'], dtype=object), array(['enviable'], dtype=object), array(['enviably'], dtype=object), array(['envious'], dtype=object), array(['enviously'], dtype=object), array(['enviousness'], dtype=object), array(['envy'], dtype=object), array(['equitable'], dtype=object), array(['ergonomical'], dtype=object), array(['err-free'], dtype=object), array(['erudite'], dtype=object), array(['ethical'], dtype=object), array(['eulogize'], dtype=object), array(['euphoria'], dtype=object), array(['euphoric'], dtype=object), array(['euphorically'], dtype=object), array(['evaluative'], dtype=object), array(['evenly'], dtype=object), array(['eventful'], dtype=object), array(['everlasting'], dtype=object), array(['evocative'], dtype=object), array(['exalt'], dtype=object), array(['exaltation'], dtype=object), array(['exalted'], dtype=object), array(['exaltedly'], dtype=object), array(['exalting'], dtype=object), array(['exaltingly'], dtype=object), array(['examplar'], dtype=object), array(['examplary'], dtype=object), array(['excallent'], dtype=object), array(['exceed'], dtype=object), array(['exceeded'], dtype=object), array(['exceeding'], dtype=object), array(['exceedingly'], dtype=object), array(['exceeds'], dtype=object), array(['excel'], dtype=object), array(['exceled'], dtype=object), array(['excelent'], dtype=object), array(['excellant'], dtype=object), array(['excelled'], dtype=object), array(['excellence'], dtype=object), array(['excellency'], dtype=object), array(['excellent'], dtype=object), array(['excellently'], dtype=object), array(['excels'], dtype=object), array(['exceptional'], dtype=object), array(['exceptionally'], dtype=object), array(['excite'], dtype=object), array(['excited'], dtype=object), array(['excitedly'], dtype=object), array(['excitedness'], dtype=object), array(['excitement'], dtype=object), array(['excites'], dtype=object), array(['exciting'], dtype=object), array(['excitingly'], dtype=object), array(['exellent'], dtype=object), array(['exemplar'], dtype=object), array(['exemplary'], dtype=object), array(['exhilarate'], dtype=object), array(['exhilarating'], dtype=object), array(['exhilaratingly'], dtype=object), array(['exhilaration'], dtype=object), array(['exonerate'], dtype=object), array(['expansive'], dtype=object), array(['expeditiously'], dtype=object), array(['expertly'], dtype=object), array(['exquisite'], dtype=object), array(['exquisitely'], dtype=object), array(['extol'], dtype=object), array(['extoll'], dtype=object), array(['extraordinarily'], dtype=object), array(['extraordinary'], dtype=object), array(['exuberance'], dtype=object), array(['exuberant'], dtype=object), array(['exuberantly'], dtype=object), array(['exult'], dtype=object), array(['exultant'], dtype=object), array(['exultation'], dtype=object), array(['exultingly'], dtype=object), array(['eye-catch'], dtype=object), array(['eye-catching'], dtype=object), array(['eyecatch'], dtype=object), array(['eyecatching'], dtype=object), array(['fabulous'], dtype=object), array(['fabulously'], dtype=object), array(['facilitate'], dtype=object), array(['fair'], dtype=object), array(['fairly'], dtype=object), array(['fairness'], dtype=object), array(['faith'], dtype=object), array(['faithful'], dtype=object), array(['faithfully'], dtype=object), array(['faithfulness'], dtype=object), array(['fame'], dtype=object), array(['famed'], dtype=object), array(['famous'], dtype=object), array(['famously'], dtype=object), array(['fancier'], dtype=object), array(['fancinating'], dtype=object), array(['fancy'], dtype=object), array(['fanfare'], dtype=object), array(['fans'], dtype=object), array(['fantastic'], dtype=object), array(['fantastically'], dtype=object), array(['fascinate'], dtype=object), array(['fascinating'], dtype=object), array(['fascinatingly'], dtype=object), array(['fascination'], dtype=object), array(['fashionable'], dtype=object), array(['fashionably'], dtype=object), array(['fast'], dtype=object), array(['fast-growing'], dtype=object), array(['fast-paced'], dtype=object), array(['faster'], dtype=object), array(['fastest'], dtype=object), array(['fastest-growing'], dtype=object), array(['faultless'], dtype=object), array(['fav'], dtype=object), array(['fave'], dtype=object), array(['favor'], dtype=object), array(['favorable'], dtype=object), array(['favored'], dtype=object), array(['favorite'], dtype=object), array(['favorited'], dtype=object), array(['favour'], dtype=object), array(['fearless'], dtype=object), array(['fearlessly'], dtype=object), array(['feasible'], dtype=object), array(['feasibly'], dtype=object), array(['feat'], dtype=object), array(['feature-rich'], dtype=object), array(['fecilitous'], dtype=object), array(['feisty'], dtype=object), array(['felicitate'], dtype=object), array(['felicitous'], dtype=object), array(['felicity'], dtype=object), array(['fertile'], dtype=object), array(['fervent'], dtype=object), array(['fervently'], dtype=object), array(['fervid'], dtype=object), array(['fervidly'], dtype=object), array(['fervor'], dtype=object), array(['festive'], dtype=object), array(['fidelity'], dtype=object), array(['fiery'], dtype=object), array(['fine'], dtype=object), array(['fine-looking'], dtype=object), array(['finely'], dtype=object), array(['finer'], dtype=object), array(['finest'], dtype=object), array(['firmer'], dtype=object), array(['first-class'], dtype=object), array(['first-in-class'], dtype=object), array(['first-rate'], dtype=object), array(['flashy'], dtype=object), array(['flatter'], dtype=object), array(['flattering'], dtype=object), array(['flatteringly'], dtype=object), array(['flawless'], dtype=object), array(['flawlessly'], dtype=object), array(['flexibility'], dtype=object), array(['flexible'], dtype=object), array(['flourish'], dtype=object), array(['flourishing'], dtype=object), array(['fluent'], dtype=object), array(['flutter'], dtype=object), array(['fond'], dtype=object), array(['fondly'], dtype=object), array(['fondness'], dtype=object), array(['foolproof'], dtype=object), array(['foremost'], dtype=object), array(['foresight'], dtype=object), array(['formidable'], dtype=object), array(['fortitude'], dtype=object), array(['fortuitous'], dtype=object), array(['fortuitously'], dtype=object), array(['fortunate'], dtype=object), array(['fortunately'], dtype=object), array(['fortune'], dtype=object), array(['fragrant'], dtype=object), array(['free'], dtype=object), array(['freed'], dtype=object), array(['freedom'], dtype=object), array(['freedoms'], dtype=object), array(['fresh'], dtype=object), array(['fresher'], dtype=object), array(['freshest'], dtype=object), array(['friendliness'], dtype=object), array(['friendly'], dtype=object), array(['frolic'], dtype=object), array(['frugal'], dtype=object), array(['fruitful'], dtype=object), array(['ftw'], dtype=object), array(['fulfillment'], dtype=object), array(['fun'], dtype=object), array(['futurestic'], dtype=object), array(['futuristic'], dtype=object), array(['gaiety'], dtype=object), array(['gaily'], dtype=object), array(['gain'], dtype=object), array(['gained'], dtype=object), array(['gainful'], dtype=object), array(['gainfully'], dtype=object), array(['gaining'], dtype=object), array(['gains'], dtype=object), array(['gallant'], dtype=object), array(['gallantly'], dtype=object), array(['galore'], dtype=object), array(['geekier'], dtype=object), array(['geeky'], dtype=object), array(['gem'], dtype=object), array(['gems'], dtype=object), array(['generosity'], dtype=object), array(['generous'], dtype=object), array(['generously'], dtype=object), array(['genial'], dtype=object), array(['genius'], dtype=object), array(['gentle'], dtype=object), array(['gentlest'], dtype=object), array(['genuine'], dtype=object), array(['gifted'], dtype=object), array(['glad'], dtype=object), array(['gladden'], dtype=object), array(['gladly'], dtype=object), array(['gladness'], dtype=object), array(['glamorous'], dtype=object), array(['glee'], dtype=object), array(['gleeful'], dtype=object), array(['gleefully'], dtype=object), array(['glimmer'], dtype=object), array(['glimmering'], dtype=object), array(['glisten'], dtype=object), array(['glistening'], dtype=object), array(['glitter'], dtype=object), array(['glitz'], dtype=object), array(['glorify'], dtype=object), array(['glorious'], dtype=object), array(['gloriously'], dtype=object), array(['glory'], dtype=object), array(['glow'], dtype=object), array(['glowing'], dtype=object), array(['glowingly'], dtype=object), array(['god-given'], dtype=object), array(['god-send'], dtype=object), array(['godlike'], dtype=object), array(['godsend'], dtype=object), array(['gold'], dtype=object), array(['golden'], dtype=object), array(['good'], dtype=object), array(['goodly'], dtype=object), array(['goodness'], dtype=object), array(['goodwill'], dtype=object), array(['goood'], dtype=object), array(['gooood'], dtype=object), array(['gorgeous'], dtype=object), array(['gorgeously'], dtype=object), array(['grace'], dtype=object), array(['graceful'], dtype=object), array(['gracefully'], dtype=object), array(['gracious'], dtype=object), array(['graciously'], dtype=object), array(['graciousness'], dtype=object), array(['grand'], dtype=object), array(['grandeur'], dtype=object), array(['grateful'], dtype=object), array(['gratefully'], dtype=object), array(['gratification'], dtype=object), array(['gratified'], dtype=object), array(['gratifies'], dtype=object), array(['gratify'], dtype=object), array(['gratifying'], dtype=object), array(['gratifyingly'], dtype=object), array(['gratitude'], dtype=object), array(['great'], dtype=object), array(['greatest'], dtype=object), array(['greatness'], dtype=object), array(['grin'], dtype=object), array(['groundbreaking'], dtype=object), array(['guarantee'], dtype=object), array(['guidance'], dtype=object), array(['guiltless'], dtype=object), array(['gumption'], dtype=object), array(['gush'], dtype=object), array(['gusto'], dtype=object), array(['gutsy'], dtype=object), array(['hail'], dtype=object), array(['halcyon'], dtype=object), array(['hale'], dtype=object), array(['hallmark'], dtype=object), array(['hallmarks'], dtype=object), array(['hallowed'], dtype=object), array(['handier'], dtype=object), array(['handily'], dtype=object), array(['hands-down'], dtype=object), array(['handsome'], dtype=object), array(['handsomely'], dtype=object), array(['handy'], dtype=object), array(['happier'], dtype=object), array(['happily'], dtype=object), array(['happiness'], dtype=object), array(['happy'], dtype=object), array(['hard-working'], dtype=object), array(['hardier'], dtype=object), array(['hardy'], dtype=object), array(['harmless'], dtype=object), array(['harmonious'], dtype=object), array(['harmoniously'], dtype=object), array(['harmonize'], dtype=object), array(['harmony'], dtype=object), array(['headway'], dtype=object), array(['heal'], dtype=object), array(['healthful'], dtype=object), array(['healthy'], dtype=object), array(['hearten'], dtype=object), array(['heartening'], dtype=object), array(['heartfelt'], dtype=object), array(['heartily'], dtype=object), array(['heartwarming'], dtype=object), array(['heaven'], dtype=object), array(['heavenly'], dtype=object), array(['helped'], dtype=object), array(['helpful'], dtype=object), array(['helping'], dtype=object), array(['hero'], dtype=object), array(['heroic'], dtype=object), array(['heroically'], dtype=object), array(['heroine'], dtype=object), array(['heroize'], dtype=object), array(['heros'], dtype=object), array(['high-quality'], dtype=object), array(['high-spirited'], dtype=object), array(['hilarious'], dtype=object), array(['holy'], dtype=object), array(['homage'], dtype=object), array(['honest'], dtype=object), array(['honesty'], dtype=object), array(['honor'], dtype=object), array(['honorable'], dtype=object), array(['honored'], dtype=object), array(['honoring'], dtype=object), array(['hooray'], dtype=object), array(['hopeful'], dtype=object), array(['hospitable'], dtype=object), array(['hot'], dtype=object), array(['hotcake'], dtype=object), array(['hotcakes'], dtype=object), array(['hottest'], dtype=object), array(['hug'], dtype=object), array(['humane'], dtype=object), array(['humble'], dtype=object), array(['humility'], dtype=object), array(['humor'], dtype=object), array(['humorous'], dtype=object), array(['humorously'], dtype=object), array(['humour'], dtype=object), array(['humourous'], dtype=object), array(['ideal'], dtype=object), array(['idealize'], dtype=object), array(['ideally'], dtype=object), array(['idol'], dtype=object), array(['idolize'], dtype=object), array(['idolized'], dtype=object), array(['idyllic'], dtype=object), array(['illuminate'], dtype=object), array(['illuminati'], dtype=object), array(['illuminating'], dtype=object), array(['illumine'], dtype=object), array(['illustrious'], dtype=object), array(['ilu'], dtype=object), array(['imaculate'], dtype=object), array(['imaginative'], dtype=object), array(['immaculate'], dtype=object), array(['immaculately'], dtype=object), array(['immense'], dtype=object), array(['impartial'], dtype=object), array(['impartiality'], dtype=object), array(['impartially'], dtype=object), array(['impassioned'], dtype=object), array(['impeccable'], dtype=object), array(['impeccably'], dtype=object), array(['important'], dtype=object), array(['impress'], dtype=object), array(['impressed'], dtype=object), array(['impresses'], dtype=object), array(['impressive'], dtype=object), array(['impressively'], dtype=object), array(['impressiveness'], dtype=object), array(['improve'], dtype=object), array(['improved'], dtype=object), array(['improvement'], dtype=object), array(['improvements'], dtype=object), array(['improves'], dtype=object), array(['improving'], dtype=object), array(['incredible'], dtype=object), array(['incredibly'], dtype=object), array(['indebted'], dtype=object), array(['individualized'], dtype=object), array(['indulgence'], dtype=object), array(['indulgent'], dtype=object), array(['industrious'], dtype=object), array(['inestimable'], dtype=object), array(['inestimably'], dtype=object), array(['inexpensive'], dtype=object), array(['infallibility'], dtype=object), array(['infallible'], dtype=object), array(['infallibly'], dtype=object), array(['influential'], dtype=object), array(['ingenious'], dtype=object), array(['ingeniously'], dtype=object), array(['ingenuity'], dtype=object), array(['ingenuous'], dtype=object), array(['ingenuously'], dtype=object), array(['innocuous'], dtype=object), array(['innovation'], dtype=object), array(['innovative'], dtype=object), array(['inpressed'], dtype=object), array(['insightful'], dtype=object), array(['insightfully'], dtype=object), array(['inspiration'], dtype=object), array(['inspirational'], dtype=object), array(['inspire'], dtype=object), array(['inspiring'], dtype=object), array(['instantly'], dtype=object), array(['instructive'], dtype=object), array(['instrumental'], dtype=object), array(['integral'], dtype=object), array(['integrated'], dtype=object), array(['intelligence'], dtype=object), array(['intelligent'], dtype=object), array(['intelligible'], dtype=object), array(['interesting'], dtype=object), array(['interests'], dtype=object), array(['intimacy'], dtype=object), array(['intimate'], dtype=object), array(['intricate'], dtype=object), array(['intrigue'], dtype=object), array(['intriguing'], dtype=object), array(['intriguingly'], dtype=object), array(['intuitive'], dtype=object), array(['invaluable'], dtype=object), array(['invaluablely'], dtype=object), array(['inventive'], dtype=object), array(['invigorate'], dtype=object), array(['invigorating'], dtype=object), array(['invincibility'], dtype=object), array(['invincible'], dtype=object), array(['inviolable'], dtype=object), array(['inviolate'], dtype=object), array(['invulnerable'], dtype=object), array(['irreplaceable'], dtype=object), array(['irreproachable'], dtype=object), array(['irresistible'], dtype=object), array(['irresistibly'], dtype=object), array(['issue-free'], dtype=object), array(['jaw-droping'], dtype=object), array(['jaw-dropping'], dtype=object), array(['jollify'], dtype=object), array(['jolly'], dtype=object), array(['jovial'], dtype=object), array(['joy'], dtype=object), array(['joyful'], dtype=object), array(['joyfully'], dtype=object), array(['joyous'], dtype=object), array(['joyously'], dtype=object), array(['jubilant'], dtype=object), array(['jubilantly'], dtype=object), array(['jubilate'], dtype=object), array(['jubilation'], dtype=object), array(['jubiliant'], dtype=object), array(['judicious'], dtype=object), array(['justly'], dtype=object), array(['keen'], dtype=object), array(['keenly'], dtype=object), array(['keenness'], dtype=object), array(['kid-friendly'], dtype=object), array(['kindliness'], dtype=object), array(['kindly'], dtype=object), array(['kindness'], dtype=object), array(['knowledgeable'], dtype=object), array(['kudos'], dtype=object), array(['large-capacity'], dtype=object), array(['laud'], dtype=object), array(['laudable'], dtype=object), array(['laudably'], dtype=object), array(['lavish'], dtype=object), array(['lavishly'], dtype=object), array(['law-abiding'], dtype=object), array(['lawful'], dtype=object), array(['lawfully'], dtype=object), array(['lead'], dtype=object), array(['leading'], dtype=object), array(['leads'], dtype=object), array(['lean'], dtype=object), array(['led'], dtype=object), array(['legendary'], dtype=object), array(['leverage'], dtype=object), array(['levity'], dtype=object), array(['liberate'], dtype=object), array(['liberation'], dtype=object), array(['liberty'], dtype=object), array(['lifesaver'], dtype=object), array(['light-hearted'], dtype=object), array(['lighter'], dtype=object), array(['likable'], dtype=object), array(['like'], dtype=object), array(['liked'], dtype=object), array(['likes'], dtype=object), array(['liking'], dtype=object), array(['lionhearted'], dtype=object), array(['lively'], dtype=object), array(['logical'], dtype=object), array(['long-lasting'], dtype=object), array(['lovable'], dtype=object), array(['lovably'], dtype=object), array(['love'], dtype=object), array(['loved'], dtype=object), array(['loveliness'], dtype=object), array(['lovely'], dtype=object), array(['lover'], dtype=object), array(['loves'], dtype=object), array(['loving'], dtype=object), array(['low-cost'], dtype=object), array(['low-price'], dtype=object), array(['low-priced'], dtype=object), array(['low-risk'], dtype=object), array(['lower-priced'], dtype=object), array(['loyal'], dtype=object), array(['loyalty'], dtype=object), array(['lucid'], dtype=object), array(['lucidly'], dtype=object), array(['luck'], dtype=object), array(['luckier'], dtype=object), array(['luckiest'], dtype=object), array(['luckiness'], dtype=object), array(['lucky'], dtype=object), array(['lucrative'], dtype=object), array(['luminous'], dtype=object), array(['lush'], dtype=object), array(['luster'], dtype=object), array(['lustrous'], dtype=object), array(['luxuriant'], dtype=object), array(['luxuriate'], dtype=object), array(['luxurious'], dtype=object), array(['luxuriously'], dtype=object), array(['luxury'], dtype=object), array(['lyrical'], dtype=object), array(['magic'], dtype=object), array(['magical'], dtype=object), array(['magnanimous'], dtype=object), array(['magnanimously'], dtype=object), array(['magnificence'], dtype=object), array(['magnificent'], dtype=object), array(['magnificently'], dtype=object), array(['majestic'], dtype=object), array(['majesty'], dtype=object), array(['manageable'], dtype=object), array(['maneuverable'], dtype=object), array(['marvel'], dtype=object), array(['marveled'], dtype=object), array(['marvelled'], dtype=object), array(['marvellous'], dtype=object), array(['marvelous'], dtype=object), array(['marvelously'], dtype=object), array(['marvelousness'], dtype=object), array(['marvels'], dtype=object), array(['master'], dtype=object), array(['masterful'], dtype=object), array(['masterfully'], dtype=object), array(['masterpiece'], dtype=object), array(['masterpieces'], dtype=object), array(['masters'], dtype=object), array(['mastery'], dtype=object), array(['matchless'], dtype=object), array(['mature'], dtype=object), array(['maturely'], dtype=object), array(['maturity'], dtype=object), array(['meaningful'], dtype=object), array(['memorable'], dtype=object), array(['merciful'], dtype=object), array(['mercifully'], dtype=object), array(['mercy'], dtype=object), array(['merit'], dtype=object), array(['meritorious'], dtype=object), array(['merrily'], dtype=object), array(['merriment'], dtype=object), array(['merriness'], dtype=object), array(['merry'], dtype=object), array(['mesmerize'], dtype=object), array(['mesmerized'], dtype=object), array(['mesmerizes'], dtype=object), array(['mesmerizing'], dtype=object), array(['mesmerizingly'], dtype=object), array(['meticulous'], dtype=object), array(['meticulously'], dtype=object), array(['mightily'], dtype=object), array(['mighty'], dtype=object), array(['mind-blowing'], dtype=object), array(['miracle'], dtype=object), array(['miracles'], dtype=object), array(['miraculous'], dtype=object), array(['miraculously'], dtype=object), array(['miraculousness'], dtype=object), array(['modern'], dtype=object), array(['modest'], dtype=object), array(['modesty'], dtype=object), array(['momentous'], dtype=object), array(['monumental'], dtype=object), array(['monumentally'], dtype=object), array(['morality'], dtype=object), array(['motivated'], dtype=object), array(['multi-purpose'], dtype=object), array(['navigable'], dtype=object), array(['neat'], dtype=object), array(['neatest'], dtype=object), array(['neatly'], dtype=object), array(['nice'], dtype=object), array(['nicely'], dtype=object), array(['nicer'], dtype=object), array(['nicest'], dtype=object), array(['nifty'], dtype=object), array(['nimble'], dtype=object), array(['noble'], dtype=object), array(['nobly'], dtype=object), array(['noiseless'], dtype=object), array(['non-violence'], dtype=object), array(['non-violent'], dtype=object), array(['notably'], dtype=object), array(['noteworthy'], dtype=object), array(['nourish'], dtype=object), array(['nourishing'], dtype=object), array(['nourishment'], dtype=object), array(['novelty'], dtype=object), array(['nurturing'], dtype=object), array(['oasis'], dtype=object), array(['obsession'], dtype=object), array(['obsessions'], dtype=object), array(['obtainable'], dtype=object), array(['openly'], dtype=object), array(['openness'], dtype=object), array(['optimal'], dtype=object), array(['optimism'], dtype=object), array(['optimistic'], dtype=object), array(['opulent'], dtype=object), array(['orderly'], dtype=object), array(['originality'], dtype=object), array(['outdo'], dtype=object), array(['outdone'], dtype=object), array(['outperform'], dtype=object), array(['outperformed'], dtype=object), array(['outperforming'], dtype=object), array(['outperforms'], dtype=object), array(['outshine'], dtype=object), array(['outshone'], dtype=object), array(['outsmart'], dtype=object), array(['outstanding'], dtype=object), array(['outstandingly'], dtype=object), array(['outstrip'], dtype=object), array(['outwit'], dtype=object), array(['ovation'], dtype=object), array(['overjoyed'], dtype=object), array(['overtake'], dtype=object), array(['overtaken'], dtype=object), array(['overtakes'], dtype=object), array(['overtaking'], dtype=object), array(['overtook'], dtype=object), array(['overture'], dtype=object), array(['pain-free'], dtype=object), array(['painless'], dtype=object), array(['painlessly'], dtype=object), array(['palatial'], dtype=object), array(['pamper'], dtype=object), array(['pampered'], dtype=object), array(['pamperedly'], dtype=object), array(['pamperedness'], dtype=object), array(['pampers'], dtype=object), array(['panoramic'], dtype=object), array(['paradise'], dtype=object), array(['paramount'], dtype=object), array(['pardon'], dtype=object), array(['passion'], dtype=object), array(['passionate'], dtype=object), array(['passionately'], dtype=object), array(['patience'], dtype=object), array(['patient'], dtype=object), array(['patiently'], dtype=object), array(['patriot'], dtype=object), array(['patriotic'], dtype=object), array(['peace'], dtype=object), array(['peaceable'], dtype=object), array(['peaceful'], dtype=object), array(['peacefully'], dtype=object), array(['peacekeepers'], dtype=object), array(['peach'], dtype=object), array(['peerless'], dtype=object), array(['pep'], dtype=object), array(['pepped'], dtype=object), array(['pepping'], dtype=object), array(['peppy'], dtype=object), array(['peps'], dtype=object), array(['perfect'], dtype=object), array(['perfection'], dtype=object), array(['perfectly'], dtype=object), array(['permissible'], dtype=object), array(['perseverance'], dtype=object), array(['persevere'], dtype=object), array(['personages'], dtype=object), array(['personalized'], dtype=object), array(['phenomenal'], dtype=object), array(['phenomenally'], dtype=object), array(['picturesque'], dtype=object), array(['piety'], dtype=object), array(['pinnacle'], dtype=object), array(['playful'], dtype=object), array(['playfully'], dtype=object), array(['pleasant'], dtype=object), array(['pleasantly'], dtype=object), array(['pleased'], dtype=object), array(['pleases'], dtype=object), array(['pleasing'], dtype=object), array(['pleasingly'], dtype=object), array(['pleasurable'], dtype=object), array(['pleasurably'], dtype=object), array(['pleasure'], dtype=object), array(['plentiful'], dtype=object), array(['pluses'], dtype=object), array(['plush'], dtype=object), array(['plusses'], dtype=object), array(['poetic'], dtype=object), array(['poeticize'], dtype=object), array(['poignant'], dtype=object), array(['poise'], dtype=object), array(['poised'], dtype=object), array(['polished'], dtype=object), array(['polite'], dtype=object), array(['politeness'], dtype=object), array(['popular'], dtype=object), array(['portable'], dtype=object), array(['posh'], dtype=object), array(['positive'], dtype=object), array(['positively'], dtype=object), array(['positives'], dtype=object), array(['powerful'], dtype=object), array(['powerfully'], dtype=object), array(['praise'], dtype=object), array(['praiseworthy'], dtype=object), array(['praising'], dtype=object), array(['pre-eminent'], dtype=object), array(['precious'], dtype=object), array(['precise'], dtype=object), array(['precisely'], dtype=object), array(['preeminent'], dtype=object), array(['prefer'], dtype=object), array(['preferable'], dtype=object), array(['preferably'], dtype=object), array(['prefered'], dtype=object), array(['preferes'], dtype=object), array(['preferring'], dtype=object), array(['prefers'], dtype=object), array(['premier'], dtype=object), array(['prestige'], dtype=object), array(['prestigious'], dtype=object), array(['prettily'], dtype=object), array(['pretty'], dtype=object), array(['priceless'], dtype=object), array(['pride'], dtype=object), array(['principled'], dtype=object), array(['privilege'], dtype=object), array(['privileged'], dtype=object), array(['prize'], dtype=object), array(['proactive'], dtype=object), array(['problem-free'], dtype=object), array(['problem-solver'], dtype=object), array(['prodigious'], dtype=object), array(['prodigiously'], dtype=object), array(['prodigy'], dtype=object), array(['productive'], dtype=object), array(['productively'], dtype=object), array(['proficient'], dtype=object), array(['proficiently'], dtype=object), array(['profound'], dtype=object), array(['profoundly'], dtype=object), array(['profuse'], dtype=object), array(['profusion'], dtype=object), array(['progress'], dtype=object), array(['progressive'], dtype=object), array(['prolific'], dtype=object), array(['prominence'], dtype=object), array(['prominent'], dtype=object), array(['promise'], dtype=object), array(['promised'], dtype=object), array(['promises'], dtype=object), array(['promising'], dtype=object), array(['promoter'], dtype=object), array(['prompt'], dtype=object), array(['promptly'], dtype=object), array(['proper'], dtype=object), array(['properly'], dtype=object), array(['propitious'], dtype=object), array(['propitiously'], dtype=object), array(['pros'], dtype=object), array(['prosper'], dtype=object), array(['prosperity'], dtype=object), array(['prosperous'], dtype=object), array(['prospros'], dtype=object), array(['protect'], dtype=object), array(['protection'], dtype=object), array(['protective'], dtype=object), array(['proud'], dtype=object), array(['proven'], dtype=object), array(['proves'], dtype=object), array(['providence'], dtype=object), array(['proving'], dtype=object), array(['prowess'], dtype=object), array(['prudence'], dtype=object), array(['prudent'], dtype=object), array(['prudently'], dtype=object), array(['punctual'], dtype=object), array(['pure'], dtype=object), array(['purify'], dtype=object), array(['purposeful'], dtype=object), array(['quaint'], dtype=object), array(['qualified'], dtype=object), array(['qualify'], dtype=object), array(['quicker'], dtype=object), array(['quiet'], dtype=object), array(['quieter'], dtype=object), array(['radiance'], dtype=object), array(['radiant'], dtype=object), array(['rapid'], dtype=object), array(['rapport'], dtype=object), array(['rapt'], dtype=object), array(['rapture'], dtype=object), array(['raptureous'], dtype=object), array(['raptureously'], dtype=object), array(['rapturous'], dtype=object), array(['rapturously'], dtype=object), array(['rational'], dtype=object), array(['razor-sharp'], dtype=object), array(['reachable'], dtype=object), array(['readable'], dtype=object), array(['readily'], dtype=object), array(['ready'], dtype=object), array(['reaffirm'], dtype=object), array(['reaffirmation'], dtype=object), array(['realistic'], dtype=object), array(['realizable'], dtype=object), array(['reasonable'], dtype=object), array(['reasonably'], dtype=object), array(['reasoned'], dtype=object), array(['reassurance'], dtype=object), array(['reassure'], dtype=object), array(['receptive'], dtype=object), array(['reclaim'], dtype=object), array(['recomend'], dtype=object), array(['recommend'], dtype=object), array(['recommendation'], dtype=object), array(['recommendations'], dtype=object), array(['recommended'], dtype=object), array(['reconcile'], dtype=object), array(['reconciliation'], dtype=object), array(['record-setting'], dtype=object), array(['recover'], dtype=object), array(['recovery'], dtype=object), array(['rectification'], dtype=object), array(['rectify'], dtype=object), array(['rectifying'], dtype=object), array(['redeem'], dtype=object), array(['redeeming'], dtype=object), array(['redemption'], dtype=object), array(['refine'], dtype=object), array(['refined'], dtype=object), array(['refinement'], dtype=object), array(['reform'], dtype=object), array(['reformed'], dtype=object), array(['reforming'], dtype=object), array(['reforms'], dtype=object), array(['refresh'], dtype=object), array(['refreshed'], dtype=object), array(['refreshing'], dtype=object), array(['refund'], dtype=object), array(['refunded'], dtype=object), array(['regal'], dtype=object), array(['regally'], dtype=object), array(['regard'], dtype=object), array(['rejoice'], dtype=object), array(['rejoicing'], dtype=object), array(['rejoicingly'], dtype=object), array(['rejuvenate'], dtype=object), array(['rejuvenated'], dtype=object), array(['rejuvenating'], dtype=object), array(['relaxed'], dtype=object), array(['relent'], dtype=object), array(['reliable'], dtype=object), array(['reliably'], dtype=object), array(['relief'], dtype=object), array(['relish'], dtype=object), array(['remarkable'], dtype=object), array(['remarkably'], dtype=object), array(['remedy'], dtype=object), array(['remission'], dtype=object), array(['remunerate'], dtype=object), array(['renaissance'], dtype=object), array(['renewed'], dtype=object), array(['renown'], dtype=object), array(['renowned'], dtype=object), array(['replaceable'], dtype=object), array(['reputable'], dtype=object), array(['reputation'], dtype=object), array(['resilient'], dtype=object), array(['resolute'], dtype=object), array(['resound'], dtype=object), array(['resounding'], dtype=object), array(['resourceful'], dtype=object), array(['resourcefulness'], dtype=object), array(['respect'], dtype=object), array(['respectable'], dtype=object), array(['respectful'], dtype=object), array(['respectfully'], dtype=object), array(['respite'], dtype=object), array(['resplendent'], dtype=object), array(['responsibly'], dtype=object), array(['responsive'], dtype=object), array(['restful'], dtype=object), array(['restored'], dtype=object), array(['restructure'], dtype=object), array(['restructured'], dtype=object), array(['restructuring'], dtype=object), array(['retractable'], dtype=object), array(['revel'], dtype=object), array(['revelation'], dtype=object), array(['revere'], dtype=object), array(['reverence'], dtype=object), array(['reverent'], dtype=object), array(['reverently'], dtype=object), array(['revitalize'], dtype=object), array(['revival'], dtype=object), array(['revive'], dtype=object), array(['revives'], dtype=object), array(['revolutionary'], dtype=object), array(['revolutionize'], dtype=object), array(['revolutionized'], dtype=object), array(['revolutionizes'], dtype=object), array(['reward'], dtype=object), array(['rewarding'], dtype=object), array(['rewardingly'], dtype=object), array(['rich'], dtype=object), array(['richer'], dtype=object), array(['richly'], dtype=object), array(['richness'], dtype=object), array(['right'], dtype=object), array(['righten'], dtype=object), array(['righteous'], dtype=object), array(['righteously'], dtype=object), array(['righteousness'], dtype=object), array(['rightful'], dtype=object), array(['rightfully'], dtype=object), array(['rightly'], dtype=object), array(['rightness'], dtype=object), array(['risk-free'], dtype=object), array(['robust'], dtype=object), array(['rock-star'], dtype=object), array(['rock-stars'], dtype=object), array(['rockstar'], dtype=object), array(['rockstars'], dtype=object), array(['romantic'], dtype=object), array(['romantically'], dtype=object), array(['romanticize'], dtype=object), array(['roomier'], dtype=object), array(['roomy'], dtype=object), array(['rosy'], dtype=object), array(['safe'], dtype=object), array(['safely'], dtype=object), array(['sagacity'], dtype=object), array(['sagely'], dtype=object), array(['saint'], dtype=object), array(['saintliness'], dtype=object), array(['saintly'], dtype=object), array(['salutary'], dtype=object), array(['salute'], dtype=object), array(['sane'], dtype=object), array(['satisfactorily'], dtype=object), array(['satisfactory'], dtype=object), array(['satisfied'], dtype=object), array(['satisfies'], dtype=object), array(['satisfy'], dtype=object), array(['satisfying'], dtype=object), array(['satisified'], dtype=object), array(['saver'], dtype=object), array(['savings'], dtype=object), array(['savior'], dtype=object), array(['savvy'], dtype=object), array(['scenic'], dtype=object), array(['seamless'], dtype=object), array(['seasoned'], dtype=object), array(['secure'], dtype=object), array(['securely'], dtype=object), array(['selective'], dtype=object), array(['self-determination'], dtype=object), array(['self-respect'], dtype=object), array(['self-satisfaction'], dtype=object), array(['self-sufficiency'], dtype=object), array(['self-sufficient'], dtype=object), array(['sensation'], dtype=object), array(['sensational'], dtype=object), array(['sensationally'], dtype=object), array(['sensations'], dtype=object), array(['sensible'], dtype=object), array(['sensibly'], dtype=object), array(['sensitive'], dtype=object), array(['serene'], dtype=object), array(['serenity'], dtype=object), array(['sexy'], dtype=object), array(['sharp'], dtype=object), array(['sharper'], dtype=object), array(['sharpest'], dtype=object), array(['shimmering'], dtype=object), array(['shimmeringly'], dtype=object), array(['shine'], dtype=object), array(['shiny'], dtype=object), array(['significant'], dtype=object), array(['silent'], dtype=object), array(['simpler'], dtype=object), array(['simplest'], dtype=object), array(['simplified'], dtype=object), array(['simplifies'], dtype=object), array(['simplify'], dtype=object), array(['simplifying'], dtype=object), array(['sincere'], dtype=object), array(['sincerely'], dtype=object), array(['sincerity'], dtype=object), array(['skill'], dtype=object), array(['skilled'], dtype=object), array(['skillful'], dtype=object), array(['skillfully'], dtype=object), array(['slammin'], dtype=object), array(['sleek'], dtype=object), array(['slick'], dtype=object), array(['smart'], dtype=object), array(['smarter'], dtype=object), array(['smartest'], dtype=object), array(['smartly'], dtype=object), array(['smile'], dtype=object), array(['smiles'], dtype=object), array(['smiling'], dtype=object), array(['smilingly'], dtype=object), array(['smitten'], dtype=object), array(['smooth'], dtype=object), array(['smoother'], dtype=object), array(['smoothes'], dtype=object), array(['smoothest'], dtype=object), array(['smoothly'], dtype=object), array(['snappy'], dtype=object), array(['snazzy'], dtype=object), array(['sociable'], dtype=object), array(['soft'], dtype=object), array(['softer'], dtype=object), array(['solace'], dtype=object), array(['solicitous'], dtype=object), array(['solicitously'], dtype=object), array(['solid'], dtype=object), array(['solidarity'], dtype=object), array(['soothe'], dtype=object), array(['soothingly'], dtype=object), array(['sophisticated'], dtype=object), array(['soulful'], dtype=object), array(['soundly'], dtype=object), array(['soundness'], dtype=object), array(['spacious'], dtype=object), array(['sparkle'], dtype=object), array(['sparkling'], dtype=object), array(['spectacular'], dtype=object), array(['spectacularly'], dtype=object), array(['speedily'], dtype=object), array(['speedy'], dtype=object), array(['spellbind'], dtype=object), array(['spellbinding'], dtype=object), array(['spellbindingly'], dtype=object), array(['spellbound'], dtype=object), array(['spirited'], dtype=object), array(['spiritual'], dtype=object), array(['splendid'], dtype=object), array(['splendidly'], dtype=object), array(['splendor'], dtype=object), array(['spontaneous'], dtype=object), array(['sporty'], dtype=object), array(['spotless'], dtype=object), array(['sprightly'], dtype=object), array(['stability'], dtype=object), array(['stabilize'], dtype=object), array(['stable'], dtype=object), array(['stainless'], dtype=object), array(['standout'], dtype=object), array(['state-of-the-art'], dtype=object), array(['stately'], dtype=object), array(['statuesque'], dtype=object), array(['staunch'], dtype=object), array(['staunchly'], dtype=object), array(['staunchness'], dtype=object), array(['steadfast'], dtype=object), array(['steadfastly'], dtype=object), array(['steadfastness'], dtype=object), array(['steadiest'], dtype=object), array(['steadiness'], dtype=object), array(['steady'], dtype=object), array(['stellar'], dtype=object), array(['stellarly'], dtype=object), array(['stimulate'], dtype=object), array(['stimulates'], dtype=object), array(['stimulating'], dtype=object), array(['stimulative'], dtype=object), array(['stirringly'], dtype=object), array(['straighten'], dtype=object), array(['straightforward'], dtype=object), array(['streamlined'], dtype=object), array(['striking'], dtype=object), array(['strikingly'], dtype=object), array(['striving'], dtype=object), array(['strong'], dtype=object), array(['stronger'], dtype=object), array(['strongest'], dtype=object), array(['stunned'], dtype=object), array(['stunning'], dtype=object), array(['stunningly'], dtype=object), array(['stupendous'], dtype=object), array(['stupendously'], dtype=object), array(['sturdier'], dtype=object), array(['sturdy'], dtype=object), array(['stylish'], dtype=object), array(['stylishly'], dtype=object), array(['stylized'], dtype=object), array(['suave'], dtype=object), array(['suavely'], dtype=object), array(['sublime'], dtype=object), array(['subsidize'], dtype=object), array(['subsidized'], dtype=object), array(['subsidizes'], dtype=object), array(['subsidizing'], dtype=object), array(['substantive'], dtype=object), array(['succeed'], dtype=object), array(['succeeded'], dtype=object), array(['succeeding'], dtype=object), array(['succeeds'], dtype=object), array(['succes'], dtype=object), array(['success'], dtype=object), array(['successes'], dtype=object), array(['successful'], dtype=object), array(['successfully'], dtype=object), array(['suffice'], dtype=object), array(['sufficed'], dtype=object), array(['suffices'], dtype=object), array(['sufficient'], dtype=object), array(['sufficiently'], dtype=object), array(['suitable'], dtype=object), array(['sumptuous'], dtype=object), array(['sumptuously'], dtype=object), array(['sumptuousness'], dtype=object), array(['super'], dtype=object), array(['superb'], dtype=object), array(['superbly'], dtype=object), array(['superior'], dtype=object), array(['superiority'], dtype=object), array(['supple'], dtype=object), array(['support'], dtype=object), array(['supported'], dtype=object), array(['supporter'], dtype=object), array(['supporting'], dtype=object), array(['supportive'], dtype=object), array(['supports'], dtype=object), array(['supremacy'], dtype=object), array(['supreme'], dtype=object), array(['supremely'], dtype=object), array(['supurb'], dtype=object), array(['supurbly'], dtype=object), array(['surmount'], dtype=object), array(['surpass'], dtype=object), array(['surreal'], dtype=object), array(['survival'], dtype=object), array(['survivor'], dtype=object), array(['sustainability'], dtype=object), array(['sustainable'], dtype=object), array(['swank'], dtype=object), array(['swankier'], dtype=object), array(['swankiest'], dtype=object), array(['swanky'], dtype=object), array(['sweeping'], dtype=object), array(['sweet'], dtype=object), array(['sweeten'], dtype=object), array(['sweetheart'], dtype=object), array(['sweetly'], dtype=object), array(['sweetness'], dtype=object), array(['swift'], dtype=object), array(['swiftness'], dtype=object), array(['talent'], dtype=object), array(['talented'], dtype=object), array(['talents'], dtype=object), array(['tantalize'], dtype=object), array(['tantalizing'], dtype=object), array(['tantalizingly'], dtype=object), array(['tempt'], dtype=object), array(['tempting'], dtype=object), array(['temptingly'], dtype=object), array(['tenacious'], dtype=object), array(['tenaciously'], dtype=object), array(['tenacity'], dtype=object), array(['tender'], dtype=object), array(['tenderly'], dtype=object), array(['terrific'], dtype=object), array(['terrifically'], dtype=object), array(['thank'], dtype=object), array(['thankful'], dtype=object), array(['thinner'], dtype=object), array(['thoughtful'], dtype=object), array(['thoughtfully'], dtype=object), array(['thoughtfulness'], dtype=object), array(['thrift'], dtype=object), array(['thrifty'], dtype=object), array(['thrill'], dtype=object), array(['thrilled'], dtype=object), array(['thrilling'], dtype=object), array(['thrillingly'], dtype=object), array(['thrills'], dtype=object), array(['thrive'], dtype=object), array(['thriving'], dtype=object), array(['thumb-up'], dtype=object), array(['thumbs-up'], dtype=object), array(['tickle'], dtype=object), array(['tidy'], dtype=object), array(['time-honored'], dtype=object), array(['timely'], dtype=object), array(['tingle'], dtype=object), array(['titillate'], dtype=object), array(['titillating'], dtype=object), array(['titillatingly'], dtype=object), array(['togetherness'], dtype=object), array(['tolerable'], dtype=object), array(['toll-free'], dtype=object), array(['top'], dtype=object), array(['top-notch'], dtype=object), array(['top-quality'], dtype=object), array(['topnotch'], dtype=object), array(['tops'], dtype=object), array(['tough'], dtype=object), array(['tougher'], dtype=object), array(['toughest'], dtype=object), array(['traction'], dtype=object), array(['tranquil'], dtype=object), array(['tranquility'], dtype=object), array(['transparent'], dtype=object), array(['treasure'], dtype=object), array(['tremendously'], dtype=object), array(['trendy'], dtype=object), array(['triumph'], dtype=object), array(['triumphal'], dtype=object), array(['triumphant'], dtype=object), array(['triumphantly'], dtype=object), array(['trivially'], dtype=object), array(['trophy'], dtype=object), array(['trouble-free'], dtype=object), array(['trump'], dtype=object), array(['trumpet'], dtype=object), array(['trust'], dtype=object), array(['trusted'], dtype=object), array(['trusting'], dtype=object), array(['trustingly'], dtype=object), array(['trustworthiness'], dtype=object), array(['trustworthy'], dtype=object), array(['trusty'], dtype=object), array(['truthful'], dtype=object), array(['truthfully'], dtype=object), array(['truthfulness'], dtype=object), array(['twinkly'], dtype=object), array(['ultra-crisp'], dtype=object), array(['unabashed'], dtype=object), array(['unabashedly'], dtype=object), array(['unaffected'], dtype=object), array(['unassailable'], dtype=object), array(['unbeatable'], dtype=object), array(['unbiased'], dtype=object), array(['unbound'], dtype=object), array(['uncomplicated'], dtype=object), array(['unconditional'], dtype=object), array(['undamaged'], dtype=object), array(['undaunted'], dtype=object), array(['understandable'], dtype=object), array(['undisputable'], dtype=object), array(['undisputably'], dtype=object), array(['undisputed'], dtype=object), array(['unencumbered'], dtype=object), array(['unequivocal'], dtype=object), array(['unequivocally'], dtype=object), array(['unfazed'], dtype=object), array(['unfettered'], dtype=object), array(['unforgettable'], dtype=object), array(['unity'], dtype=object), array(['unlimited'], dtype=object), array(['unmatched'], dtype=object), array(['unparalleled'], dtype=object), array(['unquestionable'], dtype=object), array(['unquestionably'], dtype=object), array(['unreal'], dtype=object), array(['unrestricted'], dtype=object), array(['unrivaled'], dtype=object), array(['unselfish'], dtype=object), array(['unwavering'], dtype=object), array(['upbeat'], dtype=object), array(['upgradable'], dtype=object), array(['upgradeable'], dtype=object), array(['upgraded'], dtype=object), array(['upheld'], dtype=object), array(['uphold'], dtype=object), array(['uplift'], dtype=object), array(['uplifting'], dtype=object), array(['upliftingly'], dtype=object), array(['upliftment'], dtype=object), array(['upscale'], dtype=object), array(['usable'], dtype=object), array(['useable'], dtype=object), array(['useful'], dtype=object), array(['user-friendly'], dtype=object), array(['user-replaceable'], dtype=object), array(['valiant'], dtype=object), array(['valiantly'], dtype=object), array(['valor'], dtype=object), array(['valuable'], dtype=object), array(['variety'], dtype=object), array(['venerate'], dtype=object), array(['verifiable'], dtype=object), array(['veritable'], dtype=object), array(['versatile'], dtype=object), array(['versatility'], dtype=object), array(['vibrant'], dtype=object), array(['vibrantly'], dtype=object), array(['victorious'], dtype=object), array(['victory'], dtype=object), array(['viewable'], dtype=object), array(['vigilance'], dtype=object), array(['vigilant'], dtype=object), array(['virtue'], dtype=object), array(['virtuous'], dtype=object), array(['virtuously'], dtype=object), array(['visionary'], dtype=object), array(['vivacious'], dtype=object), array(['vivid'], dtype=object), array(['vouch'], dtype=object), array(['vouchsafe'], dtype=object), array(['warm'], dtype=object), array(['warmer'], dtype=object), array(['warmhearted'], dtype=object), array(['warmly'], dtype=object), array(['warmth'], dtype=object), array(['wealthy'], dtype=object), array(['welcome'], dtype=object), array(['well'], dtype=object), array(['well-backlit'], dtype=object), array(['well-balanced'], dtype=object), array(['well-behaved'], dtype=object), array(['well-being'], dtype=object), array(['well-bred'], dtype=object), array(['well-connected'], dtype=object), array(['well-educated'], dtype=object), array(['well-established'], dtype=object), array(['well-informed'], dtype=object), array(['well-intentioned'], dtype=object), array(['well-known'], dtype=object), array(['well-made'], dtype=object), array(['well-managed'], dtype=object), array(['well-mannered'], dtype=object), array(['well-positioned'], dtype=object), array(['well-received'], dtype=object), array(['well-regarded'], dtype=object), array(['well-rounded'], dtype=object), array(['well-run'], dtype=object), array(['well-wishers'], dtype=object), array(['wellbeing'], dtype=object), array(['whoa'], dtype=object), array(['wholeheartedly'], dtype=object), array(['wholesome'], dtype=object), array(['whooa'], dtype=object), array(['whoooa'], dtype=object), array(['wieldy'], dtype=object), array(['willing'], dtype=object), array(['willingly'], dtype=object), array(['willingness'], dtype=object), array(['win'], dtype=object), array(['windfall'], dtype=object), array(['winnable'], dtype=object), array(['winner'], dtype=object), array(['winners'], dtype=object), array(['winning'], dtype=object), array(['wins'], dtype=object), array(['wisdom'], dtype=object), array(['wise'], dtype=object), array(['wisely'], dtype=object), array(['witty'], dtype=object), array(['won'], dtype=object), array(['wonder'], dtype=object), array(['wonderful'], dtype=object), array(['wonderfully'], dtype=object), array(['wonderous'], dtype=object), array(['wonderously'], dtype=object), array(['wonders'], dtype=object), array(['wondrous'], dtype=object), array(['woo'], dtype=object), array(['work'], dtype=object), array(['workable'], dtype=object), array(['worked'], dtype=object), array(['works'], dtype=object), array(['world-famous'], dtype=object), array(['worth'], dtype=object), array(['worth-while'], dtype=object), array(['worth'], dtype=object), array(['iness'], dtype=object), array(['worthwhile'], dtype=object), array(['worthy'], dtype=object), array(['wow'], dtype=object), array(['wowed'], dtype=object), array(['wowing'], dtype=object), array(['wows'], dtype=object), array(['yay'], dtype=object), array(['youthful'], dtype=object), array(['zeal'], dtype=object), array(['zenith'], dtype=object), array(['zest'], dtype=object), array(['zippy'], dtype=object), array(['2-faces'], dtype=object), array(['abnormal'], dtype=object), array(['abolish'], dtype=object), array(['abominable'], dtype=object), array(['abominably'], dtype=object), array(['abominate'], dtype=object), array(['abomination'], dtype=object), array(['abort'], dtype=object), array(['aborted'], dtype=object), array(['aborts'], dtype=object), array(['abrade'], dtype=object), array(['abrasive'], dtype=object), array(['abrupt'], dtype=object), array(['abruptly'], dtype=object), array(['abscond'], dtype=object), array(['absence'], dtype=object), array(['absent-minded'], dtype=object), array(['absentee'], dtype=object), array(['absurd'], dtype=object), array(['absurdity'], dtype=object), array(['absurdly'], dtype=object), array(['absurdness'], dtype=object), array(['abuse'], dtype=object), array(['abused'], dtype=object), array(['abuses'], dtype=object), array(['abusive'], dtype=object), array(['abysmal'], dtype=object), array(['abysmally'], dtype=object), array(['abyss'], dtype=object), array(['accidental'], dtype=object), array(['accost'], dtype=object), array(['accursed'], dtype=object), array(['accusation'], dtype=object), array(['accusations'], dtype=object), array(['accuse'], dtype=object), array(['accuses'], dtype=object), array(['accusing'], dtype=object), array(['accusingly'], dtype=object), array(['acerbate'], dtype=object), array(['acerbic'], dtype=object), array(['acerbically'], dtype=object), array(['ache'], dtype=object), array(['ached'], dtype=object), array(['aches'], dtype=object), array(['achey'], dtype=object), array(['aching'], dtype=object), array(['acrid'], dtype=object), array(['acridly'], dtype=object), array(['acridness'], dtype=object), array(['acrimonious'], dtype=object), array(['acrimoniously'], dtype=object), array(['acrimony'], dtype=object), array(['adamant'], dtype=object), array(['adamantly'], dtype=object), array(['addict'], dtype=object), array(['addicted'], dtype=object), array(['addicting'], dtype=object), array(['addicts'], dtype=object), array(['admonish'], dtype=object), array(['admonisher'], dtype=object), array(['admonishingly'], dtype=object), array(['admonishment'], dtype=object), array(['admonition'], dtype=object), array(['adulterate'], dtype=object), array(['adulterated'], dtype=object), array(['adulteration'], dtype=object), array(['adulterier'], dtype=object), array(['adversarial'], dtype=object), array(['adversary'], dtype=object), array(['adverse'], dtype=object), array(['adversity'], dtype=object), array(['afflict'], dtype=object), array(['affliction'], dtype=object), array(['afflictive'], dtype=object), array(['affront'], dtype=object), array(['afraid'], dtype=object), array(['aggravate'], dtype=object), array(['aggravating'], dtype=object), array(['aggravation'], dtype=object), array(['aggression'], dtype=object), array(['aggressive'], dtype=object), array(['aggressiveness'], dtype=object), array(['aggressor'], dtype=object), array(['aggrieve'], dtype=object), array(['aggrieved'], dtype=object), array(['aggrivation'], dtype=object), array(['aghast'], dtype=object), array(['agonies'], dtype=object), array(['agonize'], dtype=object), array(['agonizing'], dtype=object), array(['agonizingly'], dtype=object), array(['agony'], dtype=object), array(['aground'], dtype=object), array(['ail'], dtype=object), array(['ailing'], dtype=object), array(['ailment'], dtype=object), array(['aimless'], dtype=object), array(['alarm'], dtype=object), array(['alarmed'], dtype=object), array(['alarming'], dtype=object), array(['alarmingly'], dtype=object), array(['alienate'], dtype=object), array(['alienated'], dtype=object), array(['alienation'], dtype=object), array(['allegation'], dtype=object), array(['allegations'], dtype=object), array(['allege'], dtype=object), array(['allergic'], dtype=object), array(['allergies'], dtype=object), array(['allergy'], dtype=object), array(['aloof'], dtype=object), array(['altercation'], dtype=object), array(['ambiguity'], dtype=object), array(['ambiguous'], dtype=object), array(['ambivalence'], dtype=object), array(['ambivalent'], dtype=object), array(['ambush'], dtype=object), array(['amiss'], dtype=object), array(['amputate'], dtype=object), array(['anarchism'], dtype=object), array(['anarchist'], dtype=object), array(['anarchistic'], dtype=object), array(['anarchy'], dtype=object), array(['anemic'], dtype=object), array(['anger'], dtype=object), array(['angrily'], dtype=object), array(['angriness'], dtype=object), array(['angry'], dtype=object), array(['anguish'], dtype=object), array(['animosity'], dtype=object), array(['annihilate'], dtype=object), array(['annihilation'], dtype=object), array(['annoy'], dtype=object), array(['annoyance'], dtype=object), array(['annoyances'], dtype=object), array(['annoyed'], dtype=object), array(['annoying'], dtype=object), array(['annoyingly'], dtype=object), array(['annoys'], dtype=object), array(['anomalous'], dtype=object), array(['anomaly'], dtype=object), array(['antagonism'], dtype=object), array(['antagonist'], dtype=object), array(['antagonistic'], dtype=object), array(['antagonize'], dtype=object), array(['anti-'], dtype=object), array(['anti-american'], dtype=object), array(['anti-israeli'], dtype=object), array(['anti-occupation'], dtype=object), array(['anti-proliferation'], dtype=object), array(['anti-semites'], dtype=object), array(['anti-social'], dtype=object), array(['anti-us'], dtype=object), array(['anti-white'], dtype=object), array(['antipathy'], dtype=object), array(['antiquated'], dtype=object), array(['antithetical'], dtype=object), array(['anxieties'], dtype=object), array(['anxiety'], dtype=object), array(['anxious'], dtype=object), array(['anxiously'], dtype=object), array(['anxiousness'], dtype=object), array(['apathetic'], dtype=object), array(['apathetically'], dtype=object), array(['apathy'], dtype=object), array(['apocalypse'], dtype=object), array(['apocalyptic'], dtype=object), array(['apologist'], dtype=object), array(['apologists'], dtype=object), array(['appal'], dtype=object), array(['appall'], dtype=object), array(['appalled'], dtype=object), array(['appalling'], dtype=object), array(['appallingly'], dtype=object), array(['apprehension'], dtype=object), array(['apprehensions'], dtype=object), array(['apprehensive'], dtype=object), array(['apprehensively'], dtype=object), array(['arbitrary'], dtype=object), array(['arcane'], dtype=object), array(['archaic'], dtype=object), array(['arduous'], dtype=object), array(['arduously'], dtype=object), array(['argumentative'], dtype=object), array(['arrogance'], dtype=object), array(['arrogant'], dtype=object), array(['arrogantly'], dtype=object), array(['ashamed'], dtype=object), array(['asinine'], dtype=object), array(['asininely'], dtype=object), array(['asinininity'], dtype=object), array(['askance'], dtype=object), array(['asperse'], dtype=object), array(['aspersion'], dtype=object), array(['aspersions'], dtype=object), array(['assail'], dtype=object), array(['assassin'], dtype=object), array(['assassinate'], dtype=object), array(['assault'], dtype=object), array(['assult'], dtype=object), array(['astray'], dtype=object), array(['asunder'], dtype=object), array(['atrocious'], dtype=object), array(['atrocities'], dtype=object), array(['atrocity'], dtype=object), array(['atrophy'], dtype=object), array(['attack'], dtype=object), array(['attacks'], dtype=object), array(['audacious'], dtype=object), array(['audaciously'], dtype=object), array(['audaciousness'], dtype=object), array(['audacity'], dtype=object), array(['audiciously'], dtype=object), array(['austere'], dtype=object), array(['authoritarian'], dtype=object), array(['autocrat'], dtype=object), array(['autocratic'], dtype=object), array(['avalanche'], dtype=object), array(['avarice'], dtype=object), array(['avaricious'], dtype=object), array(['avariciously'], dtype=object), array(['avenge'], dtype=object), array(['averse'], dtype=object), array(['aversion'], dtype=object), array(['aweful'], dtype=object), array(['awful'], dtype=object), array(['awfully'], dtype=object), array(['awfulness'], dtype=object), array(['awkward'], dtype=object), array(['awkwardness'], dtype=object), array(['ax'], dtype=object), array(['babble'], dtype=object), array(['back-logged'], dtype=object), array(['back-wood'], dtype=object), array(['back-woods'], dtype=object), array(['backache'], dtype=object), array(['backaches'], dtype=object), array(['backaching'], dtype=object), array(['backbite'], dtype=object), array(['backbiting'], dtype=object), array(['backward'], dtype=object), array(['backwardness'], dtype=object), array(['backwood'], dtype=object), array(['backwoods'], dtype=object), array(['bad'], dtype=object), array(['badly'], dtype=object), array(['baffle'], dtype=object), array(['baffled'], dtype=object), array(['bafflement'], dtype=object), array(['baffling'], dtype=object), array(['bait'], dtype=object), array(['balk'], dtype=object), array(['banal'], dtype=object), array(['banalize'], dtype=object), array(['bane'], dtype=object), array(['banish'], dtype=object), array(['banishment'], dtype=object), array(['bankrupt'], dtype=object), array(['barbarian'], dtype=object), array(['barbaric'], dtype=object), array(['barbarically'], dtype=object), array(['barbarity'], dtype=object), array(['barbarous'], dtype=object), array(['barbarously'], dtype=object), array(['barren'], dtype=object), array(['baseless'], dtype=object), array(['bash'], dtype=object), array(['bashed'], dtype=object), array(['bashful'], dtype=object), array(['bashing'], dtype=object), array(['bastard'], dtype=object), array(['bastards'], dtype=object), array(['battered'], dtype=object), array(['battering'], dtype=object), array(['batty'], dtype=object), array(['bearish'], dtype=object), array(['beastly'], dtype=object), array(['bedlam'], dtype=object), array(['bedlamite'], dtype=object), array(['befoul'], dtype=object), array(['beg'], dtype=object), array(['beggar'], dtype=object), array(['beggarly'], dtype=object), array(['begging'], dtype=object), array(['beguile'], dtype=object), array(['belabor'], dtype=object), array(['belated'], dtype=object), array(['beleaguer'], dtype=object), array(['belie'], dtype=object), array(['belittle'], dtype=object), array(['belittled'], dtype=object), array(['belittling'], dtype=object), array(['bellicose'], dtype=object), array(['belligerence'], dtype=object), array(['belligerent'], dtype=object), array(['belligerently'], dtype=object), array(['bemoan'], dtype=object), array(['bemoaning'], dtype=object), array(['bemused'], dtype=object), array(['bent'], dtype=object), array(['berate'], dtype=object), array(['bereave'], dtype=object), array(['bereavement'], dtype=object), array(['bereft'], dtype=object), array(['berserk'], dtype=object), array(['beseech'], dtype=object), array(['beset'], dtype=object), array(['besiege'], dtype=object), array(['besmirch'], dtype=object), array(['bestial'], dtype=object), array(['betray'], dtype=object), array(['betrayal'], dtype=object), array(['betrayals'], dtype=object), array(['betrayer'], dtype=object), array(['betraying'], dtype=object), array(['betrays'], dtype=object), array(['bewail'], dtype=object), array(['beware'], dtype=object), array(['bewilder'], dtype=object), array(['bewildered'], dtype=object), array(['bewildering'], dtype=object), array(['bewilderingly'], dtype=object), array(['bewilderment'], dtype=object), array(['bewitch'], dtype=object), array(['bias'], dtype=object), array(['biased'], dtype=object), array(['biases'], dtype=object), array(['bicker'], dtype=object), array(['bickering'], dtype=object), array(['bid-rigging'], dtype=object), array(['bigotries'], dtype=object), array(['bigotry'], dtype=object), array(['bitch'], dtype=object), array(['bitchy'], dtype=object), array(['biting'], dtype=object), array(['bitingly'], dtype=object), array(['bitter'], dtype=object), array(['bitterly'], dtype=object), array(['bitterness'], dtype=object), array(['bizarre'], dtype=object), array(['blab'], dtype=object), array(['blabber'], dtype=object), array(['blackmail'], dtype=object), array(['blah'], dtype=object), array(['blame'], dtype=object), array(['blameworthy'], dtype=object), array(['bland'], dtype=object), array(['blandish'], dtype=object), array(['blaspheme'], dtype=object), array(['blasphemous'], dtype=object), array(['blasphemy'], dtype=object), array(['blasted'], dtype=object), array(['blatant'], dtype=object), array(['blatantly'], dtype=object), array(['blather'], dtype=object), array(['bleak'], dtype=object), array(['bleakly'], dtype=object), array(['bleakness'], dtype=object), array(['bleed'], dtype=object), array(['bleeding'], dtype=object), array(['bleeds'], dtype=object), array(['blemish'], dtype=object), array(['blind'], dtype=object), array(['blinding'], dtype=object), array(['blindingly'], dtype=object), array(['blindside'], dtype=object), array(['blister'], dtype=object), array(['blistering'], dtype=object), array(['bloated'], dtype=object), array(['blockage'], dtype=object), array(['blockhead'], dtype=object), array(['bloodshed'], dtype=object), array(['bloodthirsty'], dtype=object), array(['bloody'], dtype=object), array(['blotchy'], dtype=object), array(['blow'], dtype=object), array(['blunder'], dtype=object), array(['blundering'], dtype=object), array(['blunders'], dtype=object), array(['blunt'], dtype=object), array(['blur'], dtype=object), array(['bluring'], dtype=object), array(['blurred'], dtype=object), array(['blurring'], dtype=object), array(['blurry'], dtype=object), array(['blurs'], dtype=object), array(['blurt'], dtype=object), array(['boastful'], dtype=object), array(['boggle'], dtype=object), array(['bogus'], dtype=object), array(['boil'], dtype=object), array(['boiling'], dtype=object), array(['boisterous'], dtype=object), array(['bomb'], dtype=object), array(['bombard'], dtype=object), array(['bombardment'], dtype=object), array(['bombastic'], dtype=object), array(['bondage'], dtype=object), array(['bonkers'], dtype=object), array(['bore'], dtype=object), array(['bored'], dtype=object), array(['boredom'], dtype=object), array(['bores'], dtype=object), array(['boring'], dtype=object), array(['botch'], dtype=object), array(['bother'], dtype=object), array(['bothered'], dtype=object), array(['bothering'], dtype=object), array(['bothers'], dtype=object), array(['bothersome'], dtype=object), array(['bowdlerize'], dtype=object), array(['boycott'], dtype=object), array(['braggart'], dtype=object), array(['bragger'], dtype=object), array(['brainless'], dtype=object), array(['brainwash'], dtype=object), array(['brash'], dtype=object), array(['brashly'], dtype=object), array(['brashness'], dtype=object), array(['brat'], dtype=object), array(['bravado'], dtype=object), array(['brazen'], dtype=object), array(['brazenly'], dtype=object), array(['brazenness'], dtype=object), array(['breach'], dtype=object), array(['break'], dtype=object), array(['break-up'], dtype=object), array(['break-ups'], dtype=object), array(['breakdown'], dtype=object), array(['breaking'], dtype=object), array(['breaks'], dtype=object), array(['breakup'], dtype=object), array(['breakups'], dtype=object), array(['bribery'], dtype=object), array(['brimstone'], dtype=object), array(['bristle'], dtype=object), array(['brittle'], dtype=object), array(['broke'], dtype=object), array(['broken'], dtype=object), array(['broken-hearted'], dtype=object), array(['brood'], dtype=object), array(['browbeat'], dtype=object), array(['bruise'], dtype=object), array(['bruised'], dtype=object), array(['bruises'], dtype=object), array(['bruising'], dtype=object), array(['brusque'], dtype=object), array(['brutal'], dtype=object), array(['brutalising'], dtype=object), array(['brutalities'], dtype=object), array(['brutality'], dtype=object), array(['brutalize'], dtype=object), array(['brutalizing'], dtype=object), array(['brutally'], dtype=object), array(['brute'], dtype=object), array(['brutish'], dtype=object), array(['bs'], dtype=object), array(['buckle'], dtype=object), array(['bug'], dtype=object), array(['bugging'], dtype=object), array(['buggy'], dtype=object), array(['bugs'], dtype=object), array(['bulkier'], dtype=object), array(['bulkiness'], dtype=object), array(['bulky'], dtype=object), array(['bulkyness'], dtype=object), array(['bull****'], dtype=object), array(['bull----'], dtype=object), array(['bullies'], dtype=object), array(['bullshit'], dtype=object), array(['bullshyt'], dtype=object), array(['bully'], dtype=object), array(['bullying'], dtype=object), array(['bullyingly'], dtype=object), array(['bum'], dtype=object), array(['bump'], dtype=object), array(['bumped'], dtype=object), array(['bumping'], dtype=object), array(['bumpping'], dtype=object), array(['bumps'], dtype=object), array(['bumpy'], dtype=object), array(['bungle'], dtype=object), array(['bungler'], dtype=object), array(['bungling'], dtype=object), array(['bunk'], dtype=object), array(['burden'], dtype=object), array(['burdensome'], dtype=object), array(['burdensomely'], dtype=object), array(['burn'], dtype=object), array(['burned'], dtype=object), array(['burning'], dtype=object), array(['burns'], dtype=object), array(['bust'], dtype=object), array(['busts'], dtype=object), array(['busybody'], dtype=object), array(['butcher'], dtype=object), array(['butchery'], dtype=object), array(['buzzing'], dtype=object), array(['byzantine'], dtype=object), array(['cackle'], dtype=object), array(['calamities'], dtype=object), array(['calamitous'], dtype=object), array(['calamitously'], dtype=object), array(['calamity'], dtype=object), array(['callous'], dtype=object), array(['calumniate'], dtype=object), array(['calumniation'], dtype=object), array(['calumnies'], dtype=object), array(['calumnious'], dtype=object), array(['calumniously'], dtype=object), array(['calumny'], dtype=object), array(['cancer'], dtype=object), array(['cancerous'], dtype=object), array(['cannibal'], dtype=object), array(['cannibalize'], dtype=object), array(['capitulate'], dtype=object), array(['capricious'], dtype=object), array(['capriciously'], dtype=object), array(['capriciousness'], dtype=object), array(['capsize'], dtype=object), array(['careless'], dtype=object), array(['carelessness'], dtype=object), array(['caricature'], dtype=object), array(['carnage'], dtype=object), array(['carp'], dtype=object), array(['cartoonish'], dtype=object), array(['cash-strapped'], dtype=object), array(['castigate'], dtype=object), array(['castrated'], dtype=object), array(['casualty'], dtype=object), array(['cataclysm'], dtype=object), array(['cataclysmal'], dtype=object), array(['cataclysmic'], dtype=object), array(['cataclysmically'], dtype=object), array(['catastrophe'], dtype=object), array(['catastrophes'], dtype=object), array(['catastrophic'], dtype=object), array(['catastrophically'], dtype=object), array(['catastrophies'], dtype=object), array(['caustic'], dtype=object), array(['caustically'], dtype=object), array(['cautionary'], dtype=object), array(['cave'], dtype=object), array(['censure'], dtype=object), array(['chafe'], dtype=object), array(['chaff'], dtype=object), array(['chagrin'], dtype=object), array(['challenging'], dtype=object), array(['chaos'], dtype=object), array(['chaotic'], dtype=object), array(['chasten'], dtype=object), array(['chastise'], dtype=object), array(['chastisement'], dtype=object), array(['chatter'], dtype=object), array(['chatterbox'], dtype=object), array(['cheap'], dtype=object), array(['cheapen'], dtype=object), array(['cheaply'], dtype=object), array(['cheat'], dtype=object), array(['cheated'], dtype=object), array(['cheater'], dtype=object), array(['cheating'], dtype=object), array(['cheats'], dtype=object), array(['checkered'], dtype=object), array(['cheerless'], dtype=object), array(['cheesy'], dtype=object), array(['chide'], dtype=object), array(['childish'], dtype=object), array(['chill'], dtype=object), array(['chilly'], dtype=object), array(['chintzy'], dtype=object), array(['choke'], dtype=object), array(['choleric'], dtype=object), array(['choppy'], dtype=object), array(['chore'], dtype=object), array(['chronic'], dtype=object), array(['chunky'], dtype=object), array(['clamor'], dtype=object), array(['clamorous'], dtype=object), array(['clash'], dtype=object), array(['cliche'], dtype=object), array(['cliched'], dtype=object), array(['clique'], dtype=object), array(['clog'], dtype=object), array(['clogged'], dtype=object), array(['clogs'], dtype=object), array(['cloud'], dtype=object), array(['clouding'], dtype=object), array(['cloudy'], dtype=object), array(['clueless'], dtype=object), array(['clumsy'], dtype=object), array(['clunky'], dtype=object), array(['coarse'], dtype=object), array(['cocky'], dtype=object), array(['coerce'], dtype=object), array(['coercion'], dtype=object), array(['coercive'], dtype=object), array(['cold'], dtype=object), array(['coldly'], dtype=object), array(['collapse'], dtype=object), array(['collude'], dtype=object), array(['collusion'], dtype=object), array(['combative'], dtype=object), array(['combust'], dtype=object), array(['comical'], dtype=object), array(['commiserate'], dtype=object), array(['commonplace'], dtype=object), array(['commotion'], dtype=object), array(['commotions'], dtype=object), array(['complacent'], dtype=object), array(['complain'], dtype=object), array(['complained'], dtype=object), array(['complaining'], dtype=object), array(['complains'], dtype=object), array(['complaint'], dtype=object), array(['complaints'], dtype=object), array(['complex'], dtype=object), array(['complicated'], dtype=object), array(['complication'], dtype=object), array(['complicit'], dtype=object), array(['compulsion'], dtype=object), array(['compulsive'], dtype=object), array(['concede'], dtype=object), array(['conceded'], dtype=object), array(['conceit'], dtype=object), array(['conceited'], dtype=object), array(['concen'], dtype=object), array(['concens'], dtype=object), array(['concern'], dtype=object), array(['concerned'], dtype=object), array(['concerns'], dtype=object), array(['concession'], dtype=object), array(['concessions'], dtype=object), array(['condemn'], dtype=object), array(['condemnable'], dtype=object), array(['condemnation'], dtype=object), array(['condemned'], dtype=object), array(['condemns'], dtype=object), array(['condescend'], dtype=object), array(['condescending'], dtype=object), array(['condescendingly'], dtype=object), array(['condescension'], dtype=object), array(['confess'], dtype=object), array(['confession'], dtype=object), array(['confessions'], dtype=object), array(['confined'], dtype=object), array(['conflict'], dtype=object), array(['conflicted'], dtype=object), array(['conflicting'], dtype=object), array(['conflicts'], dtype=object), array(['confound'], dtype=object), array(['confounded'], dtype=object), array(['confounding'], dtype=object), array(['confront'], dtype=object), array(['confrontation'], dtype=object), array(['confrontational'], dtype=object), array(['confuse'], dtype=object), array(['confused'], dtype=object), array(['confuses'], dtype=object), array(['confusing'], dtype=object), array(['confusion'], dtype=object), array(['confusions'], dtype=object), array(['congested'], dtype=object), array(['congestion'], dtype=object), array(['cons'], dtype=object), array(['conscons'], dtype=object), array(['conservative'], dtype=object), array(['conspicuous'], dtype=object), array(['conspicuously'], dtype=object), array(['conspiracies'], dtype=object), array(['conspiracy'], dtype=object), array(['conspirator'], dtype=object), array(['conspiratorial'], dtype=object), array(['conspire'], dtype=object), array(['consternation'], dtype=object), array(['contagious'], dtype=object), array(['contaminate'], dtype=object), array(['contaminated'], dtype=object), array(['contaminates'], dtype=object), array(['contaminating'], dtype=object), array(['contamination'], dtype=object), array(['contempt'], dtype=object), array(['contemptible'], dtype=object), array(['contemptuous'], dtype=object), array(['contemptuously'], dtype=object), array(['contend'], dtype=object), array(['contention'], dtype=object), array(['contentious'], dtype=object), array(['contort'], dtype=object), array(['contortions'], dtype=object), array(['contradict'], dtype=object), array(['contradiction'], dtype=object), array(['contradictory'], dtype=object), array(['contrariness'], dtype=object), array(['contravene'], dtype=object), array(['contrive'], dtype=object), array(['contrived'], dtype=object), array(['controversial'], dtype=object), array(['controversy'], dtype=object), array(['convoluted'], dtype=object), array(['corrode'], dtype=object), array(['corrosion'], dtype=object), array(['corrosions'], dtype=object), array(['corrosive'], dtype=object), array(['corrupt'], dtype=object), array(['corrupted'], dtype=object), array(['corrupting'], dtype=object), array(['corruption'], dtype=object), array(['corrupts'], dtype=object), array(['corruptted'], dtype=object), array(['costlier'], dtype=object), array(['costly'], dtype=object), array(['counter-productive'], dtype=object), array(['counterproductive'], dtype=object), array(['coupists'], dtype=object), array(['covetous'], dtype=object), array(['coward'], dtype=object), array(['cowardly'], dtype=object), array(['crabby'], dtype=object), array(['crack'], dtype=object), array(['cracked'], dtype=object), array(['cracks'], dtype=object), array(['craftily'], dtype=object), array(['craftly'], dtype=object), array(['crafty'], dtype=object), array(['cramp'], dtype=object), array(['cramped'], dtype=object), array(['cramping'], dtype=object), array(['cranky'], dtype=object), array(['crap'], dtype=object), array(['crappy'], dtype=object), array(['craps'], dtype=object), array(['crash'], dtype=object), array(['crashed'], dtype=object), array(['crashes'], dtype=object), array(['crashing'], dtype=object), array(['crass'], dtype=object), array(['craven'], dtype=object), array(['cravenly'], dtype=object), array(['craze'], dtype=object), array(['crazily'], dtype=object), array(['craziness'], dtype=object), array(['crazy'], dtype=object), array(['creak'], dtype=object), array(['creaking'], dtype=object), array(['creaks'], dtype=object), array(['credulous'], dtype=object), array(['creep'], dtype=object), array(['creeping'], dtype=object), array(['creeps'], dtype=object), array(['creepy'], dtype=object), array(['crept'], dtype=object), array(['crime'], dtype=object), array(['criminal'], dtype=object), array(['cringe'], dtype=object), array(['cringed'], dtype=object), array(['cringes'], dtype=object), array(['cripple'], dtype=object), array(['crippled'], dtype=object), array(['cripples'], dtype=object), array(['crippling'], dtype=object), array(['crisis'], dtype=object), array(['critic'], dtype=object), array(['critical'], dtype=object), array(['criticism'], dtype=object), array(['criticisms'], dtype=object), array(['criticize'], dtype=object), array(['criticized'], dtype=object), array(['criticizing'], dtype=object), array(['critics'], dtype=object), array(['cronyism'], dtype=object), array(['crook'], dtype=object), array(['crooked'], dtype=object), array(['crooks'], dtype=object), array(['crowded'], dtype=object), array(['crowdedness'], dtype=object), array(['crude'], dtype=object), array(['cruel'], dtype=object), array(['crueler'], dtype=object), array(['cruelest'], dtype=object), array(['cruelly'], dtype=object), array(['cruelness'], dtype=object), array(['cruelties'], dtype=object), array(['cruelty'], dtype=object), array(['crumble'], dtype=object), array(['crumbling'], dtype=object), array(['crummy'], dtype=object), array(['crumple'], dtype=object), array(['crumpled'], dtype=object), array(['crumples'], dtype=object), array(['crush'], dtype=object), array(['crushed'], dtype=object), array(['crushing'], dtype=object), array(['cry'], dtype=object), array(['culpable'], dtype=object), array(['culprit'], dtype=object), array(['cumbersome'], dtype=object), array(['cunt'], dtype=object), array(['cunts'], dtype=object), array(['cuplrit'], dtype=object), array(['curse'], dtype=object), array(['cursed'], dtype=object), array(['curses'], dtype=object), array(['curt'], dtype=object), array(['cuss'], dtype=object), array(['cussed'], dtype=object), array(['cutthroat'], dtype=object), array(['cynical'], dtype=object), array(['cynicism'], dtype=object), array(['d*mn'], dtype=object), array(['damage'], dtype=object), array(['damaged'], dtype=object), array(['damages'], dtype=object), array(['damaging'], dtype=object), array(['damn'], dtype=object), array(['damnable'], dtype=object), array(['damnably'], dtype=object), array(['damnation'], dtype=object), array(['damned'], dtype=object), array(['damning'], dtype=object), array(['damper'], dtype=object), array(['danger'], dtype=object), array(['dangerous'], dtype=object), array(['dangerousness'], dtype=object), array(['dark'], dtype=object), array(['darken'], dtype=object), array(['darkened'], dtype=object), array(['darker'], dtype=object), array(['darkness'], dtype=object), array(['dastard'], dtype=object), array(['dastardly'], dtype=object), array(['daunt'], dtype=object), array(['daunting'], dtype=object), array(['dauntingly'], dtype=object), array(['dawdle'], dtype=object), array(['daze'], dtype=object), array(['dazed'], dtype=object), array(['dead'], dtype=object), array(['deadbeat'], dtype=object), array(['deadlock'], dtype=object), array(['deadly'], dtype=object), array(['deadweight'], dtype=object), array(['deaf'], dtype=object), array(['dearth'], dtype=object), array(['death'], dtype=object), array(['debacle'], dtype=object), array(['debase'], dtype=object), array(['debasement'], dtype=object), array(['debaser'], dtype=object), array(['debatable'], dtype=object), array(['debauch'], dtype=object), array(['debaucher'], dtype=object), array(['debauchery'], dtype=object), array(['debilitate'], dtype=object), array(['debilitating'], dtype=object), array(['debility'], dtype=object), array(['debt'], dtype=object), array(['debts'], dtype=object), array(['decadence'], dtype=object), array(['decadent'], dtype=object), array(['decay'], dtype=object), array(['decayed'], dtype=object), array(['deceit'], dtype=object), array(['deceitful'], dtype=object), array(['deceitfully'], dtype=object), array(['deceitfulness'], dtype=object), array(['deceive'], dtype=object), array(['deceiver'], dtype=object), array(['deceivers'], dtype=object), array(['deceiving'], dtype=object), array(['deception'], dtype=object), array(['deceptive'], dtype=object), array(['deceptively'], dtype=object), array(['declaim'], dtype=object), array(['decline'], dtype=object), array(['declines'], dtype=object), array(['declining'], dtype=object), array(['decrement'], dtype=object), array(['decrepit'], dtype=object), array(['decrepitude'], dtype=object), array(['decry'], dtype=object), array(['defamation'], dtype=object), array(['defamations'], dtype=object), array(['defamatory'], dtype=object), array(['defame'], dtype=object), array(['defect'], dtype=object), array(['defective'], dtype=object), array(['defects'], dtype=object), array(['defensive'], dtype=object), array(['defiance'], dtype=object), array(['defiant'], dtype=object), array(['defiantly'], dtype=object), array(['deficiencies'], dtype=object), array(['deficiency'], dtype=object), array(['deficient'], dtype=object), array(['defile'], dtype=object), array(['defiler'], dtype=object), array(['deform'], dtype=object), array(['deformed'], dtype=object), array(['defrauding'], dtype=object), array(['defunct'], dtype=object), array(['defy'], dtype=object), array(['degenerate'], dtype=object), array(['degenerately'], dtype=object), array(['degeneration'], dtype=object), array(['degradation'], dtype=object), array(['degrade'], dtype=object), array(['degrading'], dtype=object), array(['degradingly'], dtype=object), array(['dehumanization'], dtype=object), array(['dehumanize'], dtype=object), array(['deign'], dtype=object), array(['deject'], dtype=object), array(['dejected'], dtype=object), array(['dejectedly'], dtype=object), array(['dejection'], dtype=object), array(['delay'], dtype=object), array(['delayed'], dtype=object), array(['delaying'], dtype=object), array(['delays'], dtype=object), array(['delinquency'], dtype=object), array(['delinquent'], dtype=object), array(['delirious'], dtype=object), array(['delirium'], dtype=object), array(['delude'], dtype=object), array(['deluded'], dtype=object), array(['deluge'], dtype=object), array(['delusion'], dtype=object), array(['delusional'], dtype=object), array(['delusions'], dtype=object), array(['demean'], dtype=object), array(['demeaning'], dtype=object), array(['demise'], dtype=object), array(['demolish'], dtype=object), array(['demolisher'], dtype=object), array(['demon'], dtype=object), array(['demonic'], dtype=object), array(['demonize'], dtype=object), array(['demonized'], dtype=object), array(['demonizes'], dtype=object), array(['demonizing'], dtype=object), array(['demoralize'], dtype=object), array(['demoralizing'], dtype=object), array(['demoralizingly'], dtype=object), array(['denial'], dtype=object), array(['denied'], dtype=object), array(['denies'], dtype=object), array(['denigrate'], dtype=object), array(['denounce'], dtype=object), array(['dense'], dtype=object), array(['dent'], dtype=object), array(['dented'], dtype=object), array(['dents'], dtype=object), array(['denunciate'], dtype=object), array(['denunciation'], dtype=object), array(['denunciations'], dtype=object), array(['deny'], dtype=object), array(['denying'], dtype=object), array(['deplete'], dtype=object), array(['deplorable'], dtype=object), array(['deplorably'], dtype=object), array(['deplore'], dtype=object), array(['deploring'], dtype=object), array(['deploringly'], dtype=object), array(['deprave'], dtype=object), array(['depraved'], dtype=object), array(['depravedly'], dtype=object), array(['deprecate'], dtype=object), array(['depress'], dtype=object), array(['depressed'], dtype=object), array(['depressing'], dtype=object), array(['depressingly'], dtype=object), array(['depression'], dtype=object), array(['depressions'], dtype=object), array(['deprive'], dtype=object), array(['deprived'], dtype=object), array(['deride'], dtype=object), array(['derision'], dtype=object), array(['derisive'], dtype=object), array(['derisively'], dtype=object), array(['derisiveness'], dtype=object), array(['derogatory'], dtype=object), array(['desecrate'], dtype=object), array(['desert'], dtype=object), array(['desertion'], dtype=object), array(['desiccate'], dtype=object), array(['desiccated'], dtype=object), array(['desititute'], dtype=object), array(['desolate'], dtype=object), array(['desolately'], dtype=object), array(['desolation'], dtype=object), array(['despair'], dtype=object), array(['despairing'], dtype=object), array(['despairingly'], dtype=object), array(['desperate'], dtype=object), array(['desperately'], dtype=object), array(['desperation'], dtype=object), array(['despicable'], dtype=object), array(['despicably'], dtype=object), array(['despise'], dtype=object), array(['despised'], dtype=object), array(['despoil'], dtype=object), array(['despoiler'], dtype=object), array(['despondence'], dtype=object), array(['despondency'], dtype=object), array(['despondent'], dtype=object), array(['despondently'], dtype=object), array(['despot'], dtype=object), array(['despotic'], dtype=object), array(['despotism'], dtype=object), array(['destabilisation'], dtype=object), array(['destains'], dtype=object), array(['destitute'], dtype=object), array(['destitution'], dtype=object), array(['destroy'], dtype=object), array(['destroyer'], dtype=object), array(['destruction'], dtype=object), array(['destructive'], dtype=object), array(['desultory'], dtype=object), array(['deter'], dtype=object), array(['deteriorate'], dtype=object), array(['deteriorating'], dtype=object), array(['deterioration'], dtype=object), array(['deterrent'], dtype=object), array(['detest'], dtype=object), array(['detestable'], dtype=object), array(['detestably'], dtype=object), array(['detested'], dtype=object), array(['detesting'], dtype=object), array(['detests'], dtype=object), array(['detract'], dtype=object), array(['detracted'], dtype=object), array(['detracting'], dtype=object), array(['detraction'], dtype=object), array(['detracts'], dtype=object), array(['detriment'], dtype=object), array(['detrimental'], dtype=object), array(['devastate'], dtype=object), array(['devastated'], dtype=object), array(['devastates'], dtype=object), array(['devastating'], dtype=object), array(['devastatingly'], dtype=object), array(['devastation'], dtype=object), array(['deviate'], dtype=object), array(['deviation'], dtype=object), array(['devil'], dtype=object), array(['devilish'], dtype=object), array(['devilishly'], dtype=object), array(['devilment'], dtype=object), array(['devilry'], dtype=object), array(['devious'], dtype=object), array(['deviously'], dtype=object), array(['deviousness'], dtype=object), array(['devoid'], dtype=object), array(['diabolic'], dtype=object), array(['diabolical'], dtype=object), array(['diabolically'], dtype=object), array(['diametrically'], dtype=object), array(['diappointed'], dtype=object), array(['diatribe'], dtype=object), array(['diatribes'], dtype=object), array(['dick'], dtype=object), array(['dictator'], dtype=object), array(['dictatorial'], dtype=object), array(['die'], dtype=object), array(['die-hard'], dtype=object), array(['died'], dtype=object), array(['dies'], dtype=object), array(['difficult'], dtype=object), array(['difficulties'], dtype=object), array(['difficulty'], dtype=object), array(['diffidence'], dtype=object), array(['dilapidated'], dtype=object), array(['dilemma'], dtype=object), array(['dilly-dally'], dtype=object), array(['dim'], dtype=object), array(['dimmer'], dtype=object), array(['din'], dtype=object), array(['ding'], dtype=object), array(['dings'], dtype=object), array(['dinky'], dtype=object), array(['dire'], dtype=object), array(['direly'], dtype=object), array(['direness'], dtype=object), array(['dirt'], dtype=object), array(['dirtbag'], dtype=object), array(['dirtbags'], dtype=object), array(['dirts'], dtype=object), array(['dirty'], dtype=object), array(['disable'], dtype=object), array(['disabled'], dtype=object), array(['disaccord'], dtype=object), array(['disadvantage'], dtype=object), array(['disadvantaged'], dtype=object), array(['disadvantageous'], dtype=object), array(['disadvantages'], dtype=object), array(['disaffect'], dtype=object), array(['disaffected'], dtype=object), array(['disaffirm'], dtype=object), array(['disagree'], dtype=object), array(['disagreeable'], dtype=object), array(['disagreeably'], dtype=object), array(['disagreed'], dtype=object), array(['disagreeing'], dtype=object), array(['disagreement'], dtype=object), array(['disagrees'], dtype=object), array(['disallow'], dtype=object), array(['disapointed'], dtype=object), array(['disapointing'], dtype=object), array(['disapointment'], dtype=object), array(['disappoint'], dtype=object), array(['disappointed'], dtype=object), array(['disappointing'], dtype=object), array(['disappointingly'], dtype=object), array(['disappointment'], dtype=object), array(['disappointments'], dtype=object), array(['disappoints'], dtype=object), array(['disapprobation'], dtype=object), array(['disapproval'], dtype=object), array(['disapprove'], dtype=object), array(['disapproving'], dtype=object), array(['disarm'], dtype=object), array(['disarray'], dtype=object), array(['disaster'], dtype=object), array(['disasterous'], dtype=object), array(['disastrous'], dtype=object), array(['disastrously'], dtype=object), array(['disavow'], dtype=object), array(['disavowal'], dtype=object), array(['disbelief'], dtype=object), array(['disbelieve'], dtype=object), array(['disbeliever'], dtype=object), array(['disclaim'], dtype=object), array(['discombobulate'], dtype=object), array(['discomfit'], dtype=object), array(['discomfititure'], dtype=object), array(['discomfort'], dtype=object), array(['discompose'], dtype=object), array(['disconcert'], dtype=object), array(['disconcerted'], dtype=object), array(['disconcerting'], dtype=object), array(['disconcertingly'], dtype=object), array(['disconsolate'], dtype=object), array(['disconsolately'], dtype=object), array(['disconsolation'], dtype=object), array(['discontent'], dtype=object), array(['discontented'], dtype=object), array(['discontentedly'], dtype=object), array(['discontinued'], dtype=object), array(['discontinuity'], dtype=object), array(['discontinuous'], dtype=object), array(['discord'], dtype=object), array(['discordance'], dtype=object), array(['discordant'], dtype=object), array(['discountenance'], dtype=object), array(['discourage'], dtype=object), array(['discouragement'], dtype=object), array(['discouraging'], dtype=object), array(['discouragingly'], dtype=object), array(['discourteous'], dtype=object), array(['discourteously'], dtype=object), array(['discoutinous'], dtype=object), array(['discredit'], dtype=object), array(['discrepant'], dtype=object), array(['discriminate'], dtype=object), array(['discrimination'], dtype=object), array(['discriminatory'], dtype=object), array(['disdain'], dtype=object), array(['disdained'], dtype=object), array(['disdainful'], dtype=object), array(['disdainfully'], dtype=object), array(['disfavor'], dtype=object), array(['disgrace'], dtype=object), array(['disgraced'], dtype=object), array(['disgraceful'], dtype=object), array(['disgracefully'], dtype=object), array(['disgruntle'], dtype=object), array(['disgruntled'], dtype=object), array(['disgust'], dtype=object), array(['disgusted'], dtype=object), array(['disgustedly'], dtype=object), array(['disgustful'], dtype=object), array(['disgustfully'], dtype=object), array(['disgusting'], dtype=object), array(['disgustingly'], dtype=object), array(['dishearten'], dtype=object), array(['disheartening'], dtype=object), array(['dishearteningly'], dtype=object), array(['dishonest'], dtype=object), array(['dishonestly'], dtype=object), array(['dishonesty'], dtype=object), array(['dishonor'], dtype=object), array(['dishonorable'], dtype=object), array(['dishonorablely'], dtype=object), array(['disillusion'], dtype=object), array(['disillusioned'], dtype=object), array(['disillusionment'], dtype=object), array(['disillusions'], dtype=object), array(['disinclination'], dtype=object), array(['disinclined'], dtype=object), array(['disingenuous'], dtype=object), array(['disingenuously'], dtype=object), array(['disintegrate'], dtype=object), array(['disintegrated'], dtype=object), array(['disintegrates'], dtype=object), array(['disintegration'], dtype=object), array(['disinterest'], dtype=object), array(['disinterested'], dtype=object), array(['dislike'], dtype=object), array(['disliked'], dtype=object), array(['dislikes'], dtype=object), array(['disliking'], dtype=object), array(['dislocated'], dtype=object), array(['disloyal'], dtype=object), array(['disloyalty'], dtype=object), array(['dismal'], dtype=object), array(['dismally'], dtype=object), array(['dismalness'], dtype=object), array(['dismay'], dtype=object), array(['dismayed'], dtype=object), array(['dismaying'], dtype=object), array(['dismayingly'], dtype=object), array(['dismissive'], dtype=object), array(['dismissively'], dtype=object), array(['disobedience'], dtype=object), array(['disobedient'], dtype=object), array(['disobey'], dtype=object), array(['disoobedient'], dtype=object), array(['disorder'], dtype=object), array(['disordered'], dtype=object), array(['disorderly'], dtype=object), array(['disorganized'], dtype=object), array(['disorient'], dtype=object), array(['disoriented'], dtype=object), array(['disown'], dtype=object), array(['disparage'], dtype=object), array(['disparaging'], dtype=object), array(['disparagingly'], dtype=object), array(['dispensable'], dtype=object), array(['dispirit'], dtype=object), array(['dispirited'], dtype=object), array(['dispiritedly'], dtype=object), array(['dispiriting'], dtype=object), array(['displace'], dtype=object), array(['displaced'], dtype=object), array(['displease'], dtype=object), array(['displeased'], dtype=object), array(['displeasing'], dtype=object), array(['displeasure'], dtype=object), array(['disproportionate'], dtype=object), array(['disprove'], dtype=object), array(['disputable'], dtype=object), array(['dispute'], dtype=object), array(['disputed'], dtype=object), array(['disquiet'], dtype=object), array(['disquieting'], dtype=object), array(['disquietingly'], dtype=object), array(['disquietude'], dtype=object), array(['disregard'], dtype=object), array(['disregardful'], dtype=object), array(['disreputable'], dtype=object), array(['disrepute'], dtype=object), array(['disrespect'], dtype=object), array(['disrespectable'], dtype=object), array(['disrespectablity'], dtype=object), array(['disrespectful'], dtype=object), array(['disrespectfully'], dtype=object), array(['disrespectfulness'], dtype=object), array(['disrespecting'], dtype=object), array(['disrupt'], dtype=object), array(['disruption'], dtype=object), array(['disruptive'], dtype=object), array(['diss'], dtype=object), array(['dissapointed'], dtype=object), array(['dissappointed'], dtype=object), array(['dissappointing'], dtype=object), array(['dissatisfaction'], dtype=object), array(['dissatisfactory'], dtype=object), array(['dissatisfied'], dtype=object), array(['dissatisfies'], dtype=object), array(['dissatisfy'], dtype=object), array(['dissatisfying'], dtype=object), array(['dissed'], dtype=object), array(['dissemble'], dtype=object), array(['dissembler'], dtype=object), array(['dissension'], dtype=object), array(['dissent'], dtype=object), array(['dissenter'], dtype=object), array(['dissention'], dtype=object), array(['disservice'], dtype=object), array(['disses'], dtype=object), array(['dissidence'], dtype=object), array(['dissident'], dtype=object), array(['dissidents'], dtype=object), array(['dissing'], dtype=object), array(['dissocial'], dtype=object), array(['dissolute'], dtype=object), array(['dissolution'], dtype=object), array(['dissonance'], dtype=object), array(['dissonant'], dtype=object), array(['dissonantly'], dtype=object), array(['dissuade'], dtype=object), array(['dissuasive'], dtype=object), array(['distains'], dtype=object), array(['distaste'], dtype=object), array(['distasteful'], dtype=object), array(['distastefully'], dtype=object), array(['distort'], dtype=object), array(['distorted'], dtype=object), array(['distortion'], dtype=object), array(['distorts'], dtype=object), array(['distract'], dtype=object), array(['distracting'], dtype=object), array(['distraction'], dtype=object), array(['distraught'], dtype=object), array(['distraughtly'], dtype=object), array(['distraughtness'], dtype=object), array(['distress'], dtype=object), array(['distressed'], dtype=object), array(['distressing'], dtype=object), array(['distressingly'], dtype=object), array(['distrust'], dtype=object), array(['distrustful'], dtype=object), array(['distrusting'], dtype=object), array(['disturb'], dtype=object), array(['disturbance'], dtype=object), array(['disturbed'], dtype=object), array(['disturbing'], dtype=object), array(['disturbingly'], dtype=object), array(['disunity'], dtype=object), array(['disvalue'], dtype=object), array(['divergent'], dtype=object), array(['divisive'], dtype=object), array(['divisively'], dtype=object), array(['divisiveness'], dtype=object), array(['dizzing'], dtype=object), array(['dizzingly'], dtype=object), array(['dizzy'], dtype=object), array(['doddering'], dtype=object), array(['dodgey'], dtype=object), array(['dogged'], dtype=object), array(['doggedly'], dtype=object), array(['dogmatic'], dtype=object), array(['doldrums'], dtype=object), array(['domineer'], dtype=object), array(['domineering'], dtype=object), array(['donside'], dtype=object), array(['doom'], dtype=object), array(['doomed'], dtype=object), array(['doomsday'], dtype=object), array(['dope'], dtype=object), array(['doubt'], dtype=object), array(['doubtful'], dtype=object), array(['doubtfully'], dtype=object), array(['doubts'], dtype=object), array(['douchbag'], dtype=object), array(['douchebag'], dtype=object), array(['douchebags'], dtype=object), array(['downbeat'], dtype=object), array(['downcast'], dtype=object), array(['downer'], dtype=object), array(['downfall'], dtype=object), array(['downfallen'], dtype=object), array(['downgrade'], dtype=object), array(['downhearted'], dtype=object), array(['downheartedly'], dtype=object), array(['downhill'], dtype=object), array(['downside'], dtype=object), array(['downsides'], dtype=object), array(['downturn'], dtype=object), array(['downturns'], dtype=object), array(['drab'], dtype=object), array(['draconian'], dtype=object), array(['draconic'], dtype=object), array(['drag'], dtype=object), array(['dragged'], dtype=object), array(['dragging'], dtype=object), array(['dragoon'], dtype=object), array(['drags'], dtype=object), array(['drain'], dtype=object), array(['drained'], dtype=object), array(['draining'], dtype=object), array(['drains'], dtype=object), array(['drastic'], dtype=object), array(['drastically'], dtype=object), array(['drawback'], dtype=object), array(['drawbacks'], dtype=object), array(['dread'], dtype=object), array(['dreadful'], dtype=object), array(['dreadfully'], dtype=object), array(['dreadfulness'], dtype=object), array(['dreary'], dtype=object), array(['dripped'], dtype=object), array(['dripping'], dtype=object), array(['drippy'], dtype=object), array(['drips'], dtype=object), array(['drones'], dtype=object), array(['droop'], dtype=object), array(['droops'], dtype=object), array(['drop-out'], dtype=object), array(['drop-outs'], dtype=object), array(['dropout'], dtype=object), array(['dropouts'], dtype=object), array(['drought'], dtype=object), array(['drowning'], dtype=object), array(['drunk'], dtype=object), array(['drunkard'], dtype=object), array(['drunken'], dtype=object), array(['dubious'], dtype=object), array(['dubiously'], dtype=object), array(['dubitable'], dtype=object), array(['dud'], dtype=object), array(['dull'], dtype=object), array(['dullard'], dtype=object), array(['dumb'], dtype=object), array(['dumbfound'], dtype=object), array(['dump'], dtype=object), array(['dumped'], dtype=object), array(['dumping'], dtype=object), array(['dumps'], dtype=object), array(['dunce'], dtype=object), array(['dungeon'], dtype=object), array(['dungeons'], dtype=object), array(['dupe'], dtype=object), array(['dust'], dtype=object), array(['dusty'], dtype=object), array(['dwindling'], dtype=object), array(['dying'], dtype=object), array(['earsplitting'], dtype=object), array(['eccentric'], dtype=object), array(['eccentricity'], dtype=object), array(['effigy'], dtype=object), array(['effrontery'], dtype=object), array(['egocentric'], dtype=object), array(['egomania'], dtype=object), array(['egotism'], dtype=object), array(['egotistical'], dtype=object), array(['egotistically'], dtype=object), array(['egregious'], dtype=object), array(['egregiously'], dtype=object), array(['election-rigger'], dtype=object), array(['elimination'], dtype=object), array(['emaciated'], dtype=object), array(['emasculate'], dtype=object), array(['embarrass'], dtype=object), array(['embarrassing'], dtype=object), array(['embarrassingly'], dtype=object), array(['embarrassment'], dtype=object), array(['embattled'], dtype=object), array(['embroil'], dtype=object), array(['embroiled'], dtype=object), array(['embroilment'], dtype=object), array(['emergency'], dtype=object), array(['emphatic'], dtype=object), array(['emphatically'], dtype=object), array(['emptiness'], dtype=object), array(['encroach'], dtype=object), array(['encroachment'], dtype=object), array(['endanger'], dtype=object), array(['enemies'], dtype=object), array(['enemy'], dtype=object), array(['enervate'], dtype=object), array(['enfeeble'], dtype=object), array(['enflame'], dtype=object), array(['engulf'], dtype=object), array(['enjoin'], dtype=object), array(['enmity'], dtype=object), array(['enrage'], dtype=object), array(['enraged'], dtype=object), array(['enraging'], dtype=object), array(['enslave'], dtype=object), array(['entangle'], dtype=object), array(['entanglement'], dtype=object), array(['entrap'], dtype=object), array(['entrapment'], dtype=object), array(['envious'], dtype=object), array(['enviously'], dtype=object), array(['enviousness'], dtype=object), array(['epidemic'], dtype=object), array(['equivocal'], dtype=object), array(['erase'], dtype=object), array(['erode'], dtype=object), array(['erodes'], dtype=object), array(['erosion'], dtype=object), array(['err'], dtype=object), array(['errant'], dtype=object), array(['erratic'], dtype=object), array(['erratically'], dtype=object), array(['erroneous'], dtype=object), array(['erroneously'], dtype=object), array(['error'], dtype=object), array(['errors'], dtype=object), array(['eruptions'], dtype=object), array(['escapade'], dtype=object), array(['eschew'], dtype=object), array(['estranged'], dtype=object), array(['evade'], dtype=object), array(['evasion'], dtype=object), array(['evasive'], dtype=object), array(['evil'], dtype=object), array(['evildoer'], dtype=object), array(['evils'], dtype=object), array(['eviscerate'], dtype=object), array(['exacerbate'], dtype=object), array(['exagerate'], dtype=object), array(['exagerated'], dtype=object), array(['exagerates'], dtype=object), array(['exaggerate'], dtype=object), array(['exaggeration'], dtype=object), array(['exasperate'], dtype=object), array(['exasperated'], dtype=object), array(['exasperating'], dtype=object), array(['exasperatingly'], dtype=object), array(['exasperation'], dtype=object), array(['excessive'], dtype=object), array(['excessively'], dtype=object), array(['exclusion'], dtype=object), array(['excoriate'], dtype=object), array(['excruciating'], dtype=object), array(['excruciatingly'], dtype=object), array(['excuse'], dtype=object), array(['excuses'], dtype=object), array(['execrate'], dtype=object), array(['exhaust'], dtype=object), array(['exhausted'], dtype=object), array(['exhaustion'], dtype=object), array(['exhausts'], dtype=object), array(['exhorbitant'], dtype=object), array(['exhort'], dtype=object), array(['exile'], dtype=object), array(['exorbitant'], dtype=object), array(['exorbitantance'], dtype=object), array(['exorbitantly'], dtype=object), array(['expel'], dtype=object), array(['expensive'], dtype=object), array(['expire'], dtype=object), array(['expired'], dtype=object), array(['explode'], dtype=object), array(['exploit'], dtype=object), array(['exploitation'], dtype=object), array(['explosive'], dtype=object), array(['expropriate'], dtype=object), array(['expropriation'], dtype=object), array(['expulse'], dtype=object), array(['expunge'], dtype=object), array(['exterminate'], dtype=object), array(['extermination'], dtype=object), array(['extinguish'], dtype=object), array(['extort'], dtype=object), array(['extortion'], dtype=object), array(['extraneous'], dtype=object), array(['extravagance'], dtype=object), array(['extravagant'], dtype=object), array(['extravagantly'], dtype=object), array(['extremism'], dtype=object), array(['extremist'], dtype=object), array(['extremists'], dtype=object), array(['eyesore'], dtype=object), array(['f**k'], dtype=object), array(['fabricate'], dtype=object), array(['fabrication'], dtype=object), array(['facetious'], dtype=object), array(['facetiously'], dtype=object), array(['fail'], dtype=object), array(['failed'], dtype=object), array(['failing'], dtype=object), array(['fails'], dtype=object), array(['failure'], dtype=object), array(['failures'], dtype=object), array(['faint'], dtype=object), array(['fainthearted'], dtype=object), array(['faithless'], dtype=object), array(['fake'], dtype=object), array(['fall'], dtype=object), array(['fallacies'], dtype=object), array(['fallacious'], dtype=object), array(['fallaciously'], dtype=object), array(['fallaciousness'], dtype=object), array(['fallacy'], dtype=object), array(['fallen'], dtype=object), array(['falling'], dtype=object), array(['fallout'], dtype=object), array(['falls'], dtype=object), array(['false'], dtype=object), array(['falsehood'], dtype=object), array(['falsely'], dtype=object), array(['falsify'], dtype=object), array(['falter'], dtype=object), array(['faltered'], dtype=object), array(['famine'], dtype=object), array(['famished'], dtype=object), array(['fanatic'], dtype=object), array(['fanatical'], dtype=object), array(['fanatically'], dtype=object), array(['fanaticism'], dtype=object), array(['fanatics'], dtype=object), array(['fanciful'], dtype=object), array(['far-fetched'], dtype=object), array(['farce'], dtype=object), array(['farcical'], dtype=object), array(['farcical-yet-provocative'], dtype=object), array(['farcically'], dtype=object), array(['farfetched'], dtype=object), array(['fascism'], dtype=object), array(['fascist'], dtype=object), array(['fastidious'], dtype=object), array(['fastidiously'], dtype=object), array(['fastuous'], dtype=object), array(['fat'], dtype=object), array(['fat-cat'], dtype=object), array(['fat-cats'], dtype=object), array(['fatal'], dtype=object), array(['fatalistic'], dtype=object), array(['fatalistically'], dtype=object), array(['fatally'], dtype=object), array(['fatcat'], dtype=object), array(['fatcats'], dtype=object), array(['fateful'], dtype=object), array(['fatefully'], dtype=object), array(['fathomless'], dtype=object), array(['fatigue'], dtype=object), array(['fatigued'], dtype=object), array(['fatique'], dtype=object), array(['fatty'], dtype=object), array(['fatuity'], dtype=object), array(['fatuous'], dtype=object), array(['fatuously'], dtype=object), array(['fault'], dtype=object), array(['faults'], dtype=object), array(['faulty'], dtype=object), array(['fawningly'], dtype=object), array(['faze'], dtype=object), array(['fear'], dtype=object), array(['fearful'], dtype=object), array(['fearfully'], dtype=object), array(['fears'], dtype=object), array(['fearsome'], dtype=object), array(['feckless'], dtype=object), array(['feeble'], dtype=object), array(['feeblely'], dtype=object), array(['feebleminded'], dtype=object), array(['feign'], dtype=object), array(['feint'], dtype=object), array(['fell'], dtype=object), array(['felon'], dtype=object), array(['felonious'], dtype=object), array(['ferociously'], dtype=object), array(['ferocity'], dtype=object), array(['fetid'], dtype=object), array(['fever'], dtype=object), array(['feverish'], dtype=object), array(['fevers'], dtype=object), array(['fiasco'], dtype=object), array(['fib'], dtype=object), array(['fibber'], dtype=object), array(['fickle'], dtype=object), array(['fiction'], dtype=object), array(['fictional'], dtype=object), array(['fictitious'], dtype=object), array(['fidget'], dtype=object), array(['fidgety'], dtype=object), array(['fiend'], dtype=object), array(['fiendish'], dtype=object), array(['fierce'], dtype=object), array(['figurehead'], dtype=object), array(['filth'], dtype=object), array(['filthy'], dtype=object), array(['finagle'], dtype=object), array(['finicky'], dtype=object), array(['fissures'], dtype=object), array(['fist'], dtype=object), array(['flabbergast'], dtype=object), array(['flabbergasted'], dtype=object), array(['flagging'], dtype=object), array(['flagrant'], dtype=object), array(['flagrantly'], dtype=object), array(['flair'], dtype=object), array(['flairs'], dtype=object), array(['flak'], dtype=object), array(['flake'], dtype=object), array(['flakey'], dtype=object), array(['flakieness'], dtype=object), array(['flaking'], dtype=object), array(['flaky'], dtype=object), array(['flare'], dtype=object), array(['flares'], dtype=object), array(['flareup'], dtype=object), array(['flareups'], dtype=object), array(['flat-out'], dtype=object), array(['flaunt'], dtype=object), array(['flaw'], dtype=object), array(['flawed'], dtype=object), array(['flaws'], dtype=object), array(['flee'], dtype=object), array(['fleed'], dtype=object), array(['fleeing'], dtype=object), array(['fleer'], dtype=object), array(['flees'], dtype=object), array(['fleeting'], dtype=object), array(['flicering'], dtype=object), array(['flicker'], dtype=object), array(['flickering'], dtype=object), array(['flickers'], dtype=object), array(['flighty'], dtype=object), array(['flimflam'], dtype=object), array(['flimsy'], dtype=object), array(['flirt'], dtype=object), array(['flirty'], dtype=object), array(['floored'], dtype=object), array(['flounder'], dtype=object), array(['floundering'], dtype=object), array(['flout'], dtype=object), array(['fluster'], dtype=object), array(['foe'], dtype=object), array(['fool'], dtype=object), array(['fooled'], dtype=object), array(['foolhardy'], dtype=object), array(['foolish'], dtype=object), array(['foolishly'], dtype=object), array(['foolishness'], dtype=object), array(['forbid'], dtype=object), array(['forbidden'], dtype=object), array(['forbidding'], dtype=object), array(['forceful'], dtype=object), array(['foreboding'], dtype=object), array(['forebodingly'], dtype=object), array(['forfeit'], dtype=object), array(['forged'], dtype=object), array(['forgetful'], dtype=object), array(['forgetfully'], dtype=object), array(['forgetfulness'], dtype=object), array(['forlorn'], dtype=object), array(['forlornly'], dtype=object), array(['forsake'], dtype=object), array(['forsaken'], dtype=object), array(['forswear'], dtype=object), array(['foul'], dtype=object), array(['foully'], dtype=object), array(['foulness'], dtype=object), array(['fractious'], dtype=object), array(['fractiously'], dtype=object), array(['fracture'], dtype=object), array(['fragile'], dtype=object), array(['fragmented'], dtype=object), array(['frail'], dtype=object), array(['frantic'], dtype=object), array(['frantically'], dtype=object), array(['franticly'], dtype=object), array(['fraud'], dtype=object), array(['fraudulent'], dtype=object), array(['fraught'], dtype=object), array(['frazzle'], dtype=object), array(['frazzled'], dtype=object), array(['freak'], dtype=object), array(['freaking'], dtype=object), array(['freakish'], dtype=object), array(['freakishly'], dtype=object), array(['freaks'], dtype=object), array(['freeze'], dtype=object), array(['freezes'], dtype=object), array(['freezing'], dtype=object), array(['frenetic'], dtype=object), array(['frenetically'], dtype=object), array(['frenzied'], dtype=object), array(['frenzy'], dtype=object), array(['fret'], dtype=object), array(['fretful'], dtype=object), array(['frets'], dtype=object), array(['friction'], dtype=object), array(['frictions'], dtype=object), array(['fried'], dtype=object), array(['friggin'], dtype=object), array(['frigging'], dtype=object), array(['fright'], dtype=object), array(['frighten'], dtype=object), array(['frightening'], dtype=object), array(['frighteningly'], dtype=object), array(['frightful'], dtype=object), array(['frightfully'], dtype=object), array(['frigid'], dtype=object), array(['frost'], dtype=object), array(['frown'], dtype=object), array(['froze'], dtype=object), array(['frozen'], dtype=object), array(['fruitless'], dtype=object), array(['fruitlessly'], dtype=object), array(['frustrate'], dtype=object), array(['frustrated'], dtype=object), array(['frustrates'], dtype=object), array(['frustrating'], dtype=object), array(['frustratingly'], dtype=object), array(['frustration'], dtype=object), array(['frustrations'], dtype=object), array(['fuck'], dtype=object), array(['fucking'], dtype=object), array(['fudge'], dtype=object), array(['fugitive'], dtype=object), array(['full-blown'], dtype=object), array(['fulminate'], dtype=object), array(['fumble'], dtype=object), array(['fume'], dtype=object), array(['fumes'], dtype=object), array(['fundamentalism'], dtype=object), array(['funky'], dtype=object), array(['funnily'], dtype=object), array(['funny'], dtype=object), array(['furious'], dtype=object), array(['furiously'], dtype=object), array(['furor'], dtype=object), array(['fury'], dtype=object), array(['fuss'], dtype=object), array(['fussy'], dtype=object), array(['fustigate'], dtype=object), array(['fusty'], dtype=object), array(['futile'], dtype=object), array(['futilely'], dtype=object), array(['futility'], dtype=object), array(['fuzzy'], dtype=object), array(['gabble'], dtype=object), array(['gaff'], dtype=object), array(['gaffe'], dtype=object), array(['gainsay'], dtype=object), array(['gainsayer'], dtype=object), array(['gall'], dtype=object), array(['galling'], dtype=object), array(['gallingly'], dtype=object), array(['galls'], dtype=object), array(['gangster'], dtype=object), array(['gape'], dtype=object), array(['garbage'], dtype=object), array(['garish'], dtype=object), array(['gasp'], dtype=object), array(['gauche'], dtype=object), array(['gaudy'], dtype=object), array(['gawk'], dtype=object), array(['gawky'], dtype=object), array(['geezer'], dtype=object), array(['genocide'], dtype=object), array(['get-rich'], dtype=object), array(['ghastly'], dtype=object), array(['ghetto'], dtype=object), array(['ghosting'], dtype=object), array(['gibber'], dtype=object), array(['gibberish'], dtype=object), array(['gibe'], dtype=object), array(['giddy'], dtype=object), array(['gimmick'], dtype=object), array(['gimmicked'], dtype=object), array(['gimmicking'], dtype=object), array(['gimmicks'], dtype=object), array(['gimmicky'], dtype=object), array(['glare'], dtype=object), array(['glaringly'], dtype=object), array(['glib'], dtype=object), array(['glibly'], dtype=object), array(['glitch'], dtype=object), array(['glitches'], dtype=object), array(['gloatingly'], dtype=object), array(['gloom'], dtype=object), array(['gloomy'], dtype=object), array(['glower'], dtype=object), array(['glum'], dtype=object), array(['glut'], dtype=object), array(['gnawing'], dtype=object), array(['goad'], dtype=object), array(['goading'], dtype=object), array(['god-awful'], dtype=object), array(['goof'], dtype=object), array(['goofy'], dtype=object), array(['goon'], dtype=object), array(['gossip'], dtype=object), array(['graceless'], dtype=object), array(['gracelessly'], dtype=object), array(['graft'], dtype=object), array(['grainy'], dtype=object), array(['grapple'], dtype=object), array(['grate'], dtype=object), array(['grating'], dtype=object), array(['gravely'], dtype=object), array(['greasy'], dtype=object), array(['greed'], dtype=object), array(['greedy'], dtype=object), array(['grief'], dtype=object), array(['grievance'], dtype=object), array(['grievances'], dtype=object), array(['grieve'], dtype=object), array(['grieving'], dtype=object), array(['grievous'], dtype=object), array(['grievously'], dtype=object), array(['grim'], dtype=object), array(['grimace'], dtype=object), array(['grind'], dtype=object), array(['gripe'], dtype=object), array(['gripes'], dtype=object), array(['grisly'], dtype=object), array(['gritty'], dtype=object), array(['gross'], dtype=object), array(['grossly'], dtype=object), array(['grotesque'], dtype=object), array(['grouch'], dtype=object), array(['grouchy'], dtype=object), array(['groundless'], dtype=object), array(['grouse'], dtype=object), array(['growl'], dtype=object), array(['grudge'], dtype=object), array(['grudges'], dtype=object), array(['grudging'], dtype=object), array(['grudgingly'], dtype=object), array(['gruesome'], dtype=object), array(['gruesomely'], dtype=object), array(['gruff'], dtype=object), array(['grumble'], dtype=object), array(['grumpier'], dtype=object), array(['grumpiest'], dtype=object), array(['grumpily'], dtype=object), array(['grumpish'], dtype=object), array(['grumpy'], dtype=object), array(['guile'], dtype=object), array(['guilt'], dtype=object), array(['guiltily'], dtype=object), array(['guilty'], dtype=object), array(['gullible'], dtype=object), array(['gutless'], dtype=object), array(['gutter'], dtype=object), array(['hack'], dtype=object), array(['hacks'], dtype=object), array(['haggard'], dtype=object), array(['haggle'], dtype=object), array(['hairloss'], dtype=object), array(['halfhearted'], dtype=object), array(['halfheartedly'], dtype=object), array(['hallucinate'], dtype=object), array(['hallucination'], dtype=object), array(['hamper'], dtype=object), array(['hampered'], dtype=object), array(['handicapped'], dtype=object), array(['hang'], dtype=object), array(['hangs'], dtype=object), array(['haphazard'], dtype=object), array(['hapless'], dtype=object), array(['harangue'], dtype=object), array(['harass'], dtype=object), array(['harassed'], dtype=object), array(['harasses'], dtype=object), array(['harassment'], dtype=object), array(['harboring'], dtype=object), array(['harbors'], dtype=object), array(['hard'], dtype=object), array(['hard-hit'], dtype=object), array(['hard-line'], dtype=object), array(['hard-liner'], dtype=object), array(['hardball'], dtype=object), array(['harden'], dtype=object), array(['hardened'], dtype=object), array(['hardheaded'], dtype=object), array(['hardhearted'], dtype=object), array(['hardliner'], dtype=object), array(['hardliners'], dtype=object), array(['hardship'], dtype=object), array(['hardships'], dtype=object), array(['harm'], dtype=object), array(['harmed'], dtype=object), array(['harmful'], dtype=object), array(['harms'], dtype=object), array(['harpy'], dtype=object), array(['harridan'], dtype=object), array(['harried'], dtype=object), array(['harrow'], dtype=object), array(['harsh'], dtype=object), array(['harshly'], dtype=object), array(['hasseling'], dtype=object), array(['hassle'], dtype=object), array(['hassled'], dtype=object), array(['hassles'], dtype=object), array(['haste'], dtype=object), array(['hastily'], dtype=object), array(['hasty'], dtype=object), array(['hate'], dtype=object), array(['hated'], dtype=object), array(['hateful'], dtype=object), array(['hatefully'], dtype=object), array(['hatefulness'], dtype=object), array(['hater'], dtype=object), array(['haters'], dtype=object), array(['hates'], dtype=object), array(['hating'], dtype=object), array(['hatred'], dtype=object), array(['haughtily'], dtype=object), array(['haughty'], dtype=object), array(['haunt'], dtype=object), array(['haunting'], dtype=object), array(['havoc'], dtype=object), array(['hawkish'], dtype=object), array(['haywire'], dtype=object), array(['hazard'], dtype=object), array(['hazardous'], dtype=object), array(['haze'], dtype=object), array(['hazy'], dtype=object), array(['head-aches'], dtype=object), array(['headache'], dtype=object), array(['headaches'], dtype=object), array(['heartbreaker'], dtype=object), array(['heartbreaking'], dtype=object), array(['heartbreakingly'], dtype=object), array(['heartless'], dtype=object), array(['heathen'], dtype=object), array(['heavy-handed'], dtype=object), array(['heavyhearted'], dtype=object), array(['heck'], dtype=object), array(['heckle'], dtype=object), array(['heckled'], dtype=object), array(['heckles'], dtype=object), array(['hectic'], dtype=object), array(['hedge'], dtype=object), array(['hedonistic'], dtype=object), array(['heedless'], dtype=object), array(['hefty'], dtype=object), array(['hegemonism'], dtype=object), array(['hegemonistic'], dtype=object), array(['hegemony'], dtype=object), array(['heinous'], dtype=object), array(['hell'], dtype=object), array(['hell-bent'], dtype=object), array(['hellion'], dtype=object), array(['hells'], dtype=object), array(['helpless'], dtype=object), array(['helplessly'], dtype=object), array(['helplessness'], dtype=object), array(['heresy'], dtype=object), array(['heretic'], dtype=object), array(['heretical'], dtype=object), array(['hesitant'], dtype=object), array(['hestitant'], dtype=object), array(['hideous'], dtype=object), array(['hideously'], dtype=object), array(['hideousness'], dtype=object), array(['high-priced'], dtype=object), array(['hiliarious'], dtype=object), array(['hinder'], dtype=object), array(['hindrance'], dtype=object), array(['hiss'], dtype=object), array(['hissed'], dtype=object), array(['hissing'], dtype=object), array(['ho-hum'], dtype=object), array(['hoard'], dtype=object), array(['hoax'], dtype=object), array(['hobble'], dtype=object), array(['hogs'], dtype=object), array(['hollow'], dtype=object), array(['hoodium'], dtype=object), array(['hoodwink'], dtype=object), array(['hooligan'], dtype=object), array(['hopeless'], dtype=object), array(['hopelessly'], dtype=object), array(['hopelessness'], dtype=object), array(['horde'], dtype=object), array(['horrendous'], dtype=object), array(['horrendously'], dtype=object), array(['horrible'], dtype=object), array(['horrid'], dtype=object), array(['horrific'], dtype=object), array(['horrified'], dtype=object), array(['horrifies'], dtype=object), array(['horrify'], dtype=object), array(['horrifying'], dtype=object), array(['horrifys'], dtype=object), array(['hostage'], dtype=object), array(['hostile'], dtype=object), array(['hostilities'], dtype=object), array(['hostility'], dtype=object), array(['hotbeds'], dtype=object), array(['hothead'], dtype=object), array(['hotheaded'], dtype=object), array(['hothouse'], dtype=object), array(['hubris'], dtype=object), array(['huckster'], dtype=object), array(['hum'], dtype=object), array(['humid'], dtype=object), array(['humiliate'], dtype=object), array(['humiliating'], dtype=object), array(['humiliation'], dtype=object), array(['humming'], dtype=object), array(['hung'], dtype=object), array(['hurt'], dtype=object), array(['hurted'], dtype=object), array(['hurtful'], dtype=object), array(['hurting'], dtype=object), array(['hurts'], dtype=object), array(['hustler'], dtype=object), array(['hype'], dtype=object), array(['hypocricy'], dtype=object), array(['hypocrisy'], dtype=object), array(['hypocrite'], dtype=object), array(['hypocrites'], dtype=object), array(['hypocritical'], dtype=object), array(['hypocritically'], dtype=object), array(['hysteria'], dtype=object), array(['hysteric'], dtype=object), array(['hysterical'], dtype=object), array(['hysterically'], dtype=object), array(['hysterics'], dtype=object), array(['idiocies'], dtype=object), array(['idiocy'], dtype=object), array(['idiot'], dtype=object), array(['idiotic'], dtype=object), array(['idiotically'], dtype=object), array(['idiots'], dtype=object), array(['idle'], dtype=object), array(['ignoble'], dtype=object), array(['ignominious'], dtype=object), array(['ignominiously'], dtype=object), array(['ignominy'], dtype=object), array(['ignorance'], dtype=object), array(['ignorant'], dtype=object), array(['ignore'], dtype=object), array(['ill-advised'], dtype=object), array(['ill-conceived'], dtype=object), array(['ill-defined'], dtype=object), array(['ill-designed'], dtype=object), array(['ill-fated'], dtype=object), array(['ill-favored'], dtype=object), array(['ill-formed'], dtype=object), array(['ill-mannered'], dtype=object), array(['ill-natured'], dtype=object), array(['ill-sorted'], dtype=object), array(['ill-tempered'], dtype=object), array(['ill-treated'], dtype=object), array(['ill-treatment'], dtype=object), array(['ill-usage'], dtype=object), array(['ill-used'], dtype=object), array(['illegal'], dtype=object), array(['illegally'], dtype=object), array(['illegitimate'], dtype=object), array(['illicit'], dtype=object), array(['illiterate'], dtype=object), array(['illness'], dtype=object), array(['illogic'], dtype=object), array(['illogical'], dtype=object), array(['illogically'], dtype=object), array(['illusion'], dtype=object), array(['illusions'], dtype=object), array(['illusory'], dtype=object), array(['imaginary'], dtype=object), array(['imbalance'], dtype=object), array(['imbecile'], dtype=object), array(['imbroglio'], dtype=object), array(['immaterial'], dtype=object), array(['immature'], dtype=object), array(['imminence'], dtype=object), array(['imminently'], dtype=object), array(['immobilized'], dtype=object), array(['immoderate'], dtype=object), array(['immoderately'], dtype=object), array(['immodest'], dtype=object), array(['immoral'], dtype=object), array(['immorality'], dtype=object), array(['immorally'], dtype=object), array(['immovable'], dtype=object), array(['impair'], dtype=object), array(['impaired'], dtype=object), array(['impasse'], dtype=object), array(['impatience'], dtype=object), array(['impatient'], dtype=object), array(['impatiently'], dtype=object), array(['impeach'], dtype=object), array(['impedance'], dtype=object), array(['impede'], dtype=object), array(['impediment'], dtype=object), array(['impending'], dtype=object), array(['impenitent'], dtype=object), array(['imperfect'], dtype=object), array(['imperfection'], dtype=object), array(['imperfections'], dtype=object), array(['imperfectly'], dtype=object), array(['imperialist'], dtype=object), array(['imperil'], dtype=object), array(['imperious'], dtype=object), array(['imperiously'], dtype=object), array(['impermissible'], dtype=object), array(['impersonal'], dtype=object), array(['impertinent'], dtype=object), array(['impetuous'], dtype=object), array(['impetuously'], dtype=object), array(['impiety'], dtype=object), array(['impinge'], dtype=object), array(['impious'], dtype=object), array(['implacable'], dtype=object), array(['implausible'], dtype=object), array(['implausibly'], dtype=object), array(['implicate'], dtype=object), array(['implication'], dtype=object), array(['implode'], dtype=object), array(['impolite'], dtype=object), array(['impolitely'], dtype=object), array(['impolitic'], dtype=object), array(['importunate'], dtype=object), array(['importune'], dtype=object), array(['impose'], dtype=object), array(['imposers'], dtype=object), array(['imposing'], dtype=object), array(['imposition'], dtype=object), array(['impossible'], dtype=object), array(['impossiblity'], dtype=object), array(['impossibly'], dtype=object), array(['impotent'], dtype=object), array(['impoverish'], dtype=object), array(['impoverished'], dtype=object), array(['impractical'], dtype=object), array(['imprecate'], dtype=object), array(['imprecise'], dtype=object), array(['imprecisely'], dtype=object), array(['imprecision'], dtype=object), array(['imprison'], dtype=object), array(['imprisonment'], dtype=object), array(['improbability'], dtype=object), array(['improbable'], dtype=object), array(['improbably'], dtype=object), array(['improper'], dtype=object), array(['improperly'], dtype=object), array(['impropriety'], dtype=object), array(['imprudence'], dtype=object), array(['imprudent'], dtype=object), array(['impudence'], dtype=object), array(['impudent'], dtype=object), array(['impudently'], dtype=object), array(['impugn'], dtype=object), array(['impulsive'], dtype=object), array(['impulsively'], dtype=object), array(['impunity'], dtype=object), array(['impure'], dtype=object), array(['impurity'], dtype=object), array(['inability'], dtype=object), array(['inaccuracies'], dtype=object), array(['inaccuracy'], dtype=object), array(['inaccurate'], dtype=object), array(['inaccurately'], dtype=object), array(['inaction'], dtype=object), array(['inactive'], dtype=object), array(['inadequacy'], dtype=object), array(['inadequate'], dtype=object), array(['inadequately'], dtype=object), array(['inadverent'], dtype=object), array(['inadverently'], dtype=object), array(['inadvisable'], dtype=object), array(['inadvisably'], dtype=object), array(['inane'], dtype=object), array(['inanely'], dtype=object), array(['inappropriate'], dtype=object), array(['inappropriately'], dtype=object), array(['inapt'], dtype=object), array(['inaptitude'], dtype=object), array(['inarticulate'], dtype=object), array(['inattentive'], dtype=object), array(['inaudible'], dtype=object), array(['incapable'], dtype=object), array(['incapably'], dtype=object), array(['incautious'], dtype=object), array(['incendiary'], dtype=object), array(['incense'], dtype=object), array(['incessant'], dtype=object), array(['incessantly'], dtype=object), array(['incite'], dtype=object), array(['incitement'], dtype=object), array(['incivility'], dtype=object), array(['inclement'], dtype=object), array(['incognizant'], dtype=object), array(['incoherence'], dtype=object), array(['incoherent'], dtype=object), array(['incoherently'], dtype=object), array(['incommensurate'], dtype=object), array(['incomparable'], dtype=object), array(['incomparably'], dtype=object), array(['incompatability'], dtype=object), array(['incompatibility'], dtype=object), array(['incompatible'], dtype=object), array(['incompetence'], dtype=object), array(['incompetent'], dtype=object), array(['incompetently'], dtype=object), array(['incomplete'], dtype=object), array(['incompliant'], dtype=object), array(['incomprehensible'], dtype=object), array(['incomprehension'], dtype=object), array(['inconceivable'], dtype=object), array(['inconceivably'], dtype=object), array(['incongruous'], dtype=object), array(['incongruously'], dtype=object), array(['inconsequent'], dtype=object), array(['inconsequential'], dtype=object), array(['inconsequentially'], dtype=object), array(['inconsequently'], dtype=object), array(['inconsiderate'], dtype=object), array(['inconsiderately'], dtype=object), array(['inconsistence'], dtype=object), array(['inconsistencies'], dtype=object), array(['inconsistency'], dtype=object), array(['inconsistent'], dtype=object), array(['inconsolable'], dtype=object), array(['inconsolably'], dtype=object), array(['inconstant'], dtype=object), array(['inconvenience'], dtype=object), array(['inconveniently'], dtype=object), array(['incorrect'], dtype=object), array(['incorrectly'], dtype=object), array(['incorrigible'], dtype=object), array(['incorrigibly'], dtype=object), array(['incredulous'], dtype=object), array(['incredulously'], dtype=object), array(['inculcate'], dtype=object), array(['indecency'], dtype=object), array(['indecent'], dtype=object), array(['indecently'], dtype=object), array(['indecision'], dtype=object), array(['indecisive'], dtype=object), array(['indecisively'], dtype=object), array(['indecorum'], dtype=object), array(['indefensible'], dtype=object), array(['indelicate'], dtype=object), array(['indeterminable'], dtype=object), array(['indeterminably'], dtype=object), array(['indeterminate'], dtype=object), array(['indifference'], dtype=object), array(['indifferent'], dtype=object), array(['indigent'], dtype=object), array(['indignant'], dtype=object), array(['indignantly'], dtype=object), array(['indignation'], dtype=object), array(['indignity'], dtype=object), array(['indiscernible'], dtype=object), array(['indiscreet'], dtype=object), array(['indiscreetly'], dtype=object), array(['indiscretion'], dtype=object), array(['indiscriminate'], dtype=object), array(['indiscriminately'], dtype=object), array(['indiscriminating'], dtype=object), array(['indistinguishable'], dtype=object), array(['indoctrinate'], dtype=object), array(['indoctrination'], dtype=object), array(['indolent'], dtype=object), array(['indulge'], dtype=object), array(['ineffective'], dtype=object), array(['ineffectively'], dtype=object), array(['ineffectiveness'], dtype=object), array(['ineffectual'], dtype=object), array(['ineffectually'], dtype=object), array(['ineffectualness'], dtype=object), array(['inefficacious'], dtype=object), array(['inefficacy'], dtype=object), array(['inefficiency'], dtype=object), array(['inefficient'], dtype=object), array(['inefficiently'], dtype=object), array(['inelegance'], dtype=object), array(['inelegant'], dtype=object), array(['ineligible'], dtype=object), array(['ineloquent'], dtype=object), array(['ineloquently'], dtype=object), array(['inept'], dtype=object), array(['ineptitude'], dtype=object), array(['ineptly'], dtype=object), array(['inequalities'], dtype=object), array(['inequality'], dtype=object), array(['inequitable'], dtype=object), array(['inequitably'], dtype=object), array(['inequities'], dtype=object), array(['inescapable'], dtype=object), array(['inescapably'], dtype=object), array(['inessential'], dtype=object), array(['inevitable'], dtype=object), array(['inevitably'], dtype=object), array(['inexcusable'], dtype=object), array(['inexcusably'], dtype=object), array(['inexorable'], dtype=object), array(['inexorably'], dtype=object), array(['inexperience'], dtype=object), array(['inexperienced'], dtype=object), array(['inexpert'], dtype=object), array(['inexpertly'], dtype=object), array(['inexpiable'], dtype=object), array(['inexplainable'], dtype=object), array(['inextricable'], dtype=object), array(['inextricably'], dtype=object), array(['infamous'], dtype=object), array(['infamously'], dtype=object), array(['infamy'], dtype=object), array(['infected'], dtype=object), array(['infection'], dtype=object), array(['infections'], dtype=object), array(['inferior'], dtype=object), array(['inferiority'], dtype=object), array(['infernal'], dtype=object), array(['infest'], dtype=object), array(['infested'], dtype=object), array(['infidel'], dtype=object), array(['infidels'], dtype=object), array(['infiltrator'], dtype=object), array(['infiltrators'], dtype=object), array(['infirm'], dtype=object), array(['inflame'], dtype=object), array(['inflammation'], dtype=object), array(['inflammatory'], dtype=object), array(['inflammed'], dtype=object), array(['inflated'], dtype=object), array(['inflationary'], dtype=object), array(['inflexible'], dtype=object), array(['inflict'], dtype=object), array(['infraction'], dtype=object), array(['infringe'], dtype=object), array(['infringement'], dtype=object), array(['infringements'], dtype=object), array(['infuriate'], dtype=object), array(['infuriated'], dtype=object), array(['infuriating'], dtype=object), array(['infuriatingly'], dtype=object), array(['inglorious'], dtype=object), array(['ingrate'], dtype=object), array(['ingratitude'], dtype=object), array(['inhibit'], dtype=object), array(['inhibition'], dtype=object), array(['inhospitable'], dtype=object), array(['inhospitality'], dtype=object), array(['inhuman'], dtype=object), array(['inhumane'], dtype=object), array(['inhumanity'], dtype=object), array(['inimical'], dtype=object), array(['inimically'], dtype=object), array(['iniquitous'], dtype=object), array(['iniquity'], dtype=object), array(['injudicious'], dtype=object), array(['injure'], dtype=object), array(['injurious'], dtype=object), array(['injury'], dtype=object), array(['injustice'], dtype=object), array(['injustices'], dtype=object), array(['innuendo'], dtype=object), array(['inoperable'], dtype=object), array(['inopportune'], dtype=object), array(['inordinate'], dtype=object), array(['inordinately'], dtype=object), array(['insane'], dtype=object), array(['insanely'], dtype=object), array(['insanity'], dtype=object), array(['insatiable'], dtype=object), array(['insecure'], dtype=object), array(['insecurity'], dtype=object), array(['insensible'], dtype=object), array(['insensitive'], dtype=object), array(['insensitively'], dtype=object), array(['insensitivity'], dtype=object), array(['insidious'], dtype=object), array(['insidiously'], dtype=object), array(['insignificance'], dtype=object), array(['insignificant'], dtype=object), array(['insignificantly'], dtype=object), array(['insincere'], dtype=object), array(['insincerely'], dtype=object), array(['insincerity'], dtype=object), array(['insinuate'], dtype=object), array(['insinuating'], dtype=object), array(['insinuation'], dtype=object), array(['insociable'], dtype=object), array(['insolence'], dtype=object), array(['insolent'], dtype=object), array(['insolently'], dtype=object), array(['insolvent'], dtype=object), array(['insouciance'], dtype=object), array(['instability'], dtype=object), array(['instable'], dtype=object), array(['instigate'], dtype=object), array(['instigator'], dtype=object), array(['instigators'], dtype=object), array(['insubordinate'], dtype=object), array(['insubstantial'], dtype=object), array(['insubstantially'], dtype=object), array(['insufferable'], dtype=object), array(['insufferably'], dtype=object), array(['insufficiency'], dtype=object), array(['insufficient'], dtype=object), array(['insufficiently'], dtype=object), array(['insular'], dtype=object), array(['insult'], dtype=object), array(['insulted'], dtype=object), array(['insulting'], dtype=object), array(['insultingly'], dtype=object), array(['insults'], dtype=object), array(['insupportable'], dtype=object), array(['insupportably'], dtype=object), array(['insurmountable'], dtype=object), array(['insurmountably'], dtype=object), array(['insurrection'], dtype=object), array(['intefere'], dtype=object), array(['inteferes'], dtype=object), array(['intense'], dtype=object), array(['interfere'], dtype=object), array(['interference'], dtype=object), array(['interferes'], dtype=object), array(['intermittent'], dtype=object), array(['interrupt'], dtype=object), array(['interruption'], dtype=object), array(['interruptions'], dtype=object), array(['intimidate'], dtype=object), array(['intimidating'], dtype=object), array(['intimidatingly'], dtype=object), array(['intimidation'], dtype=object), array(['intolerable'], dtype=object), array(['intolerablely'], dtype=object), array(['intolerance'], dtype=object), array(['intoxicate'], dtype=object), array(['intractable'], dtype=object), array(['intransigence'], dtype=object), array(['intransigent'], dtype=object), array(['intrude'], dtype=object), array(['intrusion'], dtype=object), array(['intrusive'], dtype=object), array(['inundate'], dtype=object), array(['inundated'], dtype=object), array(['invader'], dtype=object), array(['invalid'], dtype=object), array(['invalidate'], dtype=object), array(['invalidity'], dtype=object), array(['invasive'], dtype=object), array(['invective'], dtype=object), array(['inveigle'], dtype=object), array(['invidious'], dtype=object), array(['invidiously'], dtype=object), array(['invidiousness'], dtype=object), array(['invisible'], dtype=object), array(['involuntarily'], dtype=object), array(['involuntary'], dtype=object), array(['irascible'], dtype=object), array(['irate'], dtype=object), array(['irately'], dtype=object), array(['ire'], dtype=object), array(['irk'], dtype=object), array(['irked'], dtype=object), array(['irking'], dtype=object), array(['irks'], dtype=object), array(['irksome'], dtype=object), array(['irksomely'], dtype=object), array(['irksomeness'], dtype=object), array(['irksomenesses'], dtype=object), array(['ironic'], dtype=object), array(['ironical'], dtype=object), array(['ironically'], dtype=object), array(['ironies'], dtype=object), array(['irony'], dtype=object), array(['irragularity'], dtype=object), array(['irrational'], dtype=object), array(['irrationalities'], dtype=object), array(['irrationality'], dtype=object), array(['irrationally'], dtype=object), array(['irrationals'], dtype=object), array(['irreconcilable'], dtype=object), array(['irrecoverable'], dtype=object), array(['irrecoverableness'], dtype=object), array(['irrecoverablenesses'], dtype=object), array(['irrecoverably'], dtype=object), array(['irredeemable'], dtype=object), array(['irredeemably'], dtype=object), array(['irreformable'], dtype=object), array(['irregular'], dtype=object), array(['irregularity'], dtype=object), array(['irrelevance'], dtype=object), array(['irrelevant'], dtype=object), array(['irreparable'], dtype=object), array(['irreplacible'], dtype=object), array(['irrepressible'], dtype=object), array(['irresolute'], dtype=object), array(['irresolvable'], dtype=object), array(['irresponsible'], dtype=object), array(['irresponsibly'], dtype=object), array(['irretating'], dtype=object), array(['irretrievable'], dtype=object), array(['irreversible'], dtype=object), array(['irritable'], dtype=object), array(['irritably'], dtype=object), array(['irritant'], dtype=object), array(['irritate'], dtype=object), array(['irritated'], dtype=object), array(['irritating'], dtype=object), array(['irritation'], dtype=object), array(['irritations'], dtype=object), array(['isolate'], dtype=object), array(['isolated'], dtype=object), array(['isolation'], dtype=object), array(['issue'], dtype=object), array(['issues'], dtype=object), array(['itch'], dtype=object), array(['itching'], dtype=object), array(['itchy'], dtype=object), array(['jabber'], dtype=object), array(['jaded'], dtype=object), array(['jagged'], dtype=object), array(['jam'], dtype=object), array(['jarring'], dtype=object), array(['jaundiced'], dtype=object), array(['jealous'], dtype=object), array(['jealously'], dtype=object), array(['jealousness'], dtype=object), array(['jealousy'], dtype=object), array(['jeer'], dtype=object), array(['jeering'], dtype=object), array(['jeeringly'], dtype=object), array(['jeers'], dtype=object), array(['jeopardize'], dtype=object), array(['jeopardy'], dtype=object), array(['jerk'], dtype=object), array(['jerky'], dtype=object), array(['jitter'], dtype=object), array(['jitters'], dtype=object), array(['jittery'], dtype=object), array(['job-killing'], dtype=object), array(['jobless'], dtype=object), array(['joke'], dtype=object), array(['joker'], dtype=object), array(['jolt'], dtype=object), array(['judder'], dtype=object), array(['juddering'], dtype=object), array(['judders'], dtype=object), array(['jumpy'], dtype=object), array(['junk'], dtype=object), array(['junky'], dtype=object), array(['junkyard'], dtype=object), array(['jutter'], dtype=object), array(['jutters'], dtype=object), array(['kaput'], dtype=object), array(['kill'], dtype=object), array(['killed'], dtype=object), array(['killer'], dtype=object), array(['killing'], dtype=object), array(['killjoy'], dtype=object), array(['kills'], dtype=object), array(['knave'], dtype=object), array(['knife'], dtype=object), array(['knock'], dtype=object), array(['knotted'], dtype=object), array(['kook'], dtype=object), array(['kooky'], dtype=object), array(['lack'], dtype=object), array(['lackadaisical'], dtype=object), array(['lacked'], dtype=object), array(['lackey'], dtype=object), array(['lackeys'], dtype=object), array(['lacking'], dtype=object), array(['lackluster'], dtype=object), array(['lacks'], dtype=object), array(['laconic'], dtype=object), array(['lag'], dtype=object), array(['lagged'], dtype=object), array(['lagging'], dtype=object), array(['laggy'], dtype=object), array(['lags'], dtype=object), array(['laid-off'], dtype=object), array(['lambast'], dtype=object), array(['lambaste'], dtype=object), array(['lame'], dtype=object), array(['lame-duck'], dtype=object), array(['lament'], dtype=object), array(['lamentable'], dtype=object), array(['lamentably'], dtype=object), array(['languid'], dtype=object), array(['languish'], dtype=object), array(['languor'], dtype=object), array(['languorous'], dtype=object), array(['languorously'], dtype=object), array(['lanky'], dtype=object), array(['lapse'], dtype=object), array(['lapsed'], dtype=object), array(['lapses'], dtype=object), array(['lascivious'], dtype=object), array(['last-ditch'], dtype=object), array(['latency'], dtype=object), array(['laughable'], dtype=object), array(['laughably'], dtype=object), array(['laughingstock'], dtype=object), array(['lawbreaker'], dtype=object), array(['lawbreaking'], dtype=object), array(['lawless'], dtype=object), array(['lawlessness'], dtype=object), array(['layoff'], dtype=object), array(['layoff-happy'], dtype=object), array(['lazy'], dtype=object), array(['leak'], dtype=object), array(['leakage'], dtype=object), array(['leakages'], dtype=object), array(['leaking'], dtype=object), array(['leaks'], dtype=object), array(['leaky'], dtype=object), array(['lech'], dtype=object), array(['lecher'], dtype=object), array(['lecherous'], dtype=object), array(['lechery'], dtype=object), array(['leech'], dtype=object), array(['leer'], dtype=object), array(['leery'], dtype=object), array(['left-leaning'], dtype=object), array(['lemon'], dtype=object), array(['lengthy'], dtype=object), array(['less-developed'], dtype=object), array(['lesser-known'], dtype=object), array(['letch'], dtype=object), array(['lethal'], dtype=object), array(['lethargic'], dtype=object), array(['lethargy'], dtype=object), array(['lewd'], dtype=object), array(['lewdly'], dtype=object), array(['lewdness'], dtype=object), array(['liability'], dtype=object), array(['liable'], dtype=object), array(['liar'], dtype=object), array(['liars'], dtype=object), array(['licentious'], dtype=object), array(['licentiously'], dtype=object), array(['licentiousness'], dtype=object), array(['lie'], dtype=object), array(['lied'], dtype=object), array(['lier'], dtype=object), array(['lies'], dtype=object), array(['life-threatening'], dtype=object), array(['lifeless'], dtype=object), array(['limit'], dtype=object), array(['limitation'], dtype=object), array(['limitations'], dtype=object), array(['limited'], dtype=object), array(['limits'], dtype=object), array(['limp'], dtype=object), array(['listless'], dtype=object), array(['litigious'], dtype=object), array(['little-known'], dtype=object), array(['livid'], dtype=object), array(['lividly'], dtype=object), array(['loath'], dtype=object), array(['loathe'], dtype=object), array(['loathing'], dtype=object), array(['loathly'], dtype=object), array(['loathsome'], dtype=object), array(['loathsomely'], dtype=object), array(['lone'], dtype=object), array(['loneliness'], dtype=object), array(['lonely'], dtype=object), array(['loner'], dtype=object), array(['lonesome'], dtype=object), array(['long-time'], dtype=object), array(['long-winded'], dtype=object), array(['longing'], dtype=object), array(['longingly'], dtype=object), array(['loophole'], dtype=object), array(['loopholes'], dtype=object), array(['loose'], dtype=object), array(['loot'], dtype=object), array(['lorn'], dtype=object), array(['lose'], dtype=object), array(['loser'], dtype=object), array(['losers'], dtype=object), array(['loses'], dtype=object), array(['losing'], dtype=object), array(['loss'], dtype=object), array(['losses'], dtype=object), array(['lost'], dtype=object), array(['loud'], dtype=object), array(['louder'], dtype=object), array(['lousy'], dtype=object), array(['loveless'], dtype=object), array(['lovelorn'], dtype=object), array(['low-rated'], dtype=object), array(['lowly'], dtype=object), array(['ludicrous'], dtype=object), array(['ludicrously'], dtype=object), array(['lugubrious'], dtype=object), array(['lukewarm'], dtype=object), array(['lull'], dtype=object), array(['lumpy'], dtype=object), array(['lunatic'], dtype=object), array(['lunaticism'], dtype=object), array(['lurch'], dtype=object), array(['lure'], dtype=object), array(['lurid'], dtype=object), array(['lurk'], dtype=object), array(['lurking'], dtype=object), array(['lying'], dtype=object), array(['macabre'], dtype=object), array(['mad'], dtype=object), array(['madden'], dtype=object), array(['maddening'], dtype=object), array(['maddeningly'], dtype=object), array(['madder'], dtype=object), array(['madly'], dtype=object), array(['madman'], dtype=object), array(['madness'], dtype=object), array(['maladjusted'], dtype=object), array(['maladjustment'], dtype=object), array(['malady'], dtype=object), array(['malaise'], dtype=object), array(['malcontent'], dtype=object), array(['malcontented'], dtype=object), array(['maledict'], dtype=object), array(['malevolence'], dtype=object), array(['malevolent'], dtype=object), array(['malevolently'], dtype=object), array(['malice'], dtype=object), array(['malicious'], dtype=object), array(['maliciously'], dtype=object), array(['maliciousness'], dtype=object), array(['malign'], dtype=object), array(['malignant'], dtype=object), array(['malodorous'], dtype=object), array(['maltreatment'], dtype=object), array(['mangle'], dtype=object), array(['mangled'], dtype=object), array(['mangles'], dtype=object), array(['mangling'], dtype=object), array(['mania'], dtype=object), array(['maniac'], dtype=object), array(['maniacal'], dtype=object), array(['manic'], dtype=object), array(['manipulate'], dtype=object), array(['manipulation'], dtype=object), array(['manipulative'], dtype=object), array(['manipulators'], dtype=object), array(['mar'], dtype=object), array(['marginal'], dtype=object), array(['marginally'], dtype=object), array(['martyrdom'], dtype=object), array(['martyrdom-seeking'], dtype=object), array(['mashed'], dtype=object), array(['massacre'], dtype=object), array(['massacres'], dtype=object), array(['matte'], dtype=object), array(['mawkish'], dtype=object), array(['mawkishly'], dtype=object), array(['mawkishness'], dtype=object), array(['meager'], dtype=object), array(['meaningless'], dtype=object), array(['meanness'], dtype=object), array(['measly'], dtype=object), array(['meddle'], dtype=object), array(['meddlesome'], dtype=object), array(['mediocre'], dtype=object), array(['mediocrity'], dtype=object), array(['melancholy'], dtype=object), array(['melodramatic'], dtype=object), array(['melodramatically'], dtype=object), array(['meltdown'], dtype=object), array(['menace'], dtype=object), array(['menacing'], dtype=object), array(['menacingly'], dtype=object), array(['mendacious'], dtype=object), array(['mendacity'], dtype=object), array(['menial'], dtype=object), array(['merciless'], dtype=object), array(['mercilessly'], dtype=object), array(['mess'], dtype=object), array(['messed'], dtype=object), array(['messes'], dtype=object), array(['messing'], dtype=object), array(['messy'], dtype=object), array(['midget'], dtype=object), array(['miff'], dtype=object), array(['militancy'], dtype=object), array(['mindless'], dtype=object), array(['mindlessly'], dtype=object), array(['mirage'], dtype=object), array(['mire'], dtype=object), array(['misalign'], dtype=object), array(['misaligned'], dtype=object), array(['misaligns'], dtype=object), array(['misapprehend'], dtype=object), array(['misbecome'], dtype=object), array(['misbecoming'], dtype=object), array(['misbegotten'], dtype=object), array(['misbehave'], dtype=object), array(['misbehavior'], dtype=object), array(['miscalculate'], dtype=object), array(['miscalculation'], dtype=object), array(['miscellaneous'], dtype=object), array(['mischief'], dtype=object), array(['mischievous'], dtype=object), array(['mischievously'], dtype=object), array(['misconception'], dtype=object), array(['misconceptions'], dtype=object), array(['miscreant'], dtype=object), array(['miscreants'], dtype=object), array(['misdirection'], dtype=object), array(['miser'], dtype=object), array(['miserable'], dtype=object), array(['miserableness'], dtype=object), array(['miserably'], dtype=object), array(['miseries'], dtype=object), array(['miserly'], dtype=object), array(['misery'], dtype=object), array(['misfit'], dtype=object), array(['misfortune'], dtype=object), array(['misgiving'], dtype=object), array(['misgivings'], dtype=object), array(['misguidance'], dtype=object), array(['misguide'], dtype=object), array(['misguided'], dtype=object), array(['mishandle'], dtype=object), array(['mishap'], dtype=object), array(['misinform'], dtype=object), array(['misinformed'], dtype=object), array(['misinterpret'], dtype=object), array(['misjudge'], dtype=object), array(['misjudgment'], dtype=object), array(['mislead'], dtype=object), array(['misleading'], dtype=object), array(['misleadingly'], dtype=object), array(['mislike'], dtype=object), array(['mismanage'], dtype=object), array(['mispronounce'], dtype=object), array(['mispronounced'], dtype=object), array(['mispronounces'], dtype=object), array(['misread'], dtype=object), array(['misreading'], dtype=object), array(['misrepresent'], dtype=object), array(['misrepresentation'], dtype=object), array(['miss'], dtype=object), array(['missed'], dtype=object), array(['misses'], dtype=object), array(['misstatement'], dtype=object), array(['mist'], dtype=object), array(['mistake'], dtype=object), array(['mistaken'], dtype=object), array(['mistakenly'], dtype=object), array(['mistakes'], dtype=object), array(['mistified'], dtype=object), array(['mistress'], dtype=object), array(['mistrust'], dtype=object), array(['mistrustful'], dtype=object), array(['mistrustfully'], dtype=object), array(['mists'], dtype=object), array(['misunderstand'], dtype=object), array(['misunderstanding'], dtype=object), array(['misunderstandings'], dtype=object), array(['misunderstood'], dtype=object), array(['misuse'], dtype=object), array(['moan'], dtype=object), array(['mobster'], dtype=object), array(['mock'], dtype=object), array(['mocked'], dtype=object), array(['mockeries'], dtype=object), array(['mockery'], dtype=object), array(['mocking'], dtype=object), array(['mockingly'], dtype=object), array(['mocks'], dtype=object), array(['molest'], dtype=object), array(['molestation'], dtype=object), array(['monotonous'], dtype=object), array(['monotony'], dtype=object), array(['monster'], dtype=object), array(['monstrosities'], dtype=object), array(['monstrosity'], dtype=object), array(['monstrous'], dtype=object), array(['monstrously'], dtype=object), array(['moody'], dtype=object), array(['moot'], dtype=object), array(['mope'], dtype=object), array(['morbid'], dtype=object), array(['morbidly'], dtype=object), array(['mordant'], dtype=object), array(['mordantly'], dtype=object), array(['moribund'], dtype=object), array(['moron'], dtype=object), array(['moronic'], dtype=object), array(['morons'], dtype=object), array(['mortification'], dtype=object), array(['mortified'], dtype=object), array(['mortify'], dtype=object), array(['mortifying'], dtype=object), array(['motionless'], dtype=object), array(['motley'], dtype=object), array(['mourn'], dtype=object), array(['mourner'], dtype=object), array(['mournful'], dtype=object), array(['mournfully'], dtype=object), array(['muddle'], dtype=object), array(['muddy'], dtype=object), array(['mudslinger'], dtype=object), array(['mudslinging'], dtype=object), array(['mulish'], dtype=object), array(['multi-polarization'], dtype=object), array(['mundane'], dtype=object), array(['murder'], dtype=object), array(['murderer'], dtype=object), array(['murderous'], dtype=object), array(['murderously'], dtype=object), array(['murky'], dtype=object), array(['muscle-flexing'], dtype=object), array(['mushy'], dtype=object), array(['musty'], dtype=object), array(['mysterious'], dtype=object), array(['mysteriously'], dtype=object), array(['mystery'], dtype=object), array(['mystify'], dtype=object), array(['myth'], dtype=object), array(['nag'], dtype=object), array(['nagging'], dtype=object), array(['naive'], dtype=object), array(['naively'], dtype=object), array(['narrower'], dtype=object), array(['nastily'], dtype=object), array(['nastiness'], dtype=object), array(['nasty'], dtype=object), array(['naughty'], dtype=object), array(['nauseate'], dtype=object), array(['nauseates'], dtype=object), array(['nauseating'], dtype=object), array(['nauseatingly'], dtype=object), array(['naïve'], dtype=object), array(['nebulous'], dtype=object), array(['nebulously'], dtype=object), array(['needless'], dtype=object), array(['needlessly'], dtype=object), array(['needy'], dtype=object), array(['nefarious'], dtype=object), array(['nefariously'], dtype=object), array(['negate'], dtype=object), array(['negation'], dtype=object), array(['negative'], dtype=object), array(['negatives'], dtype=object), array(['negativity'], dtype=object), array(['neglect'], dtype=object), array(['neglected'], dtype=object), array(['negligence'], dtype=object), array(['negligent'], dtype=object), array(['nemesis'], dtype=object), array(['nepotism'], dtype=object), array(['nervous'], dtype=object), array(['nervously'], dtype=object), array(['nervousness'], dtype=object), array(['nettle'], dtype=object), array(['nettlesome'], dtype=object), array(['neurotic'], dtype=object), array(['neurotically'], dtype=object), array(['niggle'], dtype=object), array(['niggles'], dtype=object), array(['nightmare'], dtype=object), array(['nightmarish'], dtype=object), array(['nightmarishly'], dtype=object), array(['nitpick'], dtype=object), array(['nitpicking'], dtype=object), array(['noise'], dtype=object), array(['noises'], dtype=object), array(['noisier'], dtype=object), array(['noisy'], dtype=object), array(['non-confidence'], dtype=object), array(['nonexistent'], dtype=object), array(['nonresponsive'], dtype=object), array(['nonsense'], dtype=object), array(['nosey'], dtype=object), array(['notoriety'], dtype=object), array(['notorious'], dtype=object), array(['notoriously'], dtype=object), array(['noxious'], dtype=object), array(['nuisance'], dtype=object), array(['numb'], dtype=object), array(['obese'], dtype=object), array(['object'], dtype=object), array(['objection'], dtype=object), array(['objectionable'], dtype=object), array(['objections'], dtype=object), array(['oblique'], dtype=object), array(['obliterate'], dtype=object), array(['obliterated'], dtype=object), array(['oblivious'], dtype=object), array(['obnoxious'], dtype=object), array(['obnoxiously'], dtype=object), array(['obscene'], dtype=object), array(['obscenely'], dtype=object), array(['obscenity'], dtype=object), array(['obscure'], dtype=object), array(['obscured'], dtype=object), array(['obscures'], dtype=object), array(['obscurity'], dtype=object), array(['obsess'], dtype=object), array(['obsessive'], dtype=object), array(['obsessively'], dtype=object), array(['obsessiveness'], dtype=object), array(['obsolete'], dtype=object), array(['obstacle'], dtype=object), array(['obstinate'], dtype=object), array(['obstinately'], dtype=object), array(['obstruct'], dtype=object), array(['obstructed'], dtype=object), array(['obstructing'], dtype=object), array(['obstruction'], dtype=object), array(['obstructs'], dtype=object), array(['obtrusive'], dtype=object), array(['obtuse'], dtype=object), array(['occlude'], dtype=object), array(['occluded'], dtype=object), array(['occludes'], dtype=object), array(['occluding'], dtype=object), array(['odd'], dtype=object), array(['odder'], dtype=object), array(['oddest'], dtype=object), array(['oddities'], dtype=object), array(['oddity'], dtype=object), array(['oddly'], dtype=object), array(['odor'], dtype=object), array(['offence'], dtype=object), array(['offend'], dtype=object), array(['offender'], dtype=object), array(['offending'], dtype=object), array(['offenses'], dtype=object), array(['offensive'], dtype=object), array(['offensively'], dtype=object), array(['offensiveness'], dtype=object), array(['officious'], dtype=object), array(['ominous'], dtype=object), array(['ominously'], dtype=object), array(['omission'], dtype=object), array(['omit'], dtype=object), array(['one-sided'], dtype=object), array(['onerous'], dtype=object), array(['onerously'], dtype=object), array(['onslaught'], dtype=object), array(['opinionated'], dtype=object), array(['opponent'], dtype=object), array(['opportunistic'], dtype=object), array(['oppose'], dtype=object), array(['opposition'], dtype=object), array(['oppositions'], dtype=object), array(['oppress'], dtype=object), array(['oppression'], dtype=object), array(['oppressive'], dtype=object), array(['oppressively'], dtype=object), array(['oppressiveness'], dtype=object), array(['oppressors'], dtype=object), array(['ordeal'], dtype=object), array(['orphan'], dtype=object), array(['ostracize'], dtype=object), array(['outbreak'], dtype=object), array(['outburst'], dtype=object), array(['outbursts'], dtype=object), array(['outcast'], dtype=object), array(['outcry'], dtype=object), array(['outlaw'], dtype=object), array(['outmoded'], dtype=object), array(['outrage'], dtype=object), array(['outraged'], dtype=object), array(['outrageous'], dtype=object), array(['outrageously'], dtype=object), array(['outrageousness'], dtype=object), array(['outrages'], dtype=object), array(['outsider'], dtype=object), array(['over-acted'], dtype=object), array(['over-awe'], dtype=object), array(['over-balanced'], dtype=object), array(['over-hyped'], dtype=object), array(['over-priced'], dtype=object), array(['over-valuation'], dtype=object), array(['overact'], dtype=object), array(['overacted'], dtype=object), array(['overawe'], dtype=object), array(['overbalance'], dtype=object), array(['overbalanced'], dtype=object), array(['overbearing'], dtype=object), array(['overbearingly'], dtype=object), array(['overblown'], dtype=object), array(['overdo'], dtype=object), array(['overdone'], dtype=object), array(['overdue'], dtype=object), array(['overemphasize'], dtype=object), array(['overheat'], dtype=object), array(['overkill'], dtype=object), array(['overloaded'], dtype=object), array(['overlook'], dtype=object), array(['overpaid'], dtype=object), array(['overpayed'], dtype=object), array(['overplay'], dtype=object), array(['overpower'], dtype=object), array(['overpriced'], dtype=object), array(['overrated'], dtype=object), array(['overreach'], dtype=object), array(['overrun'], dtype=object), array(['overshadow'], dtype=object), array(['oversight'], dtype=object), array(['oversights'], dtype=object), array(['oversimplification'], dtype=object), array(['oversimplified'], dtype=object), array(['oversimplify'], dtype=object), array(['oversize'], dtype=object), array(['overstate'], dtype=object), array(['overstated'], dtype=object), array(['overstatement'], dtype=object), array(['overstatements'], dtype=object), array(['overstates'], dtype=object), array(['overtaxed'], dtype=object), array(['overthrow'], dtype=object), array(['overthrows'], dtype=object), array(['overturn'], dtype=object), array(['overweight'], dtype=object), array(['overwhelm'], dtype=object), array(['overwhelmed'], dtype=object), array(['overwhelming'], dtype=object), array(['overwhelmingly'], dtype=object), array(['overwhelms'], dtype=object), array(['overzealous'], dtype=object), array(['overzealously'], dtype=object), array(['overzelous'], dtype=object), array(['pain'], dtype=object), array(['painful'], dtype=object), array(['painfull'], dtype=object), array(['painfully'], dtype=object), array(['pains'], dtype=object), array(['pale'], dtype=object), array(['pales'], dtype=object), array(['paltry'], dtype=object), array(['pan'], dtype=object), array(['pandemonium'], dtype=object), array(['pander'], dtype=object), array(['pandering'], dtype=object), array(['panders'], dtype=object), array(['panic'], dtype=object), array(['panick'], dtype=object), array(['panicked'], dtype=object), array(['panicking'], dtype=object), array(['panicky'], dtype=object), array(['paradoxical'], dtype=object), array(['paradoxically'], dtype=object), array(['paralize'], dtype=object), array(['paralyzed'], dtype=object), array(['paranoia'], dtype=object), array(['paranoid'], dtype=object), array(['parasite'], dtype=object), array(['pariah'], dtype=object), array(['parody'], dtype=object), array(['partiality'], dtype=object), array(['partisan'], dtype=object), array(['partisans'], dtype=object), array(['passe'], dtype=object), array(['passive'], dtype=object), array(['passiveness'], dtype=object), array(['pathetic'], dtype=object), array(['pathetically'], dtype=object), array(['patronize'], dtype=object), array(['paucity'], dtype=object), array(['pauper'], dtype=object), array(['paupers'], dtype=object), array(['payback'], dtype=object), array(['peculiar'], dtype=object), array(['peculiarly'], dtype=object), array(['pedantic'], dtype=object), array(['peeled'], dtype=object), array(['peeve'], dtype=object), array(['peeved'], dtype=object), array(['peevish'], dtype=object), array(['peevishly'], dtype=object), array(['penalize'], dtype=object), array(['penalty'], dtype=object), array(['perfidious'], dtype=object), array(['perfidity'], dtype=object), array(['perfunctory'], dtype=object), array(['peril'], dtype=object), array(['perilous'], dtype=object), array(['perilously'], dtype=object), array(['perish'], dtype=object), array(['pernicious'], dtype=object), array(['perplex'], dtype=object), array(['perplexed'], dtype=object), array(['perplexing'], dtype=object), array(['perplexity'], dtype=object), array(['persecute'], dtype=object), array(['persecution'], dtype=object), array(['pertinacious'], dtype=object), array(['pertinaciously'], dtype=object), array(['pertinacity'], dtype=object), array(['perturb'], dtype=object), array(['perturbed'], dtype=object), array(['pervasive'], dtype=object), array(['perverse'], dtype=object), array(['perversely'], dtype=object), array(['perversion'], dtype=object), array(['perversity'], dtype=object), array(['pervert'], dtype=object), array(['perverted'], dtype=object), array(['perverts'], dtype=object), array(['pessimism'], dtype=object), array(['pessimistic'], dtype=object), array(['pessimistically'], dtype=object), array(['pest'], dtype=object), array(['pestilent'], dtype=object), array(['petrified'], dtype=object), array(['petrify'], dtype=object), array(['pettifog'], dtype=object), array(['petty'], dtype=object), array(['phobia'], dtype=object), array(['phobic'], dtype=object), array(['phony'], dtype=object), array(['picket'], dtype=object), array(['picketed'], dtype=object), array(['picketing'], dtype=object), array(['pickets'], dtype=object), array(['picky'], dtype=object), array(['pig'], dtype=object), array(['pigs'], dtype=object), array(['pillage'], dtype=object), array(['pillory'], dtype=object), array(['pimple'], dtype=object), array(['pinch'], dtype=object), array(['pique'], dtype=object), array(['pitiable'], dtype=object), array(['pitiful'], dtype=object), array(['pitifully'], dtype=object), array(['pitiless'], dtype=object), array(['pitilessly'], dtype=object), array(['pittance'], dtype=object), array(['pity'], dtype=object), array(['plagiarize'], dtype=object), array(['plague'], dtype=object), array(['plasticky'], dtype=object), array(['plaything'], dtype=object), array(['plea'], dtype=object), array(['pleas'], dtype=object), array(['plebeian'], dtype=object), array(['plight'], dtype=object), array(['plot'], dtype=object), array(['plotters'], dtype=object), array(['ploy'], dtype=object), array(['plunder'], dtype=object), array(['plunderer'], dtype=object), array(['pointless'], dtype=object), array(['pointlessly'], dtype=object), array(['poison'], dtype=object), array(['poisonous'], dtype=object), array(['poisonously'], dtype=object), array(['pokey'], dtype=object), array(['poky'], dtype=object), array(['polarisation'], dtype=object), array(['polemize'], dtype=object), array(['pollute'], dtype=object), array(['polluter'], dtype=object), array(['polluters'], dtype=object), array(['polution'], dtype=object), array(['pompous'], dtype=object), array(['poor'], dtype=object), array(['poorer'], dtype=object), array(['poorest'], dtype=object), array(['poorly'], dtype=object), array(['posturing'], dtype=object), array(['pout'], dtype=object), array(['poverty'], dtype=object), array(['powerless'], dtype=object), array(['prate'], dtype=object), array(['pratfall'], dtype=object), array(['prattle'], dtype=object), array(['precarious'], dtype=object), array(['precariously'], dtype=object), array(['precipitate'], dtype=object), array(['precipitous'], dtype=object), array(['predatory'], dtype=object), array(['predicament'], dtype=object), array(['prejudge'], dtype=object), array(['prejudice'], dtype=object), array(['prejudices'], dtype=object), array(['prejudicial'], dtype=object), array(['premeditated'], dtype=object), array(['preoccupy'], dtype=object), array(['preposterous'], dtype=object), array(['preposterously'], dtype=object), array(['presumptuous'], dtype=object), array(['presumptuously'], dtype=object), array(['pretence'], dtype=object), array(['pretend'], dtype=object), array(['pretense'], dtype=object), array(['pretentious'], dtype=object), array(['pretentiously'], dtype=object), array(['prevaricate'], dtype=object), array(['pricey'], dtype=object), array(['pricier'], dtype=object), array(['prick'], dtype=object), array(['prickle'], dtype=object), array(['prickles'], dtype=object), array(['prideful'], dtype=object), array(['prik'], dtype=object), array(['primitive'], dtype=object), array(['prison'], dtype=object), array(['prisoner'], dtype=object), array(['problem'], dtype=object), array(['problematic'], dtype=object), array(['problems'], dtype=object), array(['procrastinate'], dtype=object), array(['procrastinates'], dtype=object), array(['procrastination'], dtype=object), array(['profane'], dtype=object), array(['profanity'], dtype=object), array(['prohibit'], dtype=object), array(['prohibitive'], dtype=object), array(['prohibitively'], dtype=object), array(['propaganda'], dtype=object), array(['propagandize'], dtype=object), array(['proprietary'], dtype=object), array(['prosecute'], dtype=object), array(['protest'], dtype=object), array(['protested'], dtype=object), array(['protesting'], dtype=object), array(['protests'], dtype=object), array(['protracted'], dtype=object), array(['provocation'], dtype=object), array(['provocative'], dtype=object), array(['provoke'], dtype=object), array(['pry'], dtype=object), array(['pugnacious'], dtype=object), array(['pugnaciously'], dtype=object), array(['pugnacity'], dtype=object), array(['punch'], dtype=object), array(['punish'], dtype=object), array(['punishable'], dtype=object), array(['punitive'], dtype=object), array(['punk'], dtype=object), array(['puny'], dtype=object), array(['puppet'], dtype=object), array(['puppets'], dtype=object), array(['puzzled'], dtype=object), array(['puzzlement'], dtype=object), array(['puzzling'], dtype=object), array(['quack'], dtype=object), array(['qualm'], dtype=object), array(['qualms'], dtype=object), array(['quandary'], dtype=object), array(['quarrel'], dtype=object), array(['quarrellous'], dtype=object), array(['quarrellously'], dtype=object), array(['quarrels'], dtype=object), array(['quarrelsome'], dtype=object), array(['quash'], dtype=object), array(['queer'], dtype=object), array(['questionable'], dtype=object), array(['quibble'], dtype=object), array(['quibbles'], dtype=object), array(['quitter'], dtype=object), array(['rabid'], dtype=object), array(['racism'], dtype=object), array(['racist'], dtype=object), array(['racists'], dtype=object), array(['racy'], dtype=object), array(['radical'], dtype=object), array(['radicalization'], dtype=object), array(['radically'], dtype=object), array(['radicals'], dtype=object), array(['rage'], dtype=object), array(['ragged'], dtype=object), array(['raging'], dtype=object), array(['rail'], dtype=object), array(['raked'], dtype=object), array(['rampage'], dtype=object), array(['rampant'], dtype=object), array(['ramshackle'], dtype=object), array(['rancor'], dtype=object), array(['randomly'], dtype=object), array(['rankle'], dtype=object), array(['rant'], dtype=object), array(['ranted'], dtype=object), array(['ranting'], dtype=object), array(['rantingly'], dtype=object), array(['rants'], dtype=object), array(['rape'], dtype=object), array(['raped'], dtype=object), array(['raping'], dtype=object), array(['rascal'], dtype=object), array(['rascals'], dtype=object), array(['rash'], dtype=object), array(['rattle'], dtype=object), array(['rattled'], dtype=object), array(['rattles'], dtype=object), array(['ravage'], dtype=object), array(['raving'], dtype=object), array(['reactionary'], dtype=object), array(['rebellious'], dtype=object), array(['rebuff'], dtype=object), array(['rebuke'], dtype=object), array(['recalcitrant'], dtype=object), array(['recant'], dtype=object), array(['recession'], dtype=object), array(['recessionary'], dtype=object), array(['reckless'], dtype=object), array(['recklessly'], dtype=object), array(['recklessness'], dtype=object), array(['recoil'], dtype=object), array(['recourses'], dtype=object), array(['redundancy'], dtype=object), array(['redundant'], dtype=object), array(['refusal'], dtype=object), array(['refuse'], dtype=object), array(['refused'], dtype=object), array(['refuses'], dtype=object), array(['refusing'], dtype=object), array(['refutation'], dtype=object), array(['refute'], dtype=object), array(['refuted'], dtype=object), array(['refutes'], dtype=object), array(['refuting'], dtype=object), array(['regress'], dtype=object), array(['regression'], dtype=object), array(['regressive'], dtype=object), array(['regret'], dtype=object), array(['regreted'], dtype=object), array(['regretful'], dtype=object), array(['regretfully'], dtype=object), array(['regrets'], dtype=object), array(['regrettable'], dtype=object), array(['regrettably'], dtype=object), array(['regretted'], dtype=object), array(['reject'], dtype=object), array(['rejected'], dtype=object), array(['rejecting'], dtype=object), array(['rejection'], dtype=object), array(['rejects'], dtype=object), array(['relapse'], dtype=object), array(['relentless'], dtype=object), array(['relentlessly'], dtype=object), array(['relentlessness'], dtype=object), array(['reluctance'], dtype=object), array(['reluctant'], dtype=object), array(['reluctantly'], dtype=object), array(['remorse'], dtype=object), array(['remorseful'], dtype=object), array(['remorsefully'], dtype=object), array(['remorseless'], dtype=object), array(['remorselessly'], dtype=object), array(['remorselessness'], dtype=object), array(['renounce'], dtype=object), array(['renunciation'], dtype=object), array(['repel'], dtype=object), array(['repetitive'], dtype=object), array(['reprehensible'], dtype=object), array(['reprehensibly'], dtype=object), array(['reprehension'], dtype=object), array(['reprehensive'], dtype=object), array(['repress'], dtype=object), array(['repression'], dtype=object), array(['repressive'], dtype=object), array(['reprimand'], dtype=object), array(['reproach'], dtype=object), array(['reproachful'], dtype=object), array(['reprove'], dtype=object), array(['reprovingly'], dtype=object), array(['repudiate'], dtype=object), array(['repudiation'], dtype=object), array(['repugn'], dtype=object), array(['repugnance'], dtype=object), array(['repugnant'], dtype=object), array(['repugnantly'], dtype=object), array(['repulse'], dtype=object), array(['repulsed'], dtype=object), array(['repulsing'], dtype=object), array(['repulsive'], dtype=object), array(['repulsively'], dtype=object), array(['repulsiveness'], dtype=object), array(['resent'], dtype=object), array(['resentful'], dtype=object), array(['resentment'], dtype=object), array(['resignation'], dtype=object), array(['resigned'], dtype=object), array(['resistance'], dtype=object), array(['restless'], dtype=object), array(['restlessness'], dtype=object), array(['restrict'], dtype=object), array(['restricted'], dtype=object), array(['restriction'], dtype=object), array(['restrictive'], dtype=object), array(['resurgent'], dtype=object), array(['retaliate'], dtype=object), array(['retaliatory'], dtype=object), array(['retard'], dtype=object), array(['retarded'], dtype=object), array(['retardedness'], dtype=object), array(['retards'], dtype=object), array(['reticent'], dtype=object), array(['retract'], dtype=object), array(['retreat'], dtype=object), array(['retreated'], dtype=object), array(['revenge'], dtype=object), array(['revengeful'], dtype=object), array(['revengefully'], dtype=object), array(['revert'], dtype=object), array(['revile'], dtype=object), array(['reviled'], dtype=object), array(['revoke'], dtype=object), array(['revolt'], dtype=object), array(['revolting'], dtype=object), array(['revoltingly'], dtype=object), array(['revulsion'], dtype=object), array(['revulsive'], dtype=object), array(['rhapsodize'], dtype=object), array(['rhetoric'], dtype=object), array(['rhetorical'], dtype=object), array(['ricer'], dtype=object), array(['ridicule'], dtype=object), array(['ridicules'], dtype=object), array(['ridiculous'], dtype=object), array(['ridiculously'], dtype=object), array(['rife'], dtype=object), array(['rift'], dtype=object), array(['rifts'], dtype=object), array(['rigid'], dtype=object), array(['rigidity'], dtype=object), array(['rigidness'], dtype=object), array(['rile'], dtype=object), array(['riled'], dtype=object), array(['rip'], dtype=object), array(['rip-off'], dtype=object), array(['ripoff'], dtype=object), array(['ripped'], dtype=object), array(['risk'], dtype=object), array(['risks'], dtype=object), array(['risky'], dtype=object), array(['rival'], dtype=object), array(['rivalry'], dtype=object), array(['roadblocks'], dtype=object), array(['rocky'], dtype=object), array(['rogue'], dtype=object), array(['rollercoaster'], dtype=object), array(['rot'], dtype=object), array(['rotten'], dtype=object), array(['rough'], dtype=object), array(['rremediable'], dtype=object), array(['rubbish'], dtype=object), array(['rude'], dtype=object), array(['rue'], dtype=object), array(['ruffian'], dtype=object), array(['ruffle'], dtype=object), array(['ruin'], dtype=object), array(['ruined'], dtype=object), array(['ruining'], dtype=object), array(['ruinous'], dtype=object), array(['ruins'], dtype=object), array(['rumbling'], dtype=object), array(['rumor'], dtype=object), array(['rumors'], dtype=object), array(['rumours'], dtype=object), array(['rumple'], dtype=object), array(['run-down'], dtype=object), array(['runaway'], dtype=object), array(['rupture'], dtype=object), array(['rust'], dtype=object), array(['rusts'], dtype=object), array(['rusty'], dtype=object), array(['rut'], dtype=object), array(['ruthless'], dtype=object), array(['ruthlessly'], dtype=object), array(['ruthlessness'], dtype=object), array(['ruts'], dtype=object), array(['sabotage'], dtype=object), array(['sack'], dtype=object), array(['sacrificed'], dtype=object), array(['sad'], dtype=object), array(['sadden'], dtype=object), array(['sadly'], dtype=object), array(['sadness'], dtype=object), array(['sag'], dtype=object), array(['sagged'], dtype=object), array(['sagging'], dtype=object), array(['saggy'], dtype=object), array(['sags'], dtype=object), array(['salacious'], dtype=object), array(['sanctimonious'], dtype=object), array(['sap'], dtype=object), array(['sarcasm'], dtype=object), array(['sarcastic'], dtype=object), array(['sarcastically'], dtype=object), array(['sardonic'], dtype=object), array(['sardonically'], dtype=object), array(['sass'], dtype=object), array(['satirical'], dtype=object), array(['satirize'], dtype=object), array(['savage'], dtype=object), array(['savaged'], dtype=object), array(['savagery'], dtype=object), array(['savages'], dtype=object), array(['scaly'], dtype=object), array(['scam'], dtype=object), array(['scams'], dtype=object), array(['scandal'], dtype=object), array(['scandalize'], dtype=object), array(['scandalized'], dtype=object), array(['scandalous'], dtype=object), array(['scandalously'], dtype=object), array(['scandals'], dtype=object), array(['scandel'], dtype=object), array(['scandels'], dtype=object), array(['scant'], dtype=object), array(['scapegoat'], dtype=object), array(['scar'], dtype=object), array(['scarce'], dtype=object), array(['scarcely'], dtype=object), array(['scarcity'], dtype=object), array(['scare'], dtype=object), array(['scared'], dtype=object), array(['scarier'], dtype=object), array(['scariest'], dtype=object), array(['scarily'], dtype=object), array(['scarred'], dtype=object), array(['scars'], dtype=object), array(['scary'], dtype=object), array(['scathing'], dtype=object), array(['scathingly'], dtype=object), array(['sceptical'], dtype=object), array(['scoff'], dtype=object), array(['scoffingly'], dtype=object), array(['scold'], dtype=object), array(['scolded'], dtype=object), array(['scolding'], dtype=object), array(['scoldingly'], dtype=object), array(['scorching'], dtype=object), array(['scorchingly'], dtype=object), array(['scorn'], dtype=object), array(['scornful'], dtype=object), array(['scornfully'], dtype=object), array(['scoundrel'], dtype=object), array(['scourge'], dtype=object), array(['scowl'], dtype=object), array(['scramble'], dtype=object), array(['scrambled'], dtype=object), array(['scrambles'], dtype=object), array(['scrambling'], dtype=object), array(['scrap'], dtype=object), array(['scratch'], dtype=object), array(['scratched'], dtype=object), array(['scratches'], dtype=object), array(['scratchy'], dtype=object), array(['scream'], dtype=object), array(['screech'], dtype=object), array(['screw-up'], dtype=object), array(['screwed'], dtype=object), array(['screwed-up'], dtype=object), array(['screwy'], dtype=object), array(['scuff'], dtype=object), array(['scuffs'], dtype=object), array(['scum'], dtype=object), array(['scummy'], dtype=object), array(['second-class'], dtype=object), array(['second-tier'], dtype=object), array(['secretive'], dtype=object), array(['sedentary'], dtype=object), array(['seedy'], dtype=object), array(['seethe'], dtype=object), array(['seething'], dtype=object), array(['self-coup'], dtype=object), array(['self-criticism'], dtype=object), array(['self-defeating'], dtype=object), array(['self-destructive'], dtype=object), array(['self-humiliation'], dtype=object), array(['self-interest'], dtype=object), array(['self-interested'], dtype=object), array(['self-serving'], dtype=object), array(['selfinterested'], dtype=object), array(['selfish'], dtype=object), array(['selfishly'], dtype=object), array(['selfishness'], dtype=object), array(['semi-retarded'], dtype=object), array(['senile'], dtype=object), array(['sensationalize'], dtype=object), array(['senseless'], dtype=object), array(['senselessly'], dtype=object), array(['seriousness'], dtype=object), array(['sermonize'], dtype=object), array(['servitude'], dtype=object), array(['set-up'], dtype=object), array(['setback'], dtype=object), array(['setbacks'], dtype=object), array(['sever'], dtype=object), array(['severe'], dtype=object), array(['severity'], dtype=object), array(['sh*t'], dtype=object), array(['shabby'], dtype=object), array(['shadowy'], dtype=object), array(['shady'], dtype=object), array(['shake'], dtype=object), array(['shaky'], dtype=object), array(['shallow'], dtype=object), array(['sham'], dtype=object), array(['shambles'], dtype=object), array(['shame'], dtype=object), array(['shameful'], dtype=object), array(['shamefully'], dtype=object), array(['shamefulness'], dtype=object), array(['shameless'], dtype=object), array(['shamelessly'], dtype=object), array(['shamelessness'], dtype=object), array(['shark'], dtype=object), array(['sharply'], dtype=object), array(['shatter'], dtype=object), array(['shemale'], dtype=object), array(['shimmer'], dtype=object), array(['shimmy'], dtype=object), array(['shipwreck'], dtype=object), array(['shirk'], dtype=object), array(['shirker'], dtype=object), array(['shit'], dtype=object), array(['shiver'], dtype=object), array(['shock'], dtype=object), array(['shocked'], dtype=object), array(['shocking'], dtype=object), array(['shockingly'], dtype=object), array(['shoddy'], dtype=object), array(['short-lived'], dtype=object), array(['shortage'], dtype=object), array(['shortchange'], dtype=object), array(['shortcoming'], dtype=object), array(['shortcomings'], dtype=object), array(['shortness'], dtype=object), array(['shortsighted'], dtype=object), array(['shortsightedness'], dtype=object), array(['showdown'], dtype=object), array(['shrew'], dtype=object), array(['shriek'], dtype=object), array(['shrill'], dtype=object), array(['shrilly'], dtype=object), array(['shrivel'], dtype=object), array(['shroud'], dtype=object), array(['shrouded'], dtype=object), array(['shrug'], dtype=object), array(['shun'], dtype=object), array(['shunned'], dtype=object), array(['sick'], dtype=object), array(['sicken'], dtype=object), array(['sickening'], dtype=object), array(['sickeningly'], dtype=object), array(['sickly'], dtype=object), array(['sickness'], dtype=object), array(['sidetrack'], dtype=object), array(['sidetracked'], dtype=object), array(['siege'], dtype=object), array(['sillily'], dtype=object), array(['silly'], dtype=object), array(['simplistic'], dtype=object), array(['simplistically'], dtype=object), array(['sin'], dtype=object), array(['sinful'], dtype=object), array(['sinfully'], dtype=object), array(['sinister'], dtype=object), array(['sinisterly'], dtype=object), array(['sink'], dtype=object), array(['sinking'], dtype=object), array(['skeletons'], dtype=object), array(['skeptic'], dtype=object), array(['skeptical'], dtype=object), array(['skeptically'], dtype=object), array(['skepticism'], dtype=object), array(['sketchy'], dtype=object), array(['skimpy'], dtype=object), array(['skinny'], dtype=object), array(['skittish'], dtype=object), array(['skittishly'], dtype=object), array(['skulk'], dtype=object), array(['slack'], dtype=object), array(['slander'], dtype=object), array(['slanderer'], dtype=object), array(['slanderous'], dtype=object), array(['slanderously'], dtype=object), array(['slanders'], dtype=object), array(['slap'], dtype=object), array(['slashing'], dtype=object), array(['slaughter'], dtype=object), array(['slaughtered'], dtype=object), array(['slave'], dtype=object), array(['slaves'], dtype=object), array(['sleazy'], dtype=object), array(['slime'], dtype=object), array(['slog'], dtype=object), array(['slogged'], dtype=object), array(['slogging'], dtype=object), array(['slogs'], dtype=object), array(['sloooooooooooooow'], dtype=object), array(['sloooow'], dtype=object), array(['slooow'], dtype=object), array(['sloow'], dtype=object), array(['sloppily'], dtype=object), array(['sloppy'], dtype=object), array(['sloth'], dtype=object), array(['slothful'], dtype=object), array(['slow'], dtype=object), array(['slow-moving'], dtype=object), array(['slowed'], dtype=object), array(['slower'], dtype=object), array(['slowest'], dtype=object), array(['slowly'], dtype=object), array(['sloww'], dtype=object), array(['slowww'], dtype=object), array(['slowwww'], dtype=object), array(['slug'], dtype=object), array(['sluggish'], dtype=object), array(['slump'], dtype=object), array(['slumping'], dtype=object), array(['slumpping'], dtype=object), array(['slur'], dtype=object), array(['slut'], dtype=object), array(['sluts'], dtype=object), array(['sly'], dtype=object), array(['smack'], dtype=object), array(['smallish'], dtype=object), array(['smash'], dtype=object), array(['smear'], dtype=object), array(['smell'], dtype=object), array(['smelled'], dtype=object), array(['smelling'], dtype=object), array(['smells'], dtype=object), array(['smelly'], dtype=object), array(['smelt'], dtype=object), array(['smoke'], dtype=object), array(['smokescreen'], dtype=object), array(['smolder'], dtype=object), array(['smoldering'], dtype=object), array(['smother'], dtype=object), array(['smoulder'], dtype=object), array(['smouldering'], dtype=object), array(['smudge'], dtype=object), array(['smudged'], dtype=object), array(['smudges'], dtype=object), array(['smudging'], dtype=object), array(['smug'], dtype=object), array(['smugly'], dtype=object), array(['smut'], dtype=object), array(['smuttier'], dtype=object), array(['smuttiest'], dtype=object), array(['smutty'], dtype=object), array(['snag'], dtype=object), array(['snagged'], dtype=object), array(['snagging'], dtype=object), array(['snags'], dtype=object), array(['snappish'], dtype=object), array(['snappishly'], dtype=object), array(['snare'], dtype=object), array(['snarky'], dtype=object), array(['snarl'], dtype=object), array(['sneak'], dtype=object), array(['sneakily'], dtype=object), array(['sneaky'], dtype=object), array(['sneer'], dtype=object), array(['sneering'], dtype=object), array(['sneeringly'], dtype=object), array(['snob'], dtype=object), array(['snobbish'], dtype=object), array(['snobby'], dtype=object), array(['snobish'], dtype=object), array(['snobs'], dtype=object), array(['snub'], dtype=object), array(['so-cal'], dtype=object), array(['soapy'], dtype=object), array(['sob'], dtype=object), array(['sober'], dtype=object), array(['sobering'], dtype=object), array(['solemn'], dtype=object), array(['solicitude'], dtype=object), array(['somber'], dtype=object), array(['sore'], dtype=object), array(['sorely'], dtype=object), array(['soreness'], dtype=object), array(['sorrow'], dtype=object), array(['sorrowful'], dtype=object), array(['sorrowfully'], dtype=object), array(['sorry'], dtype=object), array(['sour'], dtype=object), array(['sourly'], dtype=object), array(['spade'], dtype=object), array(['spank'], dtype=object), array(['spendy'], dtype=object), array(['spew'], dtype=object), array(['spewed'], dtype=object), array(['spewing'], dtype=object), array(['spews'], dtype=object), array(['spilling'], dtype=object), array(['spinster'], dtype=object), array(['spiritless'], dtype=object), array(['spite'], dtype=object), array(['spiteful'], dtype=object), array(['spitefully'], dtype=object), array(['spitefulness'], dtype=object), array(['splatter'], dtype=object), array(['split'], dtype=object), array(['splitting'], dtype=object), array(['spoil'], dtype=object), array(['spoilage'], dtype=object), array(['spoilages'], dtype=object), array(['spoiled'], dtype=object), array(['spoilled'], dtype=object), array(['spoils'], dtype=object), array(['spook'], dtype=object), array(['spookier'], dtype=object), array(['spookiest'], dtype=object), array(['spookily'], dtype=object), array(['spooky'], dtype=object), array(['spoon-fed'], dtype=object), array(['spoon-feed'], dtype=object), array(['spoonfed'], dtype=object), array(['sporadic'], dtype=object), array(['spotty'], dtype=object), array(['spurious'], dtype=object), array(['spurn'], dtype=object), array(['sputter'], dtype=object), array(['squabble'], dtype=object), array(['squabbling'], dtype=object), array(['squander'], dtype=object), array(['squash'], dtype=object), array(['squeak'], dtype=object), array(['squeaks'], dtype=object), array(['squeaky'], dtype=object), array(['squeal'], dtype=object), array(['squealing'], dtype=object), array(['squeals'], dtype=object), array(['squirm'], dtype=object), array(['stab'], dtype=object), array(['stagnant'], dtype=object), array(['stagnate'], dtype=object), array(['stagnation'], dtype=object), array(['staid'], dtype=object), array(['stain'], dtype=object), array(['stains'], dtype=object), array(['stale'], dtype=object), array(['stalemate'], dtype=object), array(['stall'], dtype=object), array(['stalls'], dtype=object), array(['stammer'], dtype=object), array(['stampede'], dtype=object), array(['standstill'], dtype=object), array(['stark'], dtype=object), array(['starkly'], dtype=object), array(['startle'], dtype=object), array(['startling'], dtype=object), array(['startlingly'], dtype=object), array(['starvation'], dtype=object), array(['starve'], dtype=object), array(['static'], dtype=object), array(['steal'], dtype=object), array(['stealing'], dtype=object), array(['steals'], dtype=object), array(['steep'], dtype=object), array(['steeply'], dtype=object), array(['stench'], dtype=object), array(['stereotype'], dtype=object), array(['stereotypical'], dtype=object), array(['stereotypically'], dtype=object), array(['stern'], dtype=object), array(['stew'], dtype=object), array(['sticky'], dtype=object), array(['stiff'], dtype=object), array(['stiffness'], dtype=object), array(['stifle'], dtype=object), array(['stifling'], dtype=object), array(['stiflingly'], dtype=object), array(['stigma'], dtype=object), array(['stigmatize'], dtype=object), array(['sting'], dtype=object), array(['stinging'], dtype=object), array(['stingingly'], dtype=object), array(['stingy'], dtype=object), array(['stink'], dtype=object), array(['stinks'], dtype=object), array(['stodgy'], dtype=object), array(['stole'], dtype=object), array(['stolen'], dtype=object), array(['stooge'], dtype=object), array(['stooges'], dtype=object), array(['stormy'], dtype=object), array(['straggle'], dtype=object), array(['straggler'], dtype=object), array(['strain'], dtype=object), array(['strained'], dtype=object), array(['straining'], dtype=object), array(['strange'], dtype=object), array(['strangely'], dtype=object), array(['stranger'], dtype=object), array(['strangest'], dtype=object), array(['strangle'], dtype=object), array(['streaky'], dtype=object), array(['strenuous'], dtype=object), array(['stress'], dtype=object), array(['stresses'], dtype=object), array(['stressful'], dtype=object), array(['stressfully'], dtype=object), array(['stricken'], dtype=object), array(['strict'], dtype=object), array(['strictly'], dtype=object), array(['strident'], dtype=object), array(['stridently'], dtype=object), array(['strife'], dtype=object), array(['strike'], dtype=object), array(['stringent'], dtype=object), array(['stringently'], dtype=object), array(['struck'], dtype=object), array(['struggle'], dtype=object), array(['struggled'], dtype=object), array(['struggles'], dtype=object), array(['struggling'], dtype=object), array(['strut'], dtype=object), array(['stubborn'], dtype=object), array(['stubbornly'], dtype=object), array(['stubbornness'], dtype=object), array(['stuck'], dtype=object), array(['stuffy'], dtype=object), array(['stumble'], dtype=object), array(['stumbled'], dtype=object), array(['stumbles'], dtype=object), array(['stump'], dtype=object), array(['stumped'], dtype=object), array(['stumps'], dtype=object), array(['stun'], dtype=object), array(['stunt'], dtype=object), array(['stunted'], dtype=object), array(['stupid'], dtype=object), array(['stupidest'], dtype=object), array(['stupidity'], dtype=object), array(['stupidly'], dtype=object), array(['stupified'], dtype=object), array(['stupify'], dtype=object), array(['stupor'], dtype=object), array(['stutter'], dtype=object), array(['stuttered'], dtype=object), array(['stuttering'], dtype=object), array(['stutters'], dtype=object), array(['sty'], dtype=object), array(['stymied'], dtype=object), array(['sub-par'], dtype=object), array(['subdued'], dtype=object), array(['subjected'], dtype=object), array(['subjection'], dtype=object), array(['subjugate'], dtype=object), array(['subjugation'], dtype=object), array(['submissive'], dtype=object), array(['subordinate'], dtype=object), array(['subpoena'], dtype=object), array(['subpoenas'], dtype=object), array(['subservience'], dtype=object), array(['subservient'], dtype=object), array(['substandard'], dtype=object), array(['subtract'], dtype=object), array(['subversion'], dtype=object), array(['subversive'], dtype=object), array(['subversively'], dtype=object), array(['subvert'], dtype=object), array(['succumb'], dtype=object), array(['suck'], dtype=object), array(['sucked'], dtype=object), array(['sucker'], dtype=object), array(['sucks'], dtype=object), array(['sucky'], dtype=object), array(['sue'], dtype=object), array(['sued'], dtype=object), array(['sueing'], dtype=object), array(['sues'], dtype=object), array(['suffer'], dtype=object), array(['suffered'], dtype=object), array(['sufferer'], dtype=object), array(['sufferers'], dtype=object), array(['suffering'], dtype=object), array(['suffers'], dtype=object), array(['suffocate'], dtype=object), array(['sugar-coat'], dtype=object), array(['sugar-coated'], dtype=object), array(['sugarcoated'], dtype=object), array(['suicidal'], dtype=object), array(['suicide'], dtype=object), array(['sulk'], dtype=object), array(['sullen'], dtype=object), array(['sully'], dtype=object), array(['sunder'], dtype=object), array(['sunk'], dtype=object), array(['sunken'], dtype=object), array(['superficial'], dtype=object), array(['superficiality'], dtype=object), array(['superficially'], dtype=object), array(['superfluous'], dtype=object), array(['superstition'], dtype=object), array(['superstitious'], dtype=object), array(['suppress'], dtype=object), array(['suppression'], dtype=object), array(['surrender'], dtype=object), array(['susceptible'], dtype=object), array(['suspect'], dtype=object), array(['suspicion'], dtype=object), array(['suspicions'], dtype=object), array(['suspicious'], dtype=object), array(['suspiciously'], dtype=object), array(['swagger'], dtype=object), array(['swamped'], dtype=object), array(['sweaty'], dtype=object), array(['swelled'], dtype=object), array(['swelling'], dtype=object), array(['swindle'], dtype=object), array(['swipe'], dtype=object), array(['swollen'], dtype=object), array(['symptom'], dtype=object), array(['symptoms'], dtype=object), array(['syndrome'], dtype=object), array(['taboo'], dtype=object), array(['tacky'], dtype=object), array(['taint'], dtype=object), array(['tainted'], dtype=object), array(['tamper'], dtype=object), array(['tangle'], dtype=object), array(['tangled'], dtype=object), array(['tangles'], dtype=object), array(['tank'], dtype=object), array(['tanked'], dtype=object), array(['tanks'], dtype=object), array(['tantrum'], dtype=object), array(['tardy'], dtype=object), array(['tarnish'], dtype=object), array(['tarnished'], dtype=object), array(['tarnishes'], dtype=object), array(['tarnishing'], dtype=object), array(['tattered'], dtype=object), array(['taunt'], dtype=object), array(['taunting'], dtype=object), array(['tauntingly'], dtype=object), array(['taunts'], dtype=object), array(['taut'], dtype=object), array(['tawdry'], dtype=object), array(['taxing'], dtype=object), array(['tease'], dtype=object), array(['teasingly'], dtype=object), array(['tedious'], dtype=object), array(['tediously'], dtype=object), array(['temerity'], dtype=object), array(['temper'], dtype=object), array(['tempest'], dtype=object), array(['temptation'], dtype=object), array(['tenderness'], dtype=object), array(['tense'], dtype=object), array(['tension'], dtype=object), array(['tentative'], dtype=object), array(['tentatively'], dtype=object), array(['tenuous'], dtype=object), array(['tenuously'], dtype=object), array(['tepid'], dtype=object), array(['terrible'], dtype=object), array(['terribleness'], dtype=object), array(['terribly'], dtype=object), array(['terror'], dtype=object), array(['terror-genic'], dtype=object), array(['terrorism'], dtype=object), array(['terrorize'], dtype=object), array(['testily'], dtype=object), array(['testy'], dtype=object), array(['tetchily'], dtype=object), array(['tetchy'], dtype=object), array(['thankless'], dtype=object), array(['thicker'], dtype=object), array(['thirst'], dtype=object), array(['thorny'], dtype=object), array(['thoughtless'], dtype=object), array(['thoughtlessly'], dtype=object), array(['thoughtlessness'], dtype=object), array(['thrash'], dtype=object), array(['threat'], dtype=object), array(['threaten'], dtype=object), array(['threatening'], dtype=object), array(['threats'], dtype=object), array(['threesome'], dtype=object), array(['throb'], dtype=object), array(['throbbed'], dtype=object), array(['throbbing'], dtype=object), array(['throbs'], dtype=object), array(['throttle'], dtype=object), array(['thug'], dtype=object), array(['thumb-down'], dtype=object), array(['thumbs-down'], dtype=object), array(['thwart'], dtype=object), array(['time-consuming'], dtype=object), array(['timid'], dtype=object), array(['timidity'], dtype=object), array(['timidly'], dtype=object), array(['timidness'], dtype=object), array(['tin-y'], dtype=object), array(['tingled'], dtype=object), array(['tingling'], dtype=object), array(['tired'], dtype=object), array(['tiresome'], dtype=object), array(['tiring'], dtype=object), array(['tiringly'], dtype=object), array(['toil'], dtype=object), array(['toll'], dtype=object), array(['top-heavy'], dtype=object), array(['topple'], dtype=object), array(['torment'], dtype=object), array(['tormented'], dtype=object), array(['torrent'], dtype=object), array(['tortuous'], dtype=object), array(['torture'], dtype=object), array(['tortured'], dtype=object), array(['tortures'], dtype=object), array(['torturing'], dtype=object), array(['torturous'], dtype=object), array(['torturously'], dtype=object), array(['totalitarian'], dtype=object), array(['touchy'], dtype=object), array(['toughness'], dtype=object), array(['tout'], dtype=object), array(['touted'], dtype=object), array(['touts'], dtype=object), array(['toxic'], dtype=object), array(['traduce'], dtype=object), array(['tragedy'], dtype=object), array(['tragic'], dtype=object), array(['tragically'], dtype=object), array(['traitor'], dtype=object), array(['traitorous'], dtype=object), array(['traitorously'], dtype=object), array(['tramp'], dtype=object), array(['trample'], dtype=object), array(['transgress'], dtype=object), array(['transgression'], dtype=object), array(['trap'], dtype=object), array(['traped'], dtype=object), array(['trapped'], dtype=object), array(['trash'], dtype=object), array(['trashed'], dtype=object), array(['trashy'], dtype=object), array(['trauma'], dtype=object), array(['traumatic'], dtype=object), array(['traumatically'], dtype=object), array(['traumatize'], dtype=object), array(['traumatized'], dtype=object), array(['travesties'], dtype=object), array(['travesty'], dtype=object), array(['treacherous'], dtype=object), array(['treacherously'], dtype=object), array(['treachery'], dtype=object), array(['treason'], dtype=object), array(['treasonous'], dtype=object), array(['trick'], dtype=object), array(['tricked'], dtype=object), array(['trickery'], dtype=object), array(['tricky'], dtype=object), array(['trivial'], dtype=object), array(['trivialize'], dtype=object), array(['trouble'], dtype=object), array(['troubled'], dtype=object), array(['troublemaker'], dtype=object), array(['troubles'], dtype=object), array(['troublesome'], dtype=object), array(['troublesomely'], dtype=object), array(['troubling'], dtype=object), array(['troublingly'], dtype=object), array(['truant'], dtype=object), array(['tumble'], dtype=object), array(['tumbled'], dtype=object), array(['tumbles'], dtype=object), array(['tumultuous'], dtype=object), array(['turbulent'], dtype=object), array(['turmoil'], dtype=object), array(['twist'], dtype=object), array(['twisted'], dtype=object), array(['twists'], dtype=object), array(['two-faced'], dtype=object), array(['two-faces'], dtype=object), array(['tyrannical'], dtype=object), array(['tyrannically'], dtype=object), array(['tyranny'], dtype=object), array(['tyrant'], dtype=object), array(['ugh'], dtype=object), array(['uglier'], dtype=object), array(['ugliest'], dtype=object), array(['ugliness'], dtype=object), array(['ugly'], dtype=object), array(['ulterior'], dtype=object), array(['ultimatum'], dtype=object), array(['ultimatums'], dtype=object), array(['ultra-hardline'], dtype=object), array(['un-viewable'], dtype=object), array(['unable'], dtype=object), array(['unacceptable'], dtype=object), array(['unacceptablely'], dtype=object), array(['unacceptably'], dtype=object), array(['unaccessible'], dtype=object), array(['unaccustomed'], dtype=object), array(['unachievable'], dtype=object), array(['unaffordable'], dtype=object), array(['unappealing'], dtype=object), array(['unattractive'], dtype=object), array(['unauthentic'], dtype=object), array(['unavailable'], dtype=object), array(['unavoidably'], dtype=object), array(['unbearable'], dtype=object), array(['unbearablely'], dtype=object), array(['unbelievable'], dtype=object), array(['unbelievably'], dtype=object), array(['uncaring'], dtype=object), array(['uncertain'], dtype=object), array(['uncivil'], dtype=object), array(['uncivilized'], dtype=object), array(['unclean'], dtype=object), array(['unclear'], dtype=object), array(['uncollectible'], dtype=object), array(['uncomfortable'], dtype=object), array(['uncomfortably'], dtype=object), array(['uncomfy'], dtype=object), array(['uncompetitive'], dtype=object), array(['uncompromising'], dtype=object), array(['uncompromisingly'], dtype=object), array(['unconfirmed'], dtype=object), array(['unconstitutional'], dtype=object), array(['uncontrolled'], dtype=object), array(['unconvincing'], dtype=object), array(['unconvincingly'], dtype=object), array(['uncooperative'], dtype=object), array(['uncouth'], dtype=object), array(['uncreative'], dtype=object), array(['undecided'], dtype=object), array(['undefined'], dtype=object), array(['undependability'], dtype=object), array(['undependable'], dtype=object), array(['undercut'], dtype=object), array(['undercuts'], dtype=object), array(['undercutting'], dtype=object), array(['underdog'], dtype=object), array(['underestimate'], dtype=object), array(['underlings'], dtype=object), array(['undermine'], dtype=object), array(['undermined'], dtype=object), array(['undermines'], dtype=object), array(['undermining'], dtype=object), array(['underpaid'], dtype=object), array(['underpowered'], dtype=object), array(['undersized'], dtype=object), array(['undesirable'], dtype=object), array(['undetermined'], dtype=object), array(['undid'], dtype=object), array(['undignified'], dtype=object), array(['undissolved'], dtype=object), array(['undocumented'], dtype=object), array(['undone'], dtype=object), array(['undue'], dtype=object), array(['unease'], dtype=object), array(['uneasily'], dtype=object), array(['uneasiness'], dtype=object), array(['uneasy'], dtype=object), array(['uneconomical'], dtype=object), array(['unemployed'], dtype=object), array(['unequal'], dtype=object), array(['unethical'], dtype=object), array(['uneven'], dtype=object), array(['uneventful'], dtype=object), array(['unexpected'], dtype=object), array(['unexpectedly'], dtype=object), array(['unexplained'], dtype=object), array(['unfairly'], dtype=object), array(['unfaithful'], dtype=object), array(['unfaithfully'], dtype=object), array(['unfamiliar'], dtype=object), array(['unfavorable'], dtype=object), array(['unfeeling'], dtype=object), array(['unfinished'], dtype=object), array(['unfit'], dtype=object), array(['unforeseen'], dtype=object), array(['unforgiving'], dtype=object), array(['unfortunate'], dtype=object), array(['unfortunately'], dtype=object), array(['unfounded'], dtype=object), array(['unfriendly'], dtype=object), array(['unfulfilled'], dtype=object), array(['unfunded'], dtype=object), array(['ungovernable'], dtype=object), array(['ungrateful'], dtype=object), array(['unhappily'], dtype=object), array(['unhappiness'], dtype=object), array(['unhappy'], dtype=object), array(['unhealthy'], dtype=object), array(['unhelpful'], dtype=object), array(['unilateralism'], dtype=object), array(['unimaginable'], dtype=object), array(['unimaginably'], dtype=object), array(['unimportant'], dtype=object), array(['uninformed'], dtype=object), array(['uninsured'], dtype=object), array(['unintelligible'], dtype=object), array(['unintelligile'], dtype=object), array(['unipolar'], dtype=object), array(['unjust'], dtype=object), array(['unjustifiable'], dtype=object), array(['unjustifiably'], dtype=object), array(['unjustified'], dtype=object), array(['unjustly'], dtype=object), array(['unkind'], dtype=object), array(['unkindly'], dtype=object), array(['unknown'], dtype=object), array(['unlamentable'], dtype=object), array(['unlamentably'], dtype=object), array(['unlawful'], dtype=object), array(['unlawfully'], dtype=object), array(['unlawfulness'], dtype=object), array(['unleash'], dtype=object), array(['unlicensed'], dtype=object), array(['unlikely'], dtype=object), array(['unlucky'], dtype=object), array(['unmoved'], dtype=object), array(['unnatural'], dtype=object), array(['unnaturally'], dtype=object), array(['unnecessary'], dtype=object), array(['unneeded'], dtype=object), array(['unnerve'], dtype=object), array(['unnerved'], dtype=object), array(['unnerving'], dtype=object), array(['unnervingly'], dtype=object), array(['unnoticed'], dtype=object), array(['unobserved'], dtype=object), array(['unorthodox'], dtype=object), array(['unorthodoxy'], dtype=object), array(['unpleasant'], dtype=object), array(['unpleasantries'], dtype=object), array(['unpopular'], dtype=object), array(['unpredictable'], dtype=object), array(['unprepared'], dtype=object), array(['unproductive'], dtype=object), array(['unprofitable'], dtype=object), array(['unprove'], dtype=object), array(['unproved'], dtype=object), array(['unproven'], dtype=object), array(['unproves'], dtype=object), array(['unproving'], dtype=object), array(['unqualified'], dtype=object), array(['unravel'], dtype=object), array(['unraveled'], dtype=object), array(['unreachable'], dtype=object), array(['unreadable'], dtype=object), array(['unrealistic'], dtype=object), array(['unreasonable'], dtype=object), array(['unreasonably'], dtype=object), array(['unrelenting'], dtype=object), array(['unrelentingly'], dtype=object), array(['unreliability'], dtype=object), array(['unreliable'], dtype=object), array(['unresolved'], dtype=object), array(['unresponsive'], dtype=object), array(['unrest'], dtype=object), array(['unruly'], dtype=object), array(['unsafe'], dtype=object), array(['unsatisfactory'], dtype=object), array(['unsavory'], dtype=object), array(['unscrupulous'], dtype=object), array(['unscrupulously'], dtype=object), array(['unsecure'], dtype=object), array(['unseemly'], dtype=object), array(['unsettle'], dtype=object), array(['unsettled'], dtype=object), array(['unsettling'], dtype=object), array(['unsettlingly'], dtype=object), array(['unskilled'], dtype=object), array(['unsophisticated'], dtype=object), array(['unsound'], dtype=object), array(['unspeakable'], dtype=object), array(['unspeakablely'], dtype=object), array(['unspecified'], dtype=object), array(['unstable'], dtype=object), array(['unsteadily'], dtype=object), array(['unsteadiness'], dtype=object), array(['unsteady'], dtype=object), array(['unsuccessful'], dtype=object), array(['unsuccessfully'], dtype=object), array(['unsupported'], dtype=object), array(['unsupportive'], dtype=object), array(['unsure'], dtype=object), array(['unsuspecting'], dtype=object), array(['unsustainable'], dtype=object), array(['untenable'], dtype=object), array(['untested'], dtype=object), array(['unthinkable'], dtype=object), array(['unthinkably'], dtype=object), array(['untimely'], dtype=object), array(['untouched'], dtype=object), array(['untrue'], dtype=object), array(['untrustworthy'], dtype=object), array(['untruthful'], dtype=object), array(['unusable'], dtype=object), array(['unusably'], dtype=object), array(['unuseable'], dtype=object), array(['unuseably'], dtype=object), array(['unusual'], dtype=object), array(['unusually'], dtype=object), array(['unviewable'], dtype=object), array(['unwanted'], dtype=object), array(['unwarranted'], dtype=object), array(['unwatchable'], dtype=object), array(['unwelcome'], dtype=object), array(['unwell'], dtype=object), array(['unwieldy'], dtype=object), array(['unwilling'], dtype=object), array(['unwillingly'], dtype=object), array(['unwillingness'], dtype=object), array(['unwise'], dtype=object), array(['unwisely'], dtype=object), array(['unworkable'], dtype=object), array(['unworthy'], dtype=object), array(['unyielding'], dtype=object), array(['upbraid'], dtype=object), array(['upheaval'], dtype=object), array(['uprising'], dtype=object), array(['uproar'], dtype=object), array(['uproarious'], dtype=object), array(['uproariously'], dtype=object), array(['uproarous'], dtype=object), array(['uproarously'], dtype=object), array(['uproot'], dtype=object), array(['upset'], dtype=object), array(['upseting'], dtype=object), array(['upsets'], dtype=object), array(['upsetting'], dtype=object), array(['upsettingly'], dtype=object), array(['urgent'], dtype=object), array(['useless'], dtype=object), array(['usurp'], dtype=object), array(['usurper'], dtype=object), array(['utterly'], dtype=object), array(['vagrant'], dtype=object), array(['vague'], dtype=object), array(['vagueness'], dtype=object), array(['vain'], dtype=object), array(['vainly'], dtype=object), array(['vanity'], dtype=object), array(['vehement'], dtype=object), array(['vehemently'], dtype=object), array(['vengeance'], dtype=object), array(['vengeful'], dtype=object), array(['vengefully'], dtype=object), array(['vengefulness'], dtype=object), array(['venom'], dtype=object), array(['venomous'], dtype=object), array(['venomously'], dtype=object), array(['vent'], dtype=object), array(['vestiges'], dtype=object), array(['vex'], dtype=object), array(['vexation'], dtype=object), array(['vexing'], dtype=object), array(['vexingly'], dtype=object), array(['vibrate'], dtype=object), array(['vibrated'], dtype=object), array(['vibrates'], dtype=object), array(['vibrating'], dtype=object), array(['vibration'], dtype=object), array(['vice'], dtype=object), array(['vicious'], dtype=object), array(['viciously'], dtype=object), array(['viciousness'], dtype=object), array(['victimize'], dtype=object), array(['vile'], dtype=object), array(['vileness'], dtype=object), array(['vilify'], dtype=object), array(['villainous'], dtype=object), array(['villainously'], dtype=object), array(['villains'], dtype=object), array(['villian'], dtype=object), array(['villianous'], dtype=object), array(['villianously'], dtype=object), array(['villify'], dtype=object), array(['vindictive'], dtype=object), array(['vindictively'], dtype=object), array(['vindictiveness'], dtype=object), array(['violate'], dtype=object), array(['violation'], dtype=object), array(['violator'], dtype=object), array(['violators'], dtype=object), array(['violent'], dtype=object), array(['violently'], dtype=object), array(['viper'], dtype=object), array(['virulence'], dtype=object), array(['virulent'], dtype=object), array(['virulently'], dtype=object), array(['virus'], dtype=object), array(['vociferous'], dtype=object), array(['vociferously'], dtype=object), array(['volatile'], dtype=object), array(['volatility'], dtype=object), array(['vomit'], dtype=object), array(['vomited'], dtype=object), array(['vomiting'], dtype=object), array(['vomits'], dtype=object), array(['vulgar'], dtype=object), array(['vulnerable'], dtype=object), array(['wack'], dtype=object), array(['wail'], dtype=object), array(['wallow'], dtype=object), array(['wane'], dtype=object), array(['waning'], dtype=object), array(['wanton'], dtype=object), array(['war-like'], dtype=object), array(['warily'], dtype=object), array(['wariness'], dtype=object), array(['warlike'], dtype=object), array(['warned'], dtype=object), array(['warning'], dtype=object), array(['warp'], dtype=object), array(['warped'], dtype=object), array(['wary'], dtype=object), array(['washed-out'], dtype=object), array(['waste'], dtype=object), array(['wasted'], dtype=object), array(['wasteful'], dtype=object), array(['wastefulness'], dtype=object), array(['wasting'], dtype=object), array(['water-down'], dtype=object), array(['watered-down'], dtype=object), array(['wayward'], dtype=object), array(['weak'], dtype=object), array(['weaken'], dtype=object), array(['weakening'], dtype=object), array(['weaker'], dtype=object), array(['weakness'], dtype=object), array(['weaknesses'], dtype=object), array(['weariness'], dtype=object), array(['wearisome'], dtype=object), array(['weary'], dtype=object), array(['wedge'], dtype=object), array(['weed'], dtype=object), array(['weep'], dtype=object), array(['weird'], dtype=object), array(['weirdly'], dtype=object), array(['wheedle'], dtype=object), array(['whimper'], dtype=object), array(['whine'], dtype=object), array(['whining'], dtype=object), array(['whiny'], dtype=object), array(['whips'], dtype=object), array(['whore'], dtype=object), array(['whores'], dtype=object), array(['wicked'], dtype=object), array(['wickedly'], dtype=object), array(['wickedness'], dtype=object), array(['wild'], dtype=object), array(['wildly'], dtype=object), array(['wiles'], dtype=object), array(['wilt'], dtype=object), array(['wily'], dtype=object), array(['wimpy'], dtype=object), array(['wince'], dtype=object), array(['wobble'], dtype=object), array(['wobbled'], dtype=object), array(['wobbles'], dtype=object), array(['woe'], dtype=object), array(['woebegone'], dtype=object), array(['woeful'], dtype=object), array(['woefully'], dtype=object), array(['womanizer'], dtype=object), array(['womanizing'], dtype=object), array(['worn'], dtype=object), array(['worried'], dtype=object), array(['worriedly'], dtype=object), array(['worrier'], dtype=object), array(['worries'], dtype=object), array(['worrisome'], dtype=object), array(['worry'], dtype=object), array(['worrying'], dtype=object), array(['worryingly'], dtype=object), array(['worse'], dtype=object), array(['worsen'], dtype=object), array(['worsening'], dtype=object), array(['worst'], dtype=object), array(['worthless'], dtype=object), array(['worthlessly'], dtype=object), array(['worthlessness'], dtype=object), array(['wound'], dtype=object), array(['wounds'], dtype=object), array(['wrangle'], dtype=object), array(['wrath'], dtype=object), array(['wreak'], dtype=object), array(['wreaked'], dtype=object), array(['wreaks'], dtype=object), array(['wreck'], dtype=object), array(['wrest'], dtype=object), array(['wrestle'], dtype=object), array(['wretch'], dtype=object), array(['wretched'], dtype=object), array(['wretchedly'], dtype=object), array(['wretchedness'], dtype=object), array(['wrinkle'], dtype=object), array(['wrinkled'], dtype=object), array(['wrinkles'], dtype=object), array(['wrip'], dtype=object), array(['wripped'], dtype=object), array(['wripping'], dtype=object), array(['writhe'], dtype=object), array(['wrong'], dtype=object), array(['wrongful'], dtype=object), array(['wrongly'], dtype=object), array(['wrought'], dtype=object), array(['yawn'], dtype=object), array(['zap'], dtype=object), array(['zapped'], dtype=object), array(['zaps'], dtype=object), array(['zealot'], dtype=object), array(['zealous'], dtype=object), array(['zealously'], dtype=object), array(['zombie'], dtype=object)]\n"
          ]
        }
      ]
    },
    {
      "cell_type": "code",
      "metadata": {
        "colab": {
          "base_uri": "https://localhost:8080/",
          "height": 779
        },
        "id": "qmmck-hZrFQC",
        "outputId": "16eec86f-3ed5-420a-b98c-fc7a5a84ad26"
      },
      "source": [
        "df['Unknown Tokens']=df['Lemmatized Filtered Tokens'].apply(lambda x: [item for item in x if item  not in word_cloud])\n",
        "df.head()"
      ],
      "execution_count": null,
      "outputs": [
        {
          "output_type": "execute_result",
          "data": {
            "text/html": [
              "<div>\n",
              "<style scoped>\n",
              "    .dataframe tbody tr th:only-of-type {\n",
              "        vertical-align: middle;\n",
              "    }\n",
              "\n",
              "    .dataframe tbody tr th {\n",
              "        vertical-align: top;\n",
              "    }\n",
              "\n",
              "    .dataframe thead th {\n",
              "        text-align: right;\n",
              "    }\n",
              "</style>\n",
              "<table border=\"1\" class=\"dataframe\">\n",
              "  <thead>\n",
              "    <tr style=\"text-align: right;\">\n",
              "      <th></th>\n",
              "      <th>Comments</th>\n",
              "      <th>Tokens</th>\n",
              "      <th>Filtered Tokens</th>\n",
              "      <th>Stemmed Filtered Tokens</th>\n",
              "      <th>Lemmatized Filtered Tokens</th>\n",
              "      <th>Afinn Score of Lem</th>\n",
              "      <th>Afinn Overall Score of Lem</th>\n",
              "      <th>Afinn Sentiment</th>\n",
              "      <th>Bing Positive Tokens</th>\n",
              "      <th>Bing Positive count</th>\n",
              "      <th>Bing Negative Tokens</th>\n",
              "      <th>Bing Negative count</th>\n",
              "      <th>Bing Score</th>\n",
              "      <th>Bing Sentiment</th>\n",
              "      <th>Unknown Tokens</th>\n",
              "    </tr>\n",
              "  </thead>\n",
              "  <tbody>\n",
              "    <tr>\n",
              "      <th>0</th>\n",
              "      <td>i will not pay any money in future please keep...</td>\n",
              "      <td>[i, will, not, pay, any, money, in, future, pl...</td>\n",
              "      <td>[future, mind, guys, reference, future, mind, ...</td>\n",
              "      <td>[futur, mind, guy, refer, futur, mind, 24, hou...</td>\n",
              "      <td>[future, mind, guy, reference, future, mind, 2...</td>\n",
              "      <td>[0.0, 0.0, 0.0, 0.0, 0.0, 0.0, 0.0, 0.0, 2.0, ...</td>\n",
              "      <td>[0.0]</td>\n",
              "      <td>neutral</td>\n",
              "      <td>[]</td>\n",
              "      <td>0</td>\n",
              "      <td>[mistake]</td>\n",
              "      <td>1</td>\n",
              "      <td>-1</td>\n",
              "      <td>negative</td>\n",
              "      <td>[future, mind, guy, reference, future, mind, 2...</td>\n",
              "    </tr>\n",
              "    <tr>\n",
              "      <th>1</th>\n",
              "      <td>customer service num not response, my repaymen...</td>\n",
              "      <td>[customer, service, num, not, response, my, re...</td>\n",
              "      <td>[customer, service, num, response, repayment, ...</td>\n",
              "      <td>[custom, servic, num, respons, repay, month, a...</td>\n",
              "      <td>[customer, service, num, response, repayment, ...</td>\n",
              "      <td>[0.0, 0.0, 0.0, 0.0, 0.0, 0.0, 0.0, 0.0, 0.0, ...</td>\n",
              "      <td>[-1.0]</td>\n",
              "      <td>negative</td>\n",
              "      <td>[support]</td>\n",
              "      <td>1</td>\n",
              "      <td>[issue, penalty]</td>\n",
              "      <td>2</td>\n",
              "      <td>-1</td>\n",
              "      <td>negative</td>\n",
              "      <td>[customer, service, num, response, repayment, ...</td>\n",
              "    </tr>\n",
              "    <tr>\n",
              "      <th>2</th>\n",
              "      <td>please don't download this app this app , they...</td>\n",
              "      <td>[please, don, t, download, this, app, this, ap...</td>\n",
              "      <td>[download, threatened, payment, contact, send,...</td>\n",
              "      <td>[download, threaten, payment, contact, send, r...</td>\n",
              "      <td>[download, threaten, payment, contact, send, r...</td>\n",
              "      <td>[0.0, -2.0, 0.0, 0.0, 0.0, 0.0]</td>\n",
              "      <td>[-2.0]</td>\n",
              "      <td>negative</td>\n",
              "      <td>[]</td>\n",
              "      <td>0</td>\n",
              "      <td>[threaten]</td>\n",
              "      <td>1</td>\n",
              "      <td>-1</td>\n",
              "      <td>negative</td>\n",
              "      <td>[download, payment, contact, send, reminder]</td>\n",
              "    </tr>\n",
              "    <tr>\n",
              "      <th>3</th>\n",
              "      <td>what the hell is this once i get 1000 loan fro...</td>\n",
              "      <td>[what, the, hell, is, this, once, i, get, 1000...</td>\n",
              "      <td>[apply, message, match, criteria, ffffffkkkkkk]</td>\n",
              "      <td>[appli, messag, match, criteria, ffffffkkkkkk]</td>\n",
              "      <td>[apply, message, match, criteria, ffffffkkkkkk]</td>\n",
              "      <td>[0.0, 0.0, 0.0, 0.0, 0.0]</td>\n",
              "      <td>[0.0]</td>\n",
              "      <td>neutral</td>\n",
              "      <td>[]</td>\n",
              "      <td>0</td>\n",
              "      <td>[]</td>\n",
              "      <td>0</td>\n",
              "      <td>0</td>\n",
              "      <td>neutral</td>\n",
              "      <td>[apply, message, match, criteria, ffffffkkkkkk]</td>\n",
              "    </tr>\n",
              "    <tr>\n",
              "      <th>4</th>\n",
              "      <td>after making pre closure for all my loan, stil...</td>\n",
              "      <td>[after, making, pre, closure, for, all, my, lo...</td>\n",
              "      <td>[pre, closure, emi, frustrating, friends]</td>\n",
              "      <td>[pre, closur, emi, frustrat, friend]</td>\n",
              "      <td>[pre, closure, emi, frustrate, friends]</td>\n",
              "      <td>[0.0, 0.0, 0.0, -2.0, 0.0]</td>\n",
              "      <td>[-2.0]</td>\n",
              "      <td>negative</td>\n",
              "      <td>[]</td>\n",
              "      <td>0</td>\n",
              "      <td>[frustrate]</td>\n",
              "      <td>1</td>\n",
              "      <td>-1</td>\n",
              "      <td>negative</td>\n",
              "      <td>[pre, closure, emi, friends]</td>\n",
              "    </tr>\n",
              "  </tbody>\n",
              "</table>\n",
              "</div>"
            ],
            "text/plain": [
              "                                            Comments  ...                                     Unknown Tokens\n",
              "0  i will not pay any money in future please keep...  ...  [future, mind, guy, reference, future, mind, 2...\n",
              "1  customer service num not response, my repaymen...  ...  [customer, service, num, response, repayment, ...\n",
              "2  please don't download this app this app , they...  ...       [download, payment, contact, send, reminder]\n",
              "3  what the hell is this once i get 1000 loan fro...  ...    [apply, message, match, criteria, ffffffkkkkkk]\n",
              "4  after making pre closure for all my loan, stil...  ...                       [pre, closure, emi, friends]\n",
              "\n",
              "[5 rows x 15 columns]"
            ]
          },
          "metadata": {},
          "execution_count": 84
        }
      ]
    },
    {
      "cell_type": "markdown",
      "metadata": {
        "id": "kwSvk0VV5FId"
      },
      "source": [
        "#Summary"
      ]
    },
    {
      "cell_type": "code",
      "metadata": {
        "colab": {
          "base_uri": "https://localhost:8080/",
          "height": 206
        },
        "id": "aptZ40QV5IKl",
        "outputId": "a52ba829-29ec-4246-c307-a6e144adb8e2"
      },
      "source": [
        "dataset['Afinn Sentiment']=df['Afinn Sentiment']\n",
        "dataset['Bing Sentiment']=df['Bing Sentiment']\n",
        "dataset.head()"
      ],
      "execution_count": null,
      "outputs": [
        {
          "output_type": "execute_result",
          "data": {
            "text/html": [
              "<div>\n",
              "<style scoped>\n",
              "    .dataframe tbody tr th:only-of-type {\n",
              "        vertical-align: middle;\n",
              "    }\n",
              "\n",
              "    .dataframe tbody tr th {\n",
              "        vertical-align: top;\n",
              "    }\n",
              "\n",
              "    .dataframe thead th {\n",
              "        text-align: right;\n",
              "    }\n",
              "</style>\n",
              "<table border=\"1\" class=\"dataframe\">\n",
              "  <thead>\n",
              "    <tr style=\"text-align: right;\">\n",
              "      <th></th>\n",
              "      <th>Sentiment</th>\n",
              "      <th>Comments</th>\n",
              "      <th>Afinn Sentiment</th>\n",
              "      <th>Bing Sentiment</th>\n",
              "    </tr>\n",
              "  </thead>\n",
              "  <tbody>\n",
              "    <tr>\n",
              "      <th>0</th>\n",
              "      <td>0</td>\n",
              "      <td>I will not pay any money in future please keep...</td>\n",
              "      <td>neutral</td>\n",
              "      <td>negative</td>\n",
              "    </tr>\n",
              "    <tr>\n",
              "      <th>1</th>\n",
              "      <td>0</td>\n",
              "      <td>Customer service num not response, My repaymen...</td>\n",
              "      <td>negative</td>\n",
              "      <td>negative</td>\n",
              "    </tr>\n",
              "    <tr>\n",
              "      <th>2</th>\n",
              "      <td>0</td>\n",
              "      <td>Please don't download this app this App , they...</td>\n",
              "      <td>negative</td>\n",
              "      <td>negative</td>\n",
              "    </tr>\n",
              "    <tr>\n",
              "      <th>3</th>\n",
              "      <td>0</td>\n",
              "      <td>What the hell is this once I get 1000 loan fro...</td>\n",
              "      <td>neutral</td>\n",
              "      <td>neutral</td>\n",
              "    </tr>\n",
              "    <tr>\n",
              "      <th>4</th>\n",
              "      <td>0</td>\n",
              "      <td>After making pre closure for all my loan, stil...</td>\n",
              "      <td>negative</td>\n",
              "      <td>negative</td>\n",
              "    </tr>\n",
              "  </tbody>\n",
              "</table>\n",
              "</div>"
            ],
            "text/plain": [
              "   Sentiment  ... Bing Sentiment\n",
              "0          0  ...       negative\n",
              "1          0  ...       negative\n",
              "2          0  ...       negative\n",
              "3          0  ...        neutral\n",
              "4          0  ...       negative\n",
              "\n",
              "[5 rows x 4 columns]"
            ]
          },
          "metadata": {},
          "execution_count": 86
        }
      ]
    },
    {
      "cell_type": "code",
      "metadata": {
        "colab": {
          "base_uri": "https://localhost:8080/"
        },
        "id": "cOOcDnJd5e0L",
        "outputId": "40951c41-28fe-4a4b-a4a5-ec27f36601a0"
      },
      "source": [
        "print(\"\\nCounting Afinn Sentiments\\n\",df['Afinn Sentiment'].value_counts())\n",
        "print(\"\\nCounting Bing Sentiments\\n\",df['Bing Sentiment'].value_counts())"
      ],
      "execution_count": null,
      "outputs": [
        {
          "output_type": "stream",
          "name": "stdout",
          "text": [
            "\n",
            "Counting Afinn Sentiments\n",
            " neutral     281\n",
            "positive    277\n",
            "negative    197\n",
            "Name: Afinn Sentiment, dtype: int64\n",
            "\n",
            "Counting Bing Sentiments\n",
            " neutral     329\n",
            "negative    232\n",
            "positive    194\n",
            "Name: Bing Sentiment, dtype: int64\n"
          ]
        }
      ]
    },
    {
      "cell_type": "markdown",
      "metadata": {
        "id": "GzQ6elTEujHu"
      },
      "source": [
        "#Export the processed dataframe to csv"
      ]
    },
    {
      "cell_type": "code",
      "metadata": {
        "colab": {
          "base_uri": "https://localhost:8080/",
          "height": 17
        },
        "id": "HvCH1CbsuuFb",
        "outputId": "e295978e-e21a-4116-b8fc-bdf02d4e8060"
      },
      "source": [
        "df.to_csv('processed tokens with Afinn & Bing sentiments.csv')\n",
        "files.download(\"processed tokens with Afinn & Bing sentiments.csv\")"
      ],
      "execution_count": null,
      "outputs": [
        {
          "output_type": "display_data",
          "data": {
            "application/javascript": [
              "\n",
              "    async function download(id, filename, size) {\n",
              "      if (!google.colab.kernel.accessAllowed) {\n",
              "        return;\n",
              "      }\n",
              "      const div = document.createElement('div');\n",
              "      const label = document.createElement('label');\n",
              "      label.textContent = `Downloading \"${filename}\": `;\n",
              "      div.appendChild(label);\n",
              "      const progress = document.createElement('progress');\n",
              "      progress.max = size;\n",
              "      div.appendChild(progress);\n",
              "      document.body.appendChild(div);\n",
              "\n",
              "      const buffers = [];\n",
              "      let downloaded = 0;\n",
              "\n",
              "      const channel = await google.colab.kernel.comms.open(id);\n",
              "      // Send a message to notify the kernel that we're ready.\n",
              "      channel.send({})\n",
              "\n",
              "      for await (const message of channel.messages) {\n",
              "        // Send a message to notify the kernel that we're ready.\n",
              "        channel.send({})\n",
              "        if (message.buffers) {\n",
              "          for (const buffer of message.buffers) {\n",
              "            buffers.push(buffer);\n",
              "            downloaded += buffer.byteLength;\n",
              "            progress.value = downloaded;\n",
              "          }\n",
              "        }\n",
              "      }\n",
              "      const blob = new Blob(buffers, {type: 'application/binary'});\n",
              "      const a = document.createElement('a');\n",
              "      a.href = window.URL.createObjectURL(blob);\n",
              "      a.download = filename;\n",
              "      div.appendChild(a);\n",
              "      a.click();\n",
              "      div.remove();\n",
              "    }\n",
              "  "
            ],
            "text/plain": [
              "<IPython.core.display.Javascript object>"
            ]
          },
          "metadata": {}
        },
        {
          "output_type": "display_data",
          "data": {
            "application/javascript": [
              "download(\"download_394f7419-b7f3-41dd-a7ed-19974bab5f16\", \"processed tokens with Afinn & Bing sentiments.csv\", 742687)"
            ],
            "text/plain": [
              "<IPython.core.display.Javascript object>"
            ]
          },
          "metadata": {}
        }
      ]
    },
    {
      "cell_type": "code",
      "metadata": {
        "colab": {
          "base_uri": "https://localhost:8080/",
          "height": 17
        },
        "id": "ebl3IQE751jE",
        "outputId": "6bb10708-6410-4f57-ef8d-e459e64a177d"
      },
      "source": [
        "dataset.to_csv('summary.csv')\n",
        "files.download(\"summary.csv\")"
      ],
      "execution_count": null,
      "outputs": [
        {
          "output_type": "display_data",
          "data": {
            "application/javascript": [
              "\n",
              "    async function download(id, filename, size) {\n",
              "      if (!google.colab.kernel.accessAllowed) {\n",
              "        return;\n",
              "      }\n",
              "      const div = document.createElement('div');\n",
              "      const label = document.createElement('label');\n",
              "      label.textContent = `Downloading \"${filename}\": `;\n",
              "      div.appendChild(label);\n",
              "      const progress = document.createElement('progress');\n",
              "      progress.max = size;\n",
              "      div.appendChild(progress);\n",
              "      document.body.appendChild(div);\n",
              "\n",
              "      const buffers = [];\n",
              "      let downloaded = 0;\n",
              "\n",
              "      const channel = await google.colab.kernel.comms.open(id);\n",
              "      // Send a message to notify the kernel that we're ready.\n",
              "      channel.send({})\n",
              "\n",
              "      for await (const message of channel.messages) {\n",
              "        // Send a message to notify the kernel that we're ready.\n",
              "        channel.send({})\n",
              "        if (message.buffers) {\n",
              "          for (const buffer of message.buffers) {\n",
              "            buffers.push(buffer);\n",
              "            downloaded += buffer.byteLength;\n",
              "            progress.value = downloaded;\n",
              "          }\n",
              "        }\n",
              "      }\n",
              "      const blob = new Blob(buffers, {type: 'application/binary'});\n",
              "      const a = document.createElement('a');\n",
              "      a.href = window.URL.createObjectURL(blob);\n",
              "      a.download = filename;\n",
              "      div.appendChild(a);\n",
              "      a.click();\n",
              "      div.remove();\n",
              "    }\n",
              "  "
            ],
            "text/plain": [
              "<IPython.core.display.Javascript object>"
            ]
          },
          "metadata": {}
        },
        {
          "output_type": "display_data",
          "data": {
            "application/javascript": [
              "download(\"download_24c3ebd3-11c8-4152-9e80-74636e2afa60\", \"summary.csv\", 160657)"
            ],
            "text/plain": [
              "<IPython.core.display.Javascript object>"
            ]
          },
          "metadata": {}
        }
      ]
    }
  ]
}